{
 "cells": [
  {
   "cell_type": "code",
   "execution_count": 1,
   "metadata": {},
   "outputs": [],
   "source": [
    "# api\n",
    "from mpcontribs.client import Client\n",
    "\n",
    "import pandas as pd\n",
    "import json"
   ]
  },
  {
   "cell_type": "code",
   "execution_count": 4,
   "metadata": {},
   "outputs": [],
   "source": [
    "client = Client(\"JJtshsjZYyM4l5G3ynCGU0oTkPmuxC1g\", project='qmof')"
   ]
  },
  {
   "cell_type": "code",
   "execution_count": 5,
   "metadata": {},
   "outputs": [
    {
     "data": {
      "application/vnd.jupyter.widget-view+json": {
       "model_id": "e8bd64702f814204908437541027c62c",
       "version_major": 2,
       "version_minor": 0
      },
      "text/plain": [
       "Identifiers:  50%|#####     | 7/14 [00:06<00:06,  1.08it/s]"
      ]
     },
     "metadata": {},
     "output_type": "display_data"
    }
   ],
   "source": [
    "ids = client.get_all_ids()['qmof']"
   ]
  },
  {
   "cell_type": "code",
   "execution_count": 4,
   "metadata": {},
   "outputs": [],
   "source": [
    "df = pd.DataFrame(columns=[\"filename\", \"natoms\", \"pld\", \"lcd\", \n",
    "                           \"density\", \"netPBEMagmom\", \"reducedFormula\", \"spacegroup\", \"spacegroupNumber\",\n",
    "                           \"pointgroup\", \"spacegroupCrystal\", \"synthesized\", \"source\", \"smiles\", \"smilesNodes\", \n",
    "                           \"smilesLinkers\", \"mofid\", \"mofkey\", \"topology\", \"EgPBE\", \"hasProps\", \"volume\", \"chemsys\",\n",
    "                           \"maxPBEChargeDDEC\", \"maxPBEChargeCM5\", \"maxPBEMagmom\", \"maxPBESpinDDEC\", \n",
    "                           \"a\", \"b\", \"c\", \"alpha\", \"betta\", \"gamma\"])"
   ]
  },
  {
   "cell_type": "markdown",
   "metadata": {},
   "source": [
    "### Download QMOF descriptors "
   ]
  },
  {
   "cell_type": "code",
   "execution_count": null,
   "metadata": {},
   "outputs": [],
   "source": [
    "i=0\n",
    "for id in ids['ids']:\n",
    "    contribution = client.get_contribution(id)\n",
    "    try:\n",
    "        # data\n",
    "        data = contribution['data']\n",
    "        data_row = [data['filename'], data['natoms']['value'], data['pld']['value'],\n",
    "                    data['lcd']['value'], data['density']['value'], \n",
    "                    data['netPBEMagmom']['value'],data['reducedFormula'], data['spacegroup'],\n",
    "                    data['spacegroupNumber'], data['pointgroup'], data['spacegroupCrystal'], \n",
    "                    data['synthesized'], data['source'], data['smiles'], data['smilesNodes'],\n",
    "                    data['smilesLinkers'], data['mofid'], data['mofkey'], data['topology'], \n",
    "                    data['EgPBE']['value'], data['hasProps'], data['volume']['value'],\n",
    "                    data['chemsys'], data['maxPBEChargeDDEC']['value'],data['maxPBEChargeCM5']['value'],\n",
    "                    data['maxPBEMagmom']['value'], data['maxPBESpinDDEC']['value']]\n",
    "    \n",
    "        # abc\n",
    "        str = client.get_structure(contribution['structures'][0]['id']).as_dict()[\"lattice\"]\n",
    "\n",
    "        str_row = [str['a'],str['b'], str['c'], str['alpha'], str['beta'], str['gamma']]\n",
    "        df.loc[i] = data_row + str_row\n",
    "        i+=1\n",
    "    except KeyError:\n",
    "        print('no mofid')\n",
    "    print(i)\n"
   ]
  },
  {
   "cell_type": "code",
   "execution_count": 6,
   "metadata": {},
   "outputs": [],
   "source": [
    "df.to_csv('data/qmof_property_cell.csv')"
   ]
  },
  {
   "cell_type": "markdown",
   "metadata": {},
   "source": [
    "### Download QMOF links (id, CSD Refcode, DOI )"
   ]
  },
  {
   "cell_type": "code",
   "execution_count": null,
   "metadata": {},
   "outputs": [],
   "source": [
    "struct_links = pd.DataFrame(columns=[\"filename\", \"identifier\", \"csdRefcode\", \"doi\"])\n",
    "\n",
    "i=0\n",
    "for id in ids['ids']:\n",
    "    contribution = client.get_contribution(id)\n",
    "    try:\n",
    "        struct_links.loc[id] = [contribution[\"data\"][\"filename\"], contribution[\"identifier\"], contribution[\"data\"][\"csdRefcode\"], contribution[\"data\"][\"doi\"]]\n",
    "        i+=1\n",
    "    except KeyError:\n",
    "        print('Error')\n",
    "    print(i)\n",
    "\n",
    "struct_links.to_csv(\"data/qmof_links.csv\")"
   ]
  },
  {
   "cell_type": "code",
   "execution_count": null,
   "metadata": {},
   "outputs": [],
   "source": []
  }
 ],
 "metadata": {
  "kernelspec": {
   "display_name": "Python 3",
   "language": "python",
   "name": "python3"
  },
  "language_info": {
   "codemirror_mode": {
    "name": "ipython",
    "version": 3
   },
   "file_extension": ".py",
   "mimetype": "text/x-python",
   "name": "python",
   "nbconvert_exporter": "python",
   "pygments_lexer": "ipython3",
   "version": "3.10.11"
  },
  "orig_nbformat": 4
 },
 "nbformat": 4,
 "nbformat_minor": 2
}
