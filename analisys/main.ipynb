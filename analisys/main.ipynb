{
 "cells": [
  {
   "cell_type": "code",
   "execution_count": 1,
   "metadata": {},
   "outputs": [],
   "source": [
    "from rdkit import Chem\n",
    "from rdkit.Chem import AllChem\n",
    "import numpy as np\n",
    "import pandas as pd"
   ]
  },
  {
   "cell_type": "code",
   "execution_count": 2,
   "metadata": {},
   "outputs": [],
   "source": [
    "def get_max_length(smiles: str) -> float:\n",
    "    mol = Chem.MolFromSmiles(smiles)\n",
    "    # Add hydrogen atoms to the molecule \n",
    "    mol = Chem.AddHs(mol)\n",
    "    # Generate 3D coordinates\n",
    "    AllChem.EmbedMolecule(mol, AllChem.ETKDG())\n",
    "\n",
    "    # Optimize the geometry\n",
    "    AllChem.UFFOptimizeMolecule(mol)\n",
    "\n",
    "    # Calculate the maximum distance between any two atoms\n",
    "    coords = mol.GetConformer().GetPositions()\n",
    "\n",
    "    return np.max([np.linalg.norm(coords[i]- coords[j]) for i in range(len(coords)) for j in range(i+1, len(coords))])\n"
   ]
  },
  {
   "cell_type": "code",
   "execution_count": 3,
   "metadata": {},
   "outputs": [],
   "source": [
    "# load predictions for QMOF\n",
    "tp = pd.read_csv(\"T_P_qmof.csv\", index_col=0)\n",
    "gm = pd.read_csv(\"ges_mol_qmof.csv\", index_col=0)\n",
    "no = pd.read_csv(\"no_pred_qmof.csv\", index_col=0)"
   ]
  },
  {
   "cell_type": "code",
   "execution_count": 4,
   "metadata": {},
   "outputs": [
    {
     "data": {
      "text/plain": [
       "(1646, 539, 5278)"
      ]
     },
     "execution_count": 4,
     "metadata": {},
     "output_type": "execute_result"
    }
   ],
   "source": [
    "len(tp),len(gm),len(no)"
   ]
  },
  {
   "cell_type": "code",
   "execution_count": 5,
   "metadata": {},
   "outputs": [
    {
     "data": {
      "text/plain": [
       "7463"
      ]
     },
     "execution_count": 5,
     "metadata": {},
     "output_type": "execute_result"
    }
   ],
   "source": [
    "len(tp)+len(gm)+len(no)"
   ]
  },
  {
   "cell_type": "code",
   "execution_count": 6,
   "metadata": {},
   "outputs": [],
   "source": [
    "# load linker data for QMOF\n",
    "data = pd.read_csv(\"../preprocessing/qmof/data/qmof_property_cell.csv\", index_col=1)"
   ]
  },
  {
   "cell_type": "code",
   "execution_count": 15,
   "metadata": {},
   "outputs": [
    {
     "name": "stderr",
     "output_type": "stream",
     "text": [
      "[23:36:26] UFFTYPER: Unrecognized atom type: S_5+4 (7)\n",
      "[23:36:26] UFFTYPER: Unrecognized atom type: S_5+4 (14)\n",
      "[23:36:26] UFFTYPER: Unrecognized atom type: S_5+4 (7)\n",
      "[23:36:26] UFFTYPER: Unrecognized atom type: S_5+4 (14)\n",
      "[23:36:26] Can't kekulize mol.  Unkekulized atoms: 3 4 5 6 7 8 9\n"
     ]
    },
    {
     "name": "stdout",
     "output_type": "stream",
     "text": [
      "[O-]C(=O)c1ccc2c(c1)c[n-][nH]2\n"
     ]
    },
    {
     "name": "stderr",
     "output_type": "stream",
     "text": [
      "[23:36:27] Explicit valence for atom # 3 N, 4, is greater than permitted\n"
     ]
    },
    {
     "name": "stdout",
     "output_type": "stream",
     "text": [
      "COC1=[N]=C(OC)C(=C([C]1OC)c1c(I)c(I)c(c(c1I)I)C1=C(OC)C(=[N]=C([C]1OC)OC)OC)OC\n"
     ]
    },
    {
     "name": "stderr",
     "output_type": "stream",
     "text": [
      "[23:36:28] Explicit valence for atom # 8 N, 4, is greater than permitted\n"
     ]
    },
    {
     "name": "stdout",
     "output_type": "stream",
     "text": [
      "N#Cc1c(C#N)c2C(=[N]=C(c3c2c2c1C(=[N]=C(c2c(c3C#N)C#N)O)O)O)O\n"
     ]
    },
    {
     "name": "stderr",
     "output_type": "stream",
     "text": [
      "[23:36:29] Explicit valence for atom # 12 N, 4, is greater than permitted\n"
     ]
    },
    {
     "name": "stdout",
     "output_type": "stream",
     "text": [
      "OC(=O)c1c(C(=O)O)c(C2=NC3=[N]=C(N=C4N3C(=NC(=N4)c3c(C(=O)O)c(C(=O)O)c(c(c3C(=O)O)C(=O)O)C(=O)[O-])[N]2)c2c(C(=O)O)c(C(=O)O)c(c(c2C(=O)O)C(=O)O)C(=O)[O-])c(c(c1C(=O)[O-])C(=O)O)C(=O)O\n"
     ]
    },
    {
     "name": "stderr",
     "output_type": "stream",
     "text": [
      "[23:36:31] Explicit valence for atom # 14 N, 4, is greater than permitted\n"
     ]
    },
    {
     "name": "stdout",
     "output_type": "stream",
     "text": [
      "[O-]C(=O)c1ccc2c(c1)ccc(c2)C1=[N]=C2N=C([N]1)c1ccc3c(c1)ccc(-c1c(-c4cc5ccc2cc5cc4)cc2-c4ccc5c(c4)ccc(c5)C4=NC(=[N]=C([N]4)c4ccc5c(c4)ccc(c5)C(=O)[O-])c4cc5ccc(-c2c1)cc5cc4)c3\n"
     ]
    },
    {
     "name": "stderr",
     "output_type": "stream",
     "text": [
      "[23:36:32] Explicit valence for atom # 3 N, 4, is greater than permitted\n"
     ]
    },
    {
     "name": "stdout",
     "output_type": "stream",
     "text": [
      "Br[N]C(=[NH2])C(=N)Br\n"
     ]
    },
    {
     "name": "stderr",
     "output_type": "stream",
     "text": [
      "[23:36:32] UFFTYPER: Unrecognized atom type: S_5+4 (9)\n",
      "[23:36:32] UFFTYPER: Unrecognized atom type: S_5+4 (19)\n",
      "[23:36:32] UFFTYPER: Unrecognized atom type: S_5+4 (26)\n",
      "[23:36:32] UFFTYPER: Unrecognized atom type: S_5+4 (30)\n",
      "[23:36:32] UFFTYPER: Unrecognized atom type: S_5+4 (9)\n",
      "[23:36:32] UFFTYPER: Unrecognized atom type: S_5+4 (19)\n",
      "[23:36:32] UFFTYPER: Unrecognized atom type: S_5+4 (26)\n",
      "[23:36:32] UFFTYPER: Unrecognized atom type: S_5+4 (30)\n",
      "[23:36:34] Explicit valence for atom # 2 N, 4, is greater than permitted\n"
     ]
    },
    {
     "name": "stdout",
     "output_type": "stream",
     "text": [
      "NC1=[N]=C(N=N1)N\n"
     ]
    },
    {
     "name": "stderr",
     "output_type": "stream",
     "text": [
      "[23:36:35] Explicit valence for atom # 13 N, 4, is greater than permitted\n"
     ]
    },
    {
     "name": "stdout",
     "output_type": "stream",
     "text": [
      "[O-]C(=O)c1ccc(cc1F)C1=NC2=[N]=C(N=C3N2C(=NC(=N3)c2ccc(c(c2)F)C(=O)[O-])[N]1)c1ccc(c(c1)F)C(=O)[O-]\n"
     ]
    },
    {
     "name": "stderr",
     "output_type": "stream",
     "text": [
      "[23:36:35] UFFTYPER: Unrecognized atom type: S_5+4 (17)\n",
      "[23:36:35] UFFTYPER: Unrecognized atom type: S_5+4 (17)\n",
      "[23:36:35] UFFTYPER: Unrecognized atom type: S_5+4 (14)\n",
      "[23:36:35] UFFTYPER: Unrecognized atom type: S_5+4 (14)\n",
      "[23:36:36] Explicit valence for atom # 1 N, 4, is greater than permitted\n"
     ]
    },
    {
     "name": "stdout",
     "output_type": "stream",
     "text": [
      "C[NH]=C(C#CC(=O)[O-])[CH]C#CC(=O)[O-]\n"
     ]
    },
    {
     "name": "stderr",
     "output_type": "stream",
     "text": [
      "[23:36:38] UFFTYPER: Unrecognized atom type: S_5+4 (9)\n",
      "[23:36:38] UFFTYPER: Unrecognized atom type: S_5+4 (21)\n",
      "[23:36:38] UFFTYPER: Unrecognized atom type: S_5+4 (9)\n",
      "[23:36:38] UFFTYPER: Unrecognized atom type: S_5+4 (21)\n",
      "[23:36:38] UFFTYPER: Unrecognized atom type: S_5+4 (17)\n",
      "[23:36:38] UFFTYPER: Unrecognized atom type: S_5+4 (17)\n",
      "[23:36:38] Explicit valence for atom # 4 N, 4, is greater than permitted\n"
     ]
    },
    {
     "name": "stdout",
     "output_type": "stream",
     "text": [
      "NC1=NC(=[N]=C([N]1)N)N\n"
     ]
    },
    {
     "name": "stderr",
     "output_type": "stream",
     "text": [
      "[23:36:39] Can't kekulize mol.  Unkekulized atoms: 9 10 14\n",
      "[23:36:39] Explicit valence for atom # 4 N, 4, is greater than permitted\n"
     ]
    },
    {
     "name": "stdout",
     "output_type": "stream",
     "text": [
      "[O-]C(=O)c1ccc(cc1)c1c(C)[n-][nH]c1C\n",
      "CCOC1=[N]=C(OCC)C(=C([C]1OCC)c1c(OCC)cc(cc1OCC)c1ccncc1)OCC\n"
     ]
    },
    {
     "name": "stderr",
     "output_type": "stream",
     "text": [
      "[23:36:39] UFFTYPER: Unrecognized atom type: S_5+4 (9)\n",
      "[23:36:39] UFFTYPER: Unrecognized atom type: S_5+4 (16)\n",
      "[23:36:39] UFFTYPER: Unrecognized atom type: S_5+4 (9)\n",
      "[23:36:39] UFFTYPER: Unrecognized atom type: S_5+4 (16)\n",
      "[23:36:39] UFFTYPER: Unrecognized atom type: S_5+4 (9)\n",
      "[23:36:39] UFFTYPER: Unrecognized atom type: S_5+4 (16)\n",
      "[23:36:39] UFFTYPER: Unrecognized atom type: S_5+4 (9)\n",
      "[23:36:39] UFFTYPER: Unrecognized atom type: S_5+4 (16)\n",
      "[23:36:39] UFFTYPER: Unrecognized atom type: S_5+4 (9)\n",
      "[23:36:39] UFFTYPER: Unrecognized atom type: S_5+4 (16)\n",
      "[23:36:39] UFFTYPER: Unrecognized atom type: S_5+4 (9)\n",
      "[23:36:39] UFFTYPER: Unrecognized atom type: S_5+4 (16)\n",
      "[23:36:39] UFFTYPER: Unrecognized atom type: S_5+4 (9)\n",
      "[23:36:39] UFFTYPER: Unrecognized atom type: S_5+4 (16)\n",
      "[23:36:39] UFFTYPER: Unrecognized atom type: S_5+4 (9)\n",
      "[23:36:39] UFFTYPER: Unrecognized atom type: S_5+4 (16)\n",
      "[23:36:42] Explicit valence for atom # 6 N, 4, is greater than permitted\n"
     ]
    },
    {
     "name": "stdout",
     "output_type": "stream",
     "text": [
      "Nc1c(C2=NC(=[N]=C([N]2)c2c(N)c(N)c(c(c2N)N)C(=O)[O-])c2c(N)c(N)c(c(c2N)N)C(=O)[O-])c(N)c(c(c1N)C(=O)[O-])N\n"
     ]
    },
    {
     "name": "stderr",
     "output_type": "stream",
     "text": [
      "[23:36:42] Explicit valence for atom # 5 N, 4, is greater than permitted\n"
     ]
    },
    {
     "name": "stdout",
     "output_type": "stream",
     "text": [
      "CCCOC1=[N]=C(C=C([CH]1)C#Cc1ccncc1)OCCC\n"
     ]
    },
    {
     "name": "stderr",
     "output_type": "stream",
     "text": [
      "[23:36:45] UFFTYPER: Warning: hybridization set to SP3 for atom 4\n",
      "[23:36:45] UFFTYPER: Warning: hybridization set to SP3 for atom 4\n",
      "[23:36:46] Explicit valence for atom # 4 N, 4, is greater than permitted\n"
     ]
    },
    {
     "name": "stdout",
     "output_type": "stream",
     "text": [
      "CCOC1=[N]=C(OCC)C(=C([C]1OCC)c1c(OCC)c(OCC)c(c(c1OCC)OCC)C1=C(OCC)C(=[N]=C([C]1OCC)OCC)OCC)OCC\n"
     ]
    },
    {
     "name": "stderr",
     "output_type": "stream",
     "text": [
      "[23:36:47] UFFTYPER: Unrecognized atom type: S_5+4 (14)\n",
      "[23:36:47] UFFTYPER: Unrecognized atom type: S_5+4 (14)\n",
      "[23:36:48] Explicit valence for atom # 14 N, 4, is greater than permitted\n"
     ]
    },
    {
     "name": "stdout",
     "output_type": "stream",
     "text": [
      "[O-]C(=O)c1c(C)cc(cc1C)C1=NC(=[N]=C([N]1)c1cc(C)c(c(c1)C)C(=O)[O-])c1cc(C)c(c(c1)C)C(=O)[O-]\n"
     ]
    },
    {
     "name": "stderr",
     "output_type": "stream",
     "text": [
      "[23:36:49] Explicit valence for atom # 12 N, 4, is greater than permitted\n",
      "[23:36:49] Explicit valence for atom # 1 N, 4, is greater than permitted\n"
     ]
    },
    {
     "name": "stdout",
     "output_type": "stream",
     "text": [
      "[O-]C(=O)c1ccc(cc1)C1=NC(=[N]=C([N]1)c1ccc(cc1)C1=[N]=C(N=C([N]1)c1ccc(cc1)C(=O)[O-])c1ccc(cc1)C(=O)[O-])c1ccc(cc1)C(=O)[O-]\n",
      "C[NH]=C(C(=[NH]C)C#N)C#N\n"
     ]
    },
    {
     "name": "stderr",
     "output_type": "stream",
     "text": [
      "[23:36:50] Explicit valence for atom # 14 N, 4, is greater than permitted\n",
      "[23:36:50] Explicit valence for atom # 14 N, 4, is greater than permitted\n",
      "[23:36:50] Explicit valence for atom # 12 N, 4, is greater than permitted\n",
      "[23:36:50] Explicit valence for atom # 12 N, 4, is greater than permitted\n"
     ]
    },
    {
     "name": "stdout",
     "output_type": "stream",
     "text": [
      "N1=C[C](C=N1)c1ccc(cc1)C1=NC(=[N]=C([N]1)c1ccc(cc1)C1=C[N]N=C1)c1ccc(cc1)C1=CN=N[CH]1\n",
      "N1=C[C](C=N1)c1ccc(cc1)C1=NC(=[N]=C([N]1)c1ccc(cc1)[C]1C=NN=C1)c1ccc(cc1)C1=C[N]N=C1\n",
      "N1=C[C](C=N1)c1ccc(cc1)C1=[N]=C(N=C([N]1)c1ccc(cc1)C1=C[N]N=C1)c1ccc(cc1)[C]1C=NN=C1\n",
      "N1=C[C](C=N1)c1ccc(cc1)C1=[N]=C([N]C(=N1)c1ccc(cc1)C1=C[N]N=C1)c1ccc(cc1)C1=C[N]N=C1\n"
     ]
    },
    {
     "name": "stderr",
     "output_type": "stream",
     "text": [
      "[23:36:50] Explicit valence for atom # 16 N, 4, is greater than permitted\n"
     ]
    },
    {
     "name": "stdout",
     "output_type": "stream",
     "text": [
      "CNc1c(c(NC)c(c(c1NC)C1=C(O)C(=[N]=C([C]1O)O)O)NC)[C]1[C](O)C(=[N]=C([C]1O)O)O\n"
     ]
    },
    {
     "name": "stderr",
     "output_type": "stream",
     "text": [
      "[23:36:51] Explicit valence for atom # 9 N, 4, is greater than permitted\n"
     ]
    },
    {
     "name": "stdout",
     "output_type": "stream",
     "text": [
      "n1ccc(cc1)C1=NC(=[N]=C([N]1)c1ccncc1)c1ccncc1\n"
     ]
    },
    {
     "name": "stderr",
     "output_type": "stream",
     "text": [
      "[23:36:52] UFFTYPER: Unrecognized atom type: S_5+4 (22)\n",
      "[23:36:52] UFFTYPER: Unrecognized atom type: S_5+4 (26)\n",
      "[23:36:52] UFFTYPER: Unrecognized atom type: S_5+4 (22)\n",
      "[23:36:52] UFFTYPER: Unrecognized atom type: S_5+4 (26)\n",
      "[23:36:52] UFFTYPER: Unrecognized atom type: S_5+4 (1)\n",
      "[23:36:52] UFFTYPER: Unrecognized atom type: S_5+4 (18)\n",
      "[23:36:52] UFFTYPER: Unrecognized atom type: S_5+4 (1)\n",
      "[23:36:52] UFFTYPER: Unrecognized atom type: S_5+4 (18)\n",
      "[23:36:52] UFFTYPER: Unrecognized atom type: S_5+4 (1)\n",
      "[23:36:52] UFFTYPER: Unrecognized atom type: S_5+4 (18)\n",
      "[23:36:52] UFFTYPER: Unrecognized atom type: S_5+4 (1)\n",
      "[23:36:52] UFFTYPER: Unrecognized atom type: S_5+4 (18)\n",
      "[23:36:56] UFFTYPER: Unrecognized atom type: S_5+4 (13)\n",
      "[23:36:56] UFFTYPER: Unrecognized atom type: S_5+4 (17)\n",
      "[23:36:56] UFFTYPER: Unrecognized atom type: S_5+4 (13)\n",
      "[23:36:56] UFFTYPER: Unrecognized atom type: S_5+4 (17)\n",
      "[23:36:58] UFFTYPER: Unrecognized atom type: S_5+4 (12)\n",
      "[23:36:58] UFFTYPER: Unrecognized atom type: S_5+4 (12)\n",
      "[23:36:58] UFFTYPER: Unrecognized atom type: S_5+4 (15)\n",
      "[23:36:58] UFFTYPER: Unrecognized atom type: S_5+4 (22)\n",
      "[23:36:58] UFFTYPER: Unrecognized atom type: S_5+4 (15)\n",
      "[23:36:58] UFFTYPER: Unrecognized atom type: S_5+4 (22)\n",
      "[23:36:58] Can't kekulize mol.  Unkekulized atoms: 3 6 7\n"
     ]
    },
    {
     "name": "stdout",
     "output_type": "stream",
     "text": [
      "[O-]C(=O)c1[nH][n-]c(c1Br)C(=O)[O-]\n"
     ]
    },
    {
     "name": "stderr",
     "output_type": "stream",
     "text": [
      "[23:36:59] Can't kekulize mol.  Unkekulized atoms: 3 4 5\n"
     ]
    },
    {
     "name": "stdout",
     "output_type": "stream",
     "text": [
      "CCCc1c(c[n-]n1c1ccc2c(c1)c(F)cc(c2)[C]1C=NN=C1F)c1ccc(cc1)c1cc(F)c(c(c1)F)[C]1C=NN=C1\n"
     ]
    },
    {
     "name": "stderr",
     "output_type": "stream",
     "text": [
      "[23:37:00] Explicit valence for atom # 8 N, 4, is greater than permitted\n",
      "[23:37:00] Explicit valence for atom # 8 N, 4, is greater than permitted\n",
      "[23:37:00] Explicit valence for atom # 8 N, 4, is greater than permitted\n",
      "[23:37:00] Explicit valence for atom # 6 N, 4, is greater than permitted\n",
      "[23:37:00] Explicit valence for atom # 14 N, 4, is greater than permitted\n"
     ]
    },
    {
     "name": "stdout",
     "output_type": "stream",
     "text": [
      "N1=CC(=C[N]1)C1=NC(=[N]=C([N]1)C1=C[N]N=C1)C1=C[N]N=C1\n",
      "N1=C[C](C=N1)C1=NC(=[N]=C([N]1)C1=C[N]N=C1)C1=C[N]N=C1\n",
      "N1=C[C](C=N1)C1=NC(=[N]=C([N]1)[C]1C=NN=C1)[C]1C=NN=C1\n",
      "N1=NC=C([CH]1)C1=[N]=C(N=C([N]1)C1=C[N]N=C1)[C]1C=NN=C1\n",
      "[O-]C(=O)c1c(N)cc(cc1N)C1=NC(=[N]=C([N]1)c1cc(N)c(c(c1)N)C(=O)[O-])c1cc(N)c(c(c1)N)C(=O)[O-]\n"
     ]
    },
    {
     "name": "stderr",
     "output_type": "stream",
     "text": [
      "[23:37:00] Explicit valence for atom # 9 N, 4, is greater than permitted\n"
     ]
    },
    {
     "name": "stdout",
     "output_type": "stream",
     "text": [
      "n1ccc(cc1)C1=NC(=[N]=C([N]1)c1ccncc1)c1ccncc1\n"
     ]
    },
    {
     "name": "stderr",
     "output_type": "stream",
     "text": [
      "[23:37:02] UFFTYPER: Unrecognized atom type: S_5+4 (13)\n",
      "[23:37:02] UFFTYPER: Unrecognized atom type: S_5+4 (17)\n",
      "[23:37:02] UFFTYPER: Unrecognized atom type: S_5+4 (13)\n",
      "[23:37:02] UFFTYPER: Unrecognized atom type: S_5+4 (17)\n",
      "[23:37:05] UFFTYPER: Unrecognized atom type: S_5+4 (9)\n",
      "[23:37:05] UFFTYPER: Unrecognized atom type: S_5+4 (9)\n",
      "[23:37:06] Explicit valence for atom # 9 N, 4, is greater than permitted\n"
     ]
    },
    {
     "name": "stdout",
     "output_type": "stream",
     "text": [
      "n1ccc(cc1)C1=NC(=[N]=C([N]1)c1ccncc1)c1ccncc1\n"
     ]
    },
    {
     "name": "stderr",
     "output_type": "stream",
     "text": [
      "[23:37:07] UFFTYPER: Unrecognized atom type: S_5+4 (9)\n",
      "[23:37:07] UFFTYPER: Unrecognized atom type: S_5+4 (21)\n",
      "[23:37:07] UFFTYPER: Unrecognized atom type: S_5+4 (9)\n",
      "[23:37:07] UFFTYPER: Unrecognized atom type: S_5+4 (21)\n",
      "[23:37:09] Explicit valence for atom # 14 N, 4, is greater than permitted\n"
     ]
    },
    {
     "name": "stdout",
     "output_type": "stream",
     "text": [
      "[O-]C(=O)c1ccc2c(c1)ccc(c2)C1=[N]=C2N=C([N]1)c1ccc3c(c1)ccc(-c1c(-c4cc5ccc2cc5cc4)cc2-c4ccc5c(c4)ccc(c5)C4=NC(=[N]=C([N]4)c4ccc5c(c4)ccc(c5)C(=O)[O-])c4cc5ccc(-c2c1)cc5cc4)c3\n"
     ]
    },
    {
     "name": "stderr",
     "output_type": "stream",
     "text": [
      "[23:37:10] UFFTYPER: Unrecognized atom type: S_5+4 (17)\n",
      "[23:37:10] UFFTYPER: Unrecognized atom type: S_5+4 (17)\n",
      "[23:37:11] UFFTYPER: Unrecognized atom type: S_5+4 (17)\n",
      "[23:37:11] UFFTYPER: Unrecognized atom type: S_5+4 (17)\n",
      "[23:37:11] Explicit valence for atom # 16 N, 4, is greater than permitted\n"
     ]
    },
    {
     "name": "stdout",
     "output_type": "stream",
     "text": [
      "[O-]C(=O)C#CC12CCC(C(C1N)N)(C(C2N)([NH3])S([O])([O])[O])C#CC(=O)[O-]\n"
     ]
    },
    {
     "name": "stderr",
     "output_type": "stream",
     "text": [
      "[23:37:11] UFFTYPER: Unrecognized atom type: S_5+4 (24)\n",
      "[23:37:11] UFFTYPER: Unrecognized atom type: S_5+4 (24)\n",
      "[23:37:11] UFFTYPER: Unrecognized atom type: S_5+4 (1)\n",
      "[23:37:11] UFFTYPER: Unrecognized atom type: S_5+4 (1)\n",
      "[23:37:12] Explicit valence for atom # 13 N, 4, is greater than permitted\n",
      "[23:37:12] UFFTYPER: Unrecognized atom type: S_5+4 (21)\n",
      "[23:37:12] UFFTYPER: Unrecognized atom type: S_5+4 (21)\n",
      "[23:37:13] UFFTYPER: Unrecognized atom type: S_5+4 (11)\n",
      "[23:37:13] UFFTYPER: Unrecognized atom type: S_5+4 (20)\n",
      "[23:37:13] UFFTYPER: Unrecognized atom type: S_5+4 (11)\n",
      "[23:37:13] UFFTYPER: Unrecognized atom type: S_5+4 (20)\n"
     ]
    },
    {
     "name": "stdout",
     "output_type": "stream",
     "text": [
      "[O-]C(=O)c1ccc(cc1Cl)C1=NC2=[N]=C(N=C3N2C(=NC(=N3)c2ccc(c(c2)Cl)C(=O)[O-])[N]1)c1ccc(c(c1)Cl)C(=O)[O-]\n"
     ]
    },
    {
     "name": "stderr",
     "output_type": "stream",
     "text": [
      "[23:37:13] UFFTYPER: Unrecognized atom type: S_5+4 (18)\n",
      "[23:37:13] UFFTYPER: Unrecognized atom type: S_5+4 (18)\n",
      "[23:37:13] UFFTYPER: Unrecognized atom type: S_5+4 (22)\n",
      "[23:37:13] UFFTYPER: Unrecognized atom type: S_5+4 (26)\n",
      "[23:37:13] UFFTYPER: Unrecognized atom type: S_5+4 (30)\n",
      "[23:37:13] UFFTYPER: Unrecognized atom type: S_5+4 (22)\n",
      "[23:37:13] UFFTYPER: Unrecognized atom type: S_5+4 (26)\n",
      "[23:37:13] UFFTYPER: Unrecognized atom type: S_5+4 (30)\n",
      "[23:37:13] UFFTYPER: Unrecognized atom type: S_5+4 (22)\n",
      "[23:37:13] UFFTYPER: Unrecognized atom type: S_5+4 (22)\n",
      "[23:37:13] UFFTYPER: Unrecognized atom type: S_5+4 (11)\n",
      "[23:37:13] UFFTYPER: Unrecognized atom type: S_5+4 (19)\n",
      "[23:37:13] UFFTYPER: Unrecognized atom type: S_5+4 (23)\n",
      "[23:37:13] UFFTYPER: Unrecognized atom type: S_5+4 (30)\n",
      "[23:37:13] UFFTYPER: Unrecognized atom type: S_5+4 (11)\n",
      "[23:37:13] UFFTYPER: Unrecognized atom type: S_5+4 (19)\n",
      "[23:37:13] UFFTYPER: Unrecognized atom type: S_5+4 (23)\n",
      "[23:37:13] UFFTYPER: Unrecognized atom type: S_5+4 (30)\n",
      "[23:37:13] UFFTYPER: Unrecognized atom type: S_5+4 (11)\n",
      "[23:37:13] UFFTYPER: Unrecognized atom type: S_5+4 (19)\n",
      "[23:37:13] UFFTYPER: Unrecognized atom type: S_5+4 (23)\n",
      "[23:37:13] UFFTYPER: Unrecognized atom type: S_5+4 (30)\n",
      "[23:37:13] UFFTYPER: Unrecognized atom type: S_5+4 (11)\n",
      "[23:37:13] UFFTYPER: Unrecognized atom type: S_5+4 (19)\n",
      "[23:37:13] UFFTYPER: Unrecognized atom type: S_5+4 (23)\n",
      "[23:37:13] UFFTYPER: Unrecognized atom type: S_5+4 (30)\n",
      "[23:37:13] UFFTYPER: Unrecognized atom type: S_5+4 (20)\n",
      "[23:37:13] UFFTYPER: Unrecognized atom type: S_5+4 (20)\n",
      "[23:37:13] UFFTYPER: Unrecognized atom type: S_5+4 (20)\n",
      "[23:37:13] UFFTYPER: Unrecognized atom type: S_5+4 (20)\n",
      "[23:37:13] Explicit valence for atom # 14 N, 4, is greater than permitted\n",
      "[23:37:13] Explicit valence for atom # 14 N, 4, is greater than permitted\n",
      "[23:37:13] Explicit valence for atom # 16 N, 4, is greater than permitted\n"
     ]
    },
    {
     "name": "stdout",
     "output_type": "stream",
     "text": [
      "[O-]C(=O)c1ccc(cc1)C1=C2C=CC3=[N]2[Zn]24n5c1ccc5C(=C1[N]2=C(C=C1)C(=c1n4c(=C3c2ccc(cc2)C(=O)O)cc1)c1ccc(cc1)C(=O)O)c1ccc(cc1)C(=O)[O-]\n",
      "[O-]C(=O)c1ccc(cc1)C1=C2C=CC3=[N]2[Zn]24n5c1ccc5C(=C1[N]2=C(C=C1)C(=c1n4c(=C3c2ccc(cc2)C(=O)[O-])cc1)c1ccc(cc1)C(=O)O)c1ccc(cc1)C(=O)O\n",
      "[O-]C(=O)c1ccc(cc1)C1=c2ccc3=C(C4=[N]5[Zn]6([N]7=C1C=CC7=C(c1ccc(cc1)C(=O)O)c1n6c(C(=C5C=C4)c4ccc(cc4)C(=O)O)cc1)n23)c1ccc(cc1)C(=O)[O-]\n"
     ]
    },
    {
     "name": "stderr",
     "output_type": "stream",
     "text": [
      "[23:37:14] Explicit valence for atom # 7 N, 4, is greater than permitted\n",
      "[23:37:14] Explicit valence for atom # 15 N, 4, is greater than permitted\n"
     ]
    },
    {
     "name": "stdout",
     "output_type": "stream",
     "text": [
      "n1ccc(cc1)C1=[N]=C(N=N1)c1ccncc1\n",
      "O=N(=O)c1cc(ccc1C(=O)[O-])C1=NC2=[N]=C(N=C3N2C(=NC(=N3)c2ccc(c(c2)N(=O)=O)C(=O)[O-])[N]1)c1ccc(c(c1)N(=O)=O)C(=O)[O-]\n"
     ]
    },
    {
     "name": "stderr",
     "output_type": "stream",
     "text": [
      "[23:37:15] UFFTYPER: Unrecognized atom type: S_5+4 (14)\n",
      "[23:37:15] UFFTYPER: Unrecognized atom type: S_5+4 (14)\n",
      "[23:37:15] UFFTYPER: Unrecognized atom type: S_5+4 (14)\n",
      "[23:37:15] UFFTYPER: Unrecognized atom type: S_5+4 (14)\n",
      "[23:37:15] UFFTYPER: Unrecognized atom type: S_5+4 (14)\n",
      "[23:37:15] UFFTYPER: Unrecognized atom type: S_5+4 (14)\n",
      "[23:37:16] Explicit valence for atom # 10 N, 4, is greater than permitted\n",
      "[23:37:16] Explicit valence for atom # 10 N, 4, is greater than permitted\n",
      "[23:37:16] Explicit valence for atom # 10 N, 4, is greater than permitted\n",
      "[23:37:16] Explicit valence for atom # 10 N, 4, is greater than permitted\n"
     ]
    },
    {
     "name": "stdout",
     "output_type": "stream",
     "text": [
      "C(=C[C]1C=NN=C1)C=CC1=[N]=C(N=C([N]1)C=CC=CC1=CN=N[CH]1)C=CC=CC1=C[N]N=C1\n",
      "C(=C[C]1C=NN=C1)C=CC1=[N]=C(N=C([N]1)C=CC=CC1=C[N]N=C1)C=CC=CC1=CN=N[CH]1\n",
      "C(=C[C]1C=NN=C1)C=CC1=[N]=C([N]C(=N1)C=CC=CC1=C[N]N=C1)C=CC=CC1=CN=N[CH]1\n",
      "C(=C[C]1C=NN=C1)C=CC1=[N]=C([N]C(=N1)C=CC=CC1=C[N]N=C1)C=CC=CC1=C[N]N=C1\n"
     ]
    },
    {
     "name": "stderr",
     "output_type": "stream",
     "text": [
      "[23:37:17] UFFTYPER: Unrecognized atom type: S_5+4 (8)\n",
      "[23:37:17] UFFTYPER: Unrecognized atom type: S_5+4 (15)\n",
      "[23:37:17] UFFTYPER: Unrecognized atom type: S_5+4 (21)\n",
      "[23:37:17] UFFTYPER: Unrecognized atom type: S_5+4 (25)\n",
      "[23:37:17] UFFTYPER: Unrecognized atom type: S_5+4 (8)\n",
      "[23:37:17] UFFTYPER: Unrecognized atom type: S_5+4 (15)\n",
      "[23:37:17] UFFTYPER: Unrecognized atom type: S_5+4 (21)\n",
      "[23:37:17] UFFTYPER: Unrecognized atom type: S_5+4 (25)\n",
      "[23:37:17] UFFTYPER: Unrecognized atom type: S_5+4 (14)\n",
      "[23:37:17] UFFTYPER: Unrecognized atom type: S_5+4 (18)\n",
      "[23:37:17] UFFTYPER: Unrecognized atom type: S_5+4 (24)\n",
      "[23:37:17] UFFTYPER: Unrecognized atom type: S_5+4 (28)\n",
      "[23:37:17] UFFTYPER: Unrecognized atom type: S_5+4 (14)\n",
      "[23:37:17] UFFTYPER: Unrecognized atom type: S_5+4 (18)\n",
      "[23:37:17] UFFTYPER: Unrecognized atom type: S_5+4 (24)\n",
      "[23:37:17] UFFTYPER: Unrecognized atom type: S_5+4 (28)\n",
      "[23:37:17] UFFTYPER: Unrecognized atom type: S_5+4 (14)\n",
      "[23:37:17] UFFTYPER: Unrecognized atom type: S_5+4 (14)\n",
      "[23:37:17] UFFTYPER: Unrecognized atom type: S_5+4 (10)\n",
      "[23:37:17] UFFTYPER: Unrecognized atom type: S_5+4 (17)\n",
      "[23:37:17] UFFTYPER: Unrecognized atom type: S_5+4 (10)\n",
      "[23:37:17] UFFTYPER: Unrecognized atom type: S_5+4 (17)\n",
      "[23:37:17] UFFTYPER: Unrecognized atom type: S_5+4 (9)\n",
      "[23:37:17] UFFTYPER: Unrecognized atom type: S_5+4 (9)\n",
      "[23:37:17] UFFTYPER: Unrecognized atom type: S_5+4 (9)\n",
      "[23:37:17] UFFTYPER: Unrecognized atom type: S_5+4 (13)\n",
      "[23:37:17] UFFTYPER: Unrecognized atom type: S_5+4 (9)\n",
      "[23:37:17] UFFTYPER: Unrecognized atom type: S_5+4 (13)\n",
      "[23:37:20] Explicit valence for atom # 5 N, 4, is greater than permitted\n"
     ]
    },
    {
     "name": "stdout",
     "output_type": "stream",
     "text": [
      "CCCOC1=[N]=C(OCCC)C=C([CH]1)C1=CC(=[N]=C([CH]1)OCCC)OCCC\n"
     ]
    },
    {
     "name": "stderr",
     "output_type": "stream",
     "text": [
      "[23:37:22] UFFTYPER: Unrecognized atom type: S_5+4 (17)\n",
      "[23:37:22] UFFTYPER: Unrecognized atom type: S_5+4 (17)\n",
      "[23:37:22] UFFTYPER: Unrecognized atom type: S_5+4 (1)\n",
      "[23:37:22] UFFTYPER: Unrecognized atom type: S_5+4 (10)\n",
      "[23:37:22] UFFTYPER: Unrecognized atom type: S_5+4 (14)\n",
      "[23:37:22] UFFTYPER: Unrecognized atom type: S_5+4 (13)\n",
      "[23:37:22] UFFTYPER: Unrecognized atom type: S_5+4 (1)\n",
      "[23:37:22] UFFTYPER: Unrecognized atom type: S_5+4 (10)\n",
      "[23:37:22] UFFTYPER: Unrecognized atom type: S_5+4 (14)\n",
      "[23:37:22] UFFTYPER: Unrecognized atom type: S_5+4 (33)\n",
      "[23:37:23] UFFTYPER: Unrecognized atom type: S_5+4 (10)\n",
      "[23:37:23] UFFTYPER: Unrecognized atom type: S_5+4 (14)\n",
      "[23:37:23] UFFTYPER: Unrecognized atom type: S_5+4 (10)\n",
      "[23:37:23] UFFTYPER: Unrecognized atom type: S_5+4 (14)\n",
      "[23:37:23] UFFTYPER: Unrecognized atom type: S_5+4 (10)\n",
      "[23:37:23] UFFTYPER: Unrecognized atom type: S_5+4 (30)\n",
      "[23:37:23] UFFTYPER: Unrecognized atom type: S_5+4 (46)\n",
      "[23:37:23] UFFTYPER: Unrecognized atom type: S_5+4 (63)\n",
      "[23:37:23] UFFTYPER: Unrecognized atom type: S_5+4 (70)\n",
      "[23:37:23] UFFTYPER: Unrecognized atom type: S_5+4 (74)\n",
      "[23:37:23] UFFTYPER: Unrecognized atom type: S_5+4 (10)\n",
      "[23:37:23] UFFTYPER: Unrecognized atom type: S_5+4 (30)\n",
      "[23:37:23] UFFTYPER: Unrecognized atom type: S_5+4 (46)\n",
      "[23:37:23] UFFTYPER: Unrecognized atom type: S_5+4 (63)\n",
      "[23:37:23] UFFTYPER: Unrecognized atom type: S_5+4 (70)\n",
      "[23:37:23] UFFTYPER: Unrecognized atom type: S_5+4 (74)\n",
      "[23:37:24] UFFTYPER: Unrecognized atom type: S_5+4 (15)\n",
      "[23:37:24] UFFTYPER: Unrecognized atom type: S_5+4 (20)\n",
      "[23:37:24] UFFTYPER: Unrecognized atom type: S_5+4 (15)\n",
      "[23:37:24] UFFTYPER: Unrecognized atom type: S_5+4 (20)\n",
      "[23:37:25] UFFTYPER: Unrecognized atom type: S_5+4 (13)\n",
      "[23:37:25] UFFTYPER: Unrecognized atom type: S_5+4 (23)\n",
      "[23:37:25] UFFTYPER: Unrecognized atom type: S_5+4 (13)\n",
      "[23:37:25] UFFTYPER: Unrecognized atom type: S_5+4 (23)\n",
      "[23:37:25] Can't kekulize mol.  Unkekulized atoms: 9 10 14\n"
     ]
    },
    {
     "name": "stdout",
     "output_type": "stream",
     "text": [
      "[O-]C(=O)c1ccc(cc1)c1c(C)[n-][nH]c1C\n"
     ]
    },
    {
     "name": "stderr",
     "output_type": "stream",
     "text": [
      "[23:37:26] Can't kekulize mol.  Unkekulized atoms: 6 7 8\n"
     ]
    },
    {
     "name": "stdout",
     "output_type": "stream",
     "text": [
      "[O-]C(=O)Cn1[n-]cc(c1)C(=O)[O-]\n"
     ]
    },
    {
     "name": "stderr",
     "output_type": "stream",
     "text": [
      "[23:37:27] Explicit valence for atom # 16 N, 4, is greater than permitted\n"
     ]
    },
    {
     "name": "stdout",
     "output_type": "stream",
     "text": [
      "[O-]C(=O)c1c(C)cc(cc1C)C1=NC2=NC(=[N]=C3N2C(=[N]=C([N]3)c2cc(C)c(c(c2)C)C(=O)[O-])[N]1)c1cc(C)c(c(c1)C)C(=O)[O-]\n"
     ]
    },
    {
     "name": "stderr",
     "output_type": "stream",
     "text": [
      "[23:37:30] Explicit valence for atom # 16 N, 4, is greater than permitted\n"
     ]
    },
    {
     "name": "stdout",
     "output_type": "stream",
     "text": [
      "[O-]C(=O)c1ccc(cc1S(O)([O])[O])C1=NC2=[N]=C(N=C3N2C(=NC(=N3)c2ccc(c(c2)S([O])(O)[O])C(=O)[O-])[N]1)c1ccc(c(c1)S([O])([O])O)C(=O)[O-]\n"
     ]
    },
    {
     "name": "stderr",
     "output_type": "stream",
     "text": [
      "[23:37:33] Explicit valence for atom # 1 N, 4, is greater than permitted\n",
      "[23:37:33] Explicit valence for atom # 1 N, 4, is greater than permitted\n"
     ]
    },
    {
     "name": "stdout",
     "output_type": "stream",
     "text": [
      "C[NH]=C(C(=C(C(=O)[O-])OC)NC)[CH]C(=O)[O-]\n",
      "C[NH]=C(C(=[NH]C)[C](C(=O)[O-])OC)[CH]C(=O)[O-]\n"
     ]
    },
    {
     "name": "stderr",
     "output_type": "stream",
     "text": [
      "[23:37:35] Explicit valence for atom # 10 N, 4, is greater than permitted\n",
      "[23:37:35] Explicit valence for atom # 12 N, 4, is greater than permitted\n"
     ]
    },
    {
     "name": "stdout",
     "output_type": "stream",
     "text": [
      "C(=CC1=CN=N[CH]1)C=CC1=[N]=C([N]C(=N1)C=CC=C[C]1C=NN=C1)C=CC=C[C]1C=NN=C1\n",
      "C(=C[C]1C=NN=C1)C=CC1=NC(=[N]=C([N]1)C=CC=CC1=C[N]N=C1)C=CC=CC1=C[N]N=C1\n"
     ]
    },
    {
     "name": "stderr",
     "output_type": "stream",
     "text": [
      "[23:37:36] UFFTYPER: Unrecognized atom type: S_5+4 (1)\n",
      "[23:37:36] UFFTYPER: Unrecognized atom type: S_5+4 (16)\n",
      "[23:37:36] UFFTYPER: Unrecognized atom type: S_5+4 (1)\n",
      "[23:37:36] UFFTYPER: Unrecognized atom type: S_5+4 (16)\n",
      "[23:37:36] UFFTYPER: Unrecognized atom type: S_5+4 (1)\n",
      "[23:37:36] UFFTYPER: Unrecognized atom type: S_5+4 (16)\n",
      "[23:37:36] UFFTYPER: Unrecognized atom type: S_5+4 (1)\n",
      "[23:37:36] UFFTYPER: Unrecognized atom type: S_5+4 (16)\n",
      "[23:37:36] UFFTYPER: Unrecognized atom type: S_5+4 (7)\n",
      "[23:37:36] UFFTYPER: Unrecognized atom type: S_5+4 (7)\n",
      "[23:37:36] UFFTYPER: Unrecognized atom type: S_5+4 (13)\n",
      "[23:37:36] UFFTYPER: Unrecognized atom type: S_5+4 (24)\n",
      "[23:37:36] UFFTYPER: Unrecognized atom type: S_5+4 (28)\n",
      "[23:37:36] UFFTYPER: Unrecognized atom type: S_5+4 (13)\n",
      "[23:37:36] UFFTYPER: Unrecognized atom type: S_5+4 (24)\n",
      "[23:37:36] UFFTYPER: Unrecognized atom type: S_5+4 (28)\n",
      "[23:37:37] UFFTYPER: Unrecognized atom type: S_5+4 (9)\n",
      "[23:37:37] UFFTYPER: Unrecognized atom type: S_5+4 (9)\n",
      "[23:37:37] UFFTYPER: Unrecognized atom type: S_5+4 (9)\n",
      "[23:37:37] UFFTYPER: Unrecognized atom type: S_5+4 (9)\n",
      "[23:37:37] UFFTYPER: Unrecognized atom type: S_5+4 (7)\n",
      "[23:37:37] UFFTYPER: Unrecognized atom type: S_5+4 (7)\n",
      "[23:37:37] UFFTYPER: Unrecognized atom type: S_5+4 (10)\n",
      "[23:37:37] UFFTYPER: Unrecognized atom type: S_5+4 (10)\n",
      "[23:37:37] UFFTYPER: Unrecognized atom type: S_5+4 (7)\n",
      "[23:37:37] UFFTYPER: Unrecognized atom type: S_5+4 (7)\n",
      "[23:37:37] Explicit valence for atom # 6 N, 4, is greater than permitted\n"
     ]
    },
    {
     "name": "stdout",
     "output_type": "stream",
     "text": [
      "Cc1c(C2=NC3=[N]=C(N=C4N3C(=NC(=N4)c3c(C)c(C)c(c(c3C)C)C(=O)[O-])[N]2)c2c(C)c(C)c(c(c2C)C)C(=O)[O-])c(C)c(c(c1C)C(=O)[O-])C\n"
     ]
    },
    {
     "name": "stderr",
     "output_type": "stream",
     "text": [
      "[23:37:38] UFFTYPER: Unrecognized atom type: S_5+4 (8)\n",
      "[23:37:38] UFFTYPER: Unrecognized atom type: S_5+4 (12)\n",
      "[23:37:38] UFFTYPER: Unrecognized atom type: S_5+4 (8)\n",
      "[23:37:38] UFFTYPER: Unrecognized atom type: S_5+4 (12)\n",
      "[23:37:39] UFFTYPER: Unrecognized atom type: S_5+4 (9)\n",
      "[23:37:39] UFFTYPER: Unrecognized atom type: S_5+4 (25)\n",
      "[23:37:39] UFFTYPER: Unrecognized atom type: S_5+4 (9)\n",
      "[23:37:39] UFFTYPER: Unrecognized atom type: S_5+4 (25)\n",
      "[23:37:42] Explicit valence for atom # 12 N, 4, is greater than permitted\n",
      "[23:37:42] Explicit valence for atom # 10 N, 4, is greater than permitted\n",
      "[23:37:42] Explicit valence for atom # 10 N, 4, is greater than permitted\n"
     ]
    },
    {
     "name": "stdout",
     "output_type": "stream",
     "text": [
      "N1=C[C](C=N1)C#CC#CC1=NC(=[N]=C([N]1)C#CC#CC1=CN=N[CH]1)C#CC#CC1=C[N]N=C1\n",
      "N1=C[C](C=N1)C#CC#CC1=[N]=C(N=C([N]1)C#CC#CC1=C[N]N=C1)C#CC#C[C]1C=NN=C1\n",
      "N1=C[C](C=N1)C#CC#CC1=[N]=C([N]C(=N1)C#CC#CC1=C[N]N=C1)C#CC#CC1=C[N]N=C1\n"
     ]
    },
    {
     "name": "stderr",
     "output_type": "stream",
     "text": [
      "[23:37:43] UFFTYPER: Unrecognized atom type: S_5+4 (1)\n",
      "[23:37:43] UFFTYPER: Unrecognized atom type: S_5+4 (18)\n",
      "[23:37:43] UFFTYPER: Unrecognized atom type: S_5+4 (1)\n",
      "[23:37:43] UFFTYPER: Unrecognized atom type: S_5+4 (18)\n",
      "[23:37:45] Explicit valence for atom # 4 N, 4, is greater than permitted\n"
     ]
    },
    {
     "name": "stdout",
     "output_type": "stream",
     "text": [
      "CCOC1=[N]=C(OCC)C=C2C1=CC(=[N]=C2OCC)OCC\n"
     ]
    },
    {
     "name": "stderr",
     "output_type": "stream",
     "text": [
      "[23:37:53] UFFTYPER: Unrecognized atom type: S_5+4 (9)\n",
      "[23:37:53] UFFTYPER: Unrecognized atom type: S_5+4 (49)\n",
      "[23:37:53] UFFTYPER: Unrecognized atom type: S_5+4 (9)\n",
      "[23:37:53] UFFTYPER: Unrecognized atom type: S_5+4 (49)\n",
      "[23:37:53] Explicit valence for atom # 8 N, 4, is greater than permitted\n",
      "[23:37:53] Explicit valence for atom # 8 N, 4, is greater than permitted\n"
     ]
    },
    {
     "name": "stdout",
     "output_type": "stream",
     "text": [
      "[O-]C(=O)C#CC1=NC(=[N]=C([N]1)C#CC(=O)[O-])C#CC1=[N]=C(N=C([N]1)C#CC(=O)[O-])C#CC(=O)[O-]\n",
      "[O-]C(=O)C#CC1=NC(=[N]=C([N]1)C#CC1=[N]=C(N=C([N]1)C#CC(=O)[O-])C#CC(=O)[O-])C#CC(=O)[O-]\n"
     ]
    },
    {
     "name": "stderr",
     "output_type": "stream",
     "text": [
      "[23:37:57] UFFTYPER: Unrecognized atom type: S_5+4 (9)\n",
      "[23:37:57] UFFTYPER: Unrecognized atom type: S_5+4 (16)\n",
      "[23:37:57] UFFTYPER: Unrecognized atom type: S_5+4 (9)\n",
      "[23:37:57] UFFTYPER: Unrecognized atom type: S_5+4 (16)\n",
      "[23:37:57] UFFTYPER: Unrecognized atom type: S_5+4 (9)\n",
      "[23:37:57] UFFTYPER: Unrecognized atom type: S_5+4 (16)\n",
      "[23:37:57] UFFTYPER: Unrecognized atom type: S_5+4 (9)\n",
      "[23:37:57] UFFTYPER: Unrecognized atom type: S_5+4 (16)\n",
      "[23:37:57] UFFTYPER: Unrecognized atom type: S_5+4 (9)\n",
      "[23:37:57] UFFTYPER: Unrecognized atom type: S_5+4 (16)\n",
      "[23:37:57] UFFTYPER: Unrecognized atom type: S_5+4 (9)\n",
      "[23:37:57] UFFTYPER: Unrecognized atom type: S_5+4 (16)\n",
      "[23:37:57] UFFTYPER: Unrecognized atom type: S_5+4 (9)\n",
      "[23:37:57] UFFTYPER: Unrecognized atom type: S_5+4 (16)\n",
      "[23:37:57] UFFTYPER: Unrecognized atom type: S_5+4 (9)\n",
      "[23:37:57] UFFTYPER: Unrecognized atom type: S_5+4 (16)\n",
      "[23:38:02] Explicit valence for atom # 5 N, 4, is greater than permitted\n"
     ]
    },
    {
     "name": "stdout",
     "output_type": "stream",
     "text": [
      "CCCOC1=[N]=C(C=C([CH]1)[N][N]C1=CC(=[N]=C([CH]1)OCCC)OCCC)OCCC\n"
     ]
    },
    {
     "name": "stderr",
     "output_type": "stream",
     "text": [
      "[23:38:04] Explicit valence for atom # 9 N, 4, is greater than permitted\n",
      "[23:38:04] Explicit valence for atom # 14 N, 4, is greater than permitted\n"
     ]
    },
    {
     "name": "stdout",
     "output_type": "stream",
     "text": [
      "n1ccc(cc1)C1=NC(=[N]=C([N]1)c1ccncc1)c1ccncc1\n",
      "[O-]C(=O)c1c(F)cc(cc1F)C1=NC(=[N]=C([N]1)c1cc(F)c(c(c1)F)C(=O)[O-])c1cc(F)c(c(c1)F)C(=O)[O-]\n"
     ]
    },
    {
     "name": "stderr",
     "output_type": "stream",
     "text": [
      "[23:38:05] Explicit valence for atom # 6 N, 4, is greater than permitted\n"
     ]
    },
    {
     "name": "stdout",
     "output_type": "stream",
     "text": [
      "Nc1c(C2=NC3=[N]=C(N=C4N3C(=NC(=N4)c3c(N)c(N)c(c(c3N)N)C(=O)[O-])[N]2)c2c(N)c(N)c(c(c2N)N)C(=O)[O-])c(N)c(c(c1N)C(=O)[O-])N\n"
     ]
    },
    {
     "name": "stderr",
     "output_type": "stream",
     "text": [
      "[23:38:06] Explicit valence for atom # 18 N, 4, is greater than permitted\n"
     ]
    },
    {
     "name": "stdout",
     "output_type": "stream",
     "text": [
      "O=N(=O)c1cc(cc(c1C(=O)[O-])N(=O)=O)C1=NC2=[N]=C(N=C3N2C(=NC(=N3)c2cc(N(=O)=O)c(c(c2)N(=O)=O)C(=O)[O-])[N]1)c1cc(N(=O)=O)c(c(c1)N(=O)=O)C(=O)[O-]\n"
     ]
    },
    {
     "name": "stderr",
     "output_type": "stream",
     "text": [
      "[23:38:07] Explicit valence for atom # 13 N, 4, is greater than permitted\n"
     ]
    },
    {
     "name": "stdout",
     "output_type": "stream",
     "text": [
      "[O-]C(=O)c1ccc(cc1Cl)C1=NC(=[N]=C([N]1)c1ccc(c(c1)Cl)C(=O)[O-])c1ccc(c(c1)Cl)C(=O)[O-]\n"
     ]
    },
    {
     "name": "stderr",
     "output_type": "stream",
     "text": [
      "[23:38:07] Explicit valence for atom # 5 N, 4, is greater than permitted\n",
      "[23:38:08] UFFTYPER: Unrecognized atom type: S_5+4 (7)\n",
      "[23:38:08] UFFTYPER: Unrecognized atom type: S_5+4 (24)\n",
      "[23:38:08] UFFTYPER: Unrecognized atom type: S_5+4 (7)\n",
      "[23:38:08] UFFTYPER: Unrecognized atom type: S_5+4 (24)\n"
     ]
    },
    {
     "name": "stdout",
     "output_type": "stream",
     "text": [
      "CCCOC1=[N]=C(OCCC)C=C([CH]1)c1ccc(cc1)C1=CC(=[N]=C([CH]1)OCCC)OCCC\n"
     ]
    },
    {
     "name": "stderr",
     "output_type": "stream",
     "text": [
      "[23:38:08] UFFTYPER: Unrecognized atom type: S_5+4 (13)\n",
      "[23:38:08] UFFTYPER: Unrecognized atom type: S_5+4 (23)\n",
      "[23:38:08] UFFTYPER: Unrecognized atom type: S_5+4 (13)\n",
      "[23:38:08] UFFTYPER: Unrecognized atom type: S_5+4 (23)\n",
      "[23:38:11] Explicit valence for atom # 1 N, 4, is greater than permitted\n"
     ]
    },
    {
     "name": "stdout",
     "output_type": "stream",
     "text": [
      "C[NH]=C([CH]C(=O)[O-])C=CC(=O)[O-]\n"
     ]
    },
    {
     "name": "stderr",
     "output_type": "stream",
     "text": [
      "[23:38:11] Explicit valence for atom # 12 N, 4, is greater than permitted\n"
     ]
    },
    {
     "name": "stdout",
     "output_type": "stream",
     "text": [
      "c1ccc(nc1)[C]1N[N]C(=N1)C1=[N]=CN=N1\n"
     ]
    },
    {
     "name": "stderr",
     "output_type": "stream",
     "text": [
      "[23:38:13] Explicit valence for atom # 18 N, 4, is greater than permitted\n"
     ]
    },
    {
     "name": "stdout",
     "output_type": "stream",
     "text": [
      "CCCOc1c(OCCC)c(c(c(c1C1=C(O)C(=[N]=C([C]1O)O)O)OCCC)OCCC)C1=C(O)C(=[N]=C([C]1O)O)O\n"
     ]
    },
    {
     "name": "stderr",
     "output_type": "stream",
     "text": [
      "[23:38:18] Explicit valence for atom # 1 C, 5, is greater than permitted\n"
     ]
    },
    {
     "name": "stdout",
     "output_type": "stream",
     "text": [
      "O=[C]1=NC(=[N]=C([N]1)n1ccnc1)n1ccnc1\n"
     ]
    },
    {
     "name": "stderr",
     "output_type": "stream",
     "text": [
      "[23:38:19] UFFTYPER: Unrecognized atom type: S_5+4 (16)\n",
      "[23:38:19] UFFTYPER: Unrecognized atom type: S_5+4 (16)\n",
      "[23:38:19] UFFTYPER: Unrecognized atom type: S_5+4 (16)\n",
      "[23:38:19] UFFTYPER: Unrecognized atom type: S_5+4 (16)\n",
      "[23:38:19] Explicit valence for atom # 1 N, 4, is greater than permitted\n",
      "[23:38:19] Explicit valence for atom # 1 N, 4, is greater than permitted\n",
      "[23:38:19] Explicit valence for atom # 1 N, 4, is greater than permitted\n"
     ]
    },
    {
     "name": "stdout",
     "output_type": "stream",
     "text": [
      "C[NH]=C([C](S([O])([O])O)C=CC(=O)[O-])C(=O)[O-]\n",
      "C[NH]=C([CH]C(=O)[O-])C=CC(=O)[O-]\n",
      "C[NH]=C([CH]C(=[NH]C)C(=O)[O-])[CH]C(=O)[O-]\n"
     ]
    },
    {
     "name": "stderr",
     "output_type": "stream",
     "text": [
      "[23:38:20] Explicit valence for atom # 9 N, 4, is greater than permitted\n"
     ]
    },
    {
     "name": "stdout",
     "output_type": "stream",
     "text": [
      "n1ccc(cc1)C1=NC(=[N]=C([N]1)c1ccncc1)c1ccncc1\n"
     ]
    },
    {
     "name": "stderr",
     "output_type": "stream",
     "text": [
      "[23:38:21] Can't kekulize mol.  Unkekulized atoms: 16 17 21\n",
      "[23:38:21] Explicit valence for atom # 1 N, 4, is greater than permitted\n"
     ]
    },
    {
     "name": "stdout",
     "output_type": "stream",
     "text": [
      "OC1=NN=C([C]1c1c(O)c(O)c(c(c1O)O)c1c(O)[nH][n-]c1Cl)Cl\n",
      "C[NH]=C([C](C(=O)[O-])O)[C](C(=[NH]C)C(=O)[O-])O\n"
     ]
    },
    {
     "name": "stderr",
     "output_type": "stream",
     "text": [
      "[23:38:22] UFFTYPER: Unrecognized atom type: S_5+4 (16)\n",
      "[23:38:22] UFFTYPER: Unrecognized atom type: S_5+4 (20)\n",
      "[23:38:22] UFFTYPER: Unrecognized atom type: S_5+4 (16)\n",
      "[23:38:22] UFFTYPER: Unrecognized atom type: S_5+4 (20)\n",
      "[23:38:22] Explicit valence for atom # 1 N, 4, is greater than permitted\n",
      "[23:38:22] UFFTYPER: Unrecognized atom type: S_5+4 (10)\n",
      "[23:38:22] UFFTYPER: Unrecognized atom type: S_5+4 (10)\n",
      "[23:38:22] Explicit valence for atom # 12 N, 4, is greater than permitted\n"
     ]
    },
    {
     "name": "stdout",
     "output_type": "stream",
     "text": [
      "C[NH]=C([CH]C(=O)[O-])C=CC(=O)[O-]\n",
      "[O-]C(=O)c1ccc(cc1)C1=NC2=[N]=C(N=C3N2C(=NC(=N3)c2ccc(cc2)C(=O)[O-])[N]1)c1ccc(cc1)C(=O)[O-]\n"
     ]
    },
    {
     "name": "stderr",
     "output_type": "stream",
     "text": [
      "[23:38:23] UFFTYPER: Unrecognized atom type: S_5+4 (10)\n",
      "[23:38:23] UFFTYPER: Unrecognized atom type: S_5+4 (10)\n",
      "[23:38:23] UFFTYPER: Unrecognized atom type: S_5+4 (9)\n",
      "[23:38:23] UFFTYPER: Unrecognized atom type: S_5+4 (16)\n",
      "[23:38:23] UFFTYPER: Unrecognized atom type: S_5+4 (9)\n",
      "[23:38:23] UFFTYPER: Unrecognized atom type: S_5+4 (16)\n",
      "[23:38:23] UFFTYPER: Unrecognized atom type: S_5+4 (9)\n",
      "[23:38:23] UFFTYPER: Unrecognized atom type: S_5+4 (16)\n",
      "[23:38:23] UFFTYPER: Unrecognized atom type: S_5+4 (9)\n",
      "[23:38:23] UFFTYPER: Unrecognized atom type: S_5+4 (16)\n",
      "[23:38:23] UFFTYPER: Unrecognized atom type: S_5+4 (9)\n",
      "[23:38:23] UFFTYPER: Unrecognized atom type: S_5+4 (16)\n",
      "[23:38:23] UFFTYPER: Unrecognized atom type: S_5+4 (9)\n",
      "[23:38:23] UFFTYPER: Unrecognized atom type: S_5+4 (16)\n",
      "[23:38:23] UFFTYPER: Unrecognized atom type: S_5+4 (9)\n",
      "[23:38:23] UFFTYPER: Unrecognized atom type: S_5+4 (16)\n",
      "[23:38:23] UFFTYPER: Unrecognized atom type: S_5+4 (9)\n",
      "[23:38:23] UFFTYPER: Unrecognized atom type: S_5+4 (16)\n",
      "[23:38:25] Explicit valence for atom # 12 N, 4, is greater than permitted\n"
     ]
    },
    {
     "name": "stdout",
     "output_type": "stream",
     "text": [
      "[O-]C(=O)c1ccc(cc1)C1=NC(=[N]=C([N]1)c1ccc(cc1)C(=O)[O-])c1ccc(cc1)C(=O)[O-]\n"
     ]
    },
    {
     "name": "stderr",
     "output_type": "stream",
     "text": [
      "[23:38:26] UFFTYPER: Unrecognized atom type: S_5+4 (22)\n",
      "[23:38:26] UFFTYPER: Unrecognized atom type: S_5+4 (26)\n",
      "[23:38:26] UFFTYPER: Unrecognized atom type: S_5+4 (22)\n",
      "[23:38:26] UFFTYPER: Unrecognized atom type: S_5+4 (26)\n",
      "[23:38:26] UFFTYPER: Unrecognized atom type: S_5+4 (1)\n",
      "[23:38:26] UFFTYPER: Unrecognized atom type: S_5+4 (18)\n",
      "[23:38:26] UFFTYPER: Unrecognized atom type: S_5+4 (1)\n",
      "[23:38:26] UFFTYPER: Unrecognized atom type: S_5+4 (18)\n",
      "[23:38:26] UFFTYPER: Unrecognized atom type: S_5+4 (1)\n",
      "[23:38:26] UFFTYPER: Unrecognized atom type: S_5+4 (18)\n",
      "[23:38:26] UFFTYPER: Unrecognized atom type: S_5+4 (1)\n",
      "[23:38:26] UFFTYPER: Unrecognized atom type: S_5+4 (18)\n",
      "[23:38:27] Explicit valence for atom # 2 N, 4, is greater than permitted\n"
     ]
    },
    {
     "name": "stdout",
     "output_type": "stream",
     "text": [
      "OC1=[N]=C(O)c2c3c1cc(O)c1c3c(cc2O)C(=[N]=C1O)O\n"
     ]
    },
    {
     "name": "stderr",
     "output_type": "stream",
     "text": [
      "[23:38:28] UFFTYPER: Unrecognized atom type: S_5+4 (7)\n",
      "[23:38:28] UFFTYPER: Unrecognized atom type: S_5+4 (7)\n",
      "[23:38:29] UFFTYPER: Unrecognized atom type: S_5+4 (9)\n",
      "[23:38:29] UFFTYPER: Unrecognized atom type: S_5+4 (16)\n",
      "[23:38:29] UFFTYPER: Unrecognized atom type: S_5+4 (9)\n",
      "[23:38:29] UFFTYPER: Unrecognized atom type: S_5+4 (16)\n",
      "[23:38:29] UFFTYPER: Unrecognized atom type: S_5+4 (9)\n",
      "[23:38:29] UFFTYPER: Unrecognized atom type: S_5+4 (16)\n",
      "[23:38:29] UFFTYPER: Unrecognized atom type: S_5+4 (9)\n",
      "[23:38:29] UFFTYPER: Unrecognized atom type: S_5+4 (16)\n",
      "[23:38:30] Explicit valence for atom # 14 N, 4, is greater than permitted\n"
     ]
    },
    {
     "name": "stdout",
     "output_type": "stream",
     "text": [
      "[O-]C(=O)c1c(O)cc(cc1O)C1=NC2=[N]=C(N=C3N2C(=NC(=N3)c2cc(O)c(c(c2)O)C(=O)[O-])[N]1)c1cc(O)c(c(c1)O)C(=O)[O-]\n"
     ]
    },
    {
     "name": "stderr",
     "output_type": "stream",
     "text": [
      "[23:38:31] Explicit valence for atom # 7 N, 4, is greater than permitted\n",
      "[23:38:31] Explicit valence for atom # 14 N, 4, is greater than permitted\n",
      "[23:38:31] Explicit valence for atom # 2 N, 4, is greater than permitted\n"
     ]
    },
    {
     "name": "stdout",
     "output_type": "stream",
     "text": [
      "n1ccc(cc1)C1=[N]=C(N=N1)c1cnccn1\n",
      "[O-]C(=O)c1c(Cl)cc(cc1Cl)C1=NC(=[N]=C([N]1)c1cc(Cl)c(c(c1)Cl)C(=O)[O-])c1cc(Cl)c(c(c1)Cl)C(=O)[O-]\n",
      "OC1=[N]=C(O)C(=C([C]1O)c1c(O)c(O)c(c(c1O)O)C1=C(O)C(=[N]=C([C]1O)O)O)O\n"
     ]
    },
    {
     "name": "stderr",
     "output_type": "stream",
     "text": [
      "[23:38:34] UFFTYPER: Unrecognized atom type: S_5+4 (22)\n",
      "[23:38:34] UFFTYPER: Unrecognized atom type: S_5+4 (26)\n",
      "[23:38:34] UFFTYPER: Unrecognized atom type: S_5+4 (22)\n",
      "[23:38:34] UFFTYPER: Unrecognized atom type: S_5+4 (26)\n",
      "[23:38:34] Can't kekulize mol.  Unkekulized atoms: 9 10 14\n"
     ]
    },
    {
     "name": "stdout",
     "output_type": "stream",
     "text": [
      "[O-]C(=O)c1ccc(cc1)c1c(C)[n-][nH]c1C\n"
     ]
    },
    {
     "name": "stderr",
     "output_type": "stream",
     "text": [
      "[23:38:36] Explicit valence for atom # 1 N, 4, is greater than permitted\n",
      "[23:38:36] Explicit valence for atom # 14 N, 4, is greater than permitted\n",
      "[23:38:36] Explicit valence for atom # 1 N, 4, is greater than permitted\n",
      "[23:38:36] UFFTYPER: Unrecognized atom type: S_5+4 (7)\n",
      "[23:38:36] UFFTYPER: Unrecognized atom type: S_5+4 (7)\n",
      "[23:38:36] UFFTYPER: Unrecognized atom type: S_5+4 (5)\n",
      "[23:38:36] UFFTYPER: Unrecognized atom type: S_5+4 (14)\n",
      "[23:38:36] UFFTYPER: Unrecognized atom type: S_5+4 (5)\n",
      "[23:38:36] UFFTYPER: Unrecognized atom type: S_5+4 (14)\n"
     ]
    },
    {
     "name": "stdout",
     "output_type": "stream",
     "text": [
      "C[NH]=C([CH]C(=O)[O-])C=CC(=O)[O-]\n",
      "[O-]C(=O)c1ccc(cc1)C1=C2C=CC3=[N]2[Fe]24n5c1ccc5C(=C1[N]2=C(C=C1)C(=c1n4c(=C3c2ccc(cc2)C(=O)[O-])cc1)c1ccc(cc1)C(=O)[O-])c1ccc(cc1)C(=O)[O-]\n",
      "C[NH]=C(C(=[NH]C)[CH]C(=O)[O-])[CH]C(=O)[O-]\n"
     ]
    },
    {
     "name": "stderr",
     "output_type": "stream",
     "text": [
      "[23:38:36] UFFTYPER: Unrecognized atom type: S_5+4 (19)\n",
      "[23:38:37] UFFTYPER: Unrecognized atom type: S_5+4 (19)\n",
      "[23:38:37] Explicit valence for atom # 15 N, 4, is greater than permitted\n"
     ]
    },
    {
     "name": "stdout",
     "output_type": "stream",
     "text": [
      "OC(=O)c1cc(ccc1C(=O)[O-])C1=NC(=[N]=C([N]1)c1ccc(c(c1)C(=O)O)C(=O)[O-])c1ccc(c(c1)C(=O)O)C(=O)[O-]\n"
     ]
    },
    {
     "name": "stderr",
     "output_type": "stream",
     "text": [
      "[23:38:38] Can't kekulize mol.  Unkekulized atoms: 1 4 5\n"
     ]
    },
    {
     "name": "stdout",
     "output_type": "stream",
     "text": [
      "Cc1[nH][n-]c(c1c1c(C)[n-][nH]c1C)C\n"
     ]
    },
    {
     "name": "stderr",
     "output_type": "stream",
     "text": [
      "[23:38:39] UFFTYPER: Unrecognized atom type: S_5+4 (1)\n",
      "[23:38:39] UFFTYPER: Unrecognized atom type: S_5+4 (12)\n",
      "[23:38:39] UFFTYPER: Unrecognized atom type: S_5+4 (1)\n",
      "[23:38:39] UFFTYPER: Unrecognized atom type: S_5+4 (12)\n",
      "[23:38:39] Explicit valence for atom # 2 N, 4, is greater than permitted\n"
     ]
    },
    {
     "name": "stdout",
     "output_type": "stream",
     "text": [
      "OC1=[N]=C(O)C=C([CH]1)c1ccncc1\n"
     ]
    },
    {
     "name": "stderr",
     "output_type": "stream",
     "text": [
      "[23:38:40] UFFTYPER: Unrecognized atom type: S_5+4 (9)\n",
      "[23:38:40] UFFTYPER: Unrecognized atom type: S_5+4 (9)\n",
      "[23:38:40] UFFTYPER: Unrecognized atom type: S_5+4 (9)\n",
      "[23:38:40] UFFTYPER: Unrecognized atom type: S_5+4 (9)\n",
      "[23:38:43] Can't kekulize mol.  Unkekulized atoms: 1 4 5\n"
     ]
    },
    {
     "name": "stdout",
     "output_type": "stream",
     "text": [
      "Cc1[nH][n-]c(c1Cc1c(C)[n-][nH]c1C)C\n"
     ]
    },
    {
     "name": "stderr",
     "output_type": "stream",
     "text": [
      "[23:38:43] Explicit valence for atom # 2 N, 4, is greater than permitted\n"
     ]
    },
    {
     "name": "stdout",
     "output_type": "stream",
     "text": [
      "OC1=[N]=C(O)c2c3c1ccc1c3c(cc2)C(=[N]=C1O)O\n"
     ]
    },
    {
     "name": "stderr",
     "output_type": "stream",
     "text": [
      "[23:38:45] UFFTYPER: Unrecognized atom type: S_5+4 (1)\n",
      "[23:38:45] UFFTYPER: Unrecognized atom type: S_5+4 (16)\n",
      "[23:38:45] UFFTYPER: Unrecognized atom type: S_5+4 (1)\n",
      "[23:38:45] UFFTYPER: Unrecognized atom type: S_5+4 (16)\n",
      "[23:38:45] UFFTYPER: Unrecognized atom type: S_5+4 (1)\n",
      "[23:38:45] UFFTYPER: Unrecognized atom type: S_5+4 (16)\n",
      "[23:38:45] UFFTYPER: Unrecognized atom type: S_5+4 (1)\n",
      "[23:38:45] UFFTYPER: Unrecognized atom type: S_5+4 (16)\n",
      "[23:38:49] Explicit valence for atom # 9 N, 4, is greater than permitted\n",
      "[23:38:49] UFFTYPER: Unrecognized atom type: S_5+4 (1)\n",
      "[23:38:49] UFFTYPER: Unrecognized atom type: S_5+4 (14)\n",
      "[23:38:49] UFFTYPER: Unrecognized atom type: S_5+4 (1)\n",
      "[23:38:49] UFFTYPER: Unrecognized atom type: S_5+4 (14)\n",
      "[23:38:49] UFFTYPER: Unrecognized atom type: Cu6+1 (10)\n"
     ]
    },
    {
     "name": "stdout",
     "output_type": "stream",
     "text": [
      "n1ccc(cc1)C1=NC(=[N]=C([N]1)c1ccncc1)c1ccncc1\n"
     ]
    },
    {
     "name": "stderr",
     "output_type": "stream",
     "text": [
      "[23:38:53] UFFTYPER: Unrecognized atom type: Cu6+1 (10)\n",
      "[23:38:53] UFFTYPER: Unrecognized atom type: S_5+4 (14)\n",
      "[23:38:53] UFFTYPER: Unrecognized atom type: S_5+4 (18)\n",
      "[23:38:53] UFFTYPER: Unrecognized atom type: S_5+4 (14)\n",
      "[23:38:53] UFFTYPER: Unrecognized atom type: S_5+4 (18)\n",
      "[23:38:53] UFFTYPER: Unrecognized atom type: S_5+4 (7)\n",
      "[23:38:53] UFFTYPER: Unrecognized atom type: S_5+4 (7)\n"
     ]
    },
    {
     "name": "stdout",
     "output_type": "stream",
     "text": [
      "NN1[C](N2N=C1C1=C[CH]N([Cu]2)C=C1)c1ccncc1\n"
     ]
    },
    {
     "name": "stderr",
     "output_type": "stream",
     "text": [
      "[23:38:54] Explicit valence for atom # 1 N, 4, is greater than permitted\n"
     ]
    },
    {
     "name": "stdout",
     "output_type": "stream",
     "text": [
      "C[NH]=C([CH]C(=O)[O-])C=CC(=O)[O-]\n"
     ]
    },
    {
     "name": "stderr",
     "output_type": "stream",
     "text": [
      "[23:38:55] Explicit valence for atom # 2 N, 4, is greater than permitted\n"
     ]
    },
    {
     "name": "stdout",
     "output_type": "stream",
     "text": [
      "OC1=[N]=C(O)C=C([CH]1)C1=CC(=[N]=C([CH]1)O)O\n"
     ]
    },
    {
     "name": "stderr",
     "output_type": "stream",
     "text": [
      "[23:38:56] Explicit valence for atom # 3 N, 4, is greater than permitted\n"
     ]
    },
    {
     "name": "stdout",
     "output_type": "stream",
     "text": [
      "N[N]C(=[NH2])C=N\n"
     ]
    },
    {
     "name": "stderr",
     "output_type": "stream",
     "text": [
      "[23:38:59] Explicit valence for atom # 13 N, 4, is greater than permitted\n"
     ]
    },
    {
     "name": "stdout",
     "output_type": "stream",
     "text": [
      "[O-]C(=O)c1ccc(cc1N)C1=NC2=[N]=C(N=C3N2C(=NC(=N3)c2ccc(c(c2)N)C(=O)[O-])[N]1)c1ccc(c(c1)N)C(=O)[O-]\n"
     ]
    },
    {
     "name": "stderr",
     "output_type": "stream",
     "text": [
      "[23:39:00] Explicit valence for atom # 7 N, 4, is greater than permitted\n"
     ]
    },
    {
     "name": "stdout",
     "output_type": "stream",
     "text": [
      "c1ccc(nc1)C1=[N]=C(N=N1)C1=[N]=CN=N1\n"
     ]
    },
    {
     "name": "stderr",
     "output_type": "stream",
     "text": [
      "[23:39:02] Explicit valence for atom # 1 N, 4, is greater than permitted\n"
     ]
    },
    {
     "name": "stdout",
     "output_type": "stream",
     "text": [
      "C[NH]=C(C#CC(=O)[O-])[CH]C#CC(=O)[O-]\n"
     ]
    },
    {
     "name": "stderr",
     "output_type": "stream",
     "text": [
      "[23:39:03] Explicit valence for atom # 4 N, 4, is greater than permitted\n"
     ]
    },
    {
     "name": "stdout",
     "output_type": "stream",
     "text": [
      "CCOC1=[N]=C(OCC)C(=C([C]1OC)c1ccncc1)OC\n"
     ]
    },
    {
     "name": "stderr",
     "output_type": "stream",
     "text": [
      "[23:39:04] Explicit valence for atom # 13 N, 4, is greater than permitted\n"
     ]
    },
    {
     "name": "stdout",
     "output_type": "stream",
     "text": [
      "[O-]C(=O)c1ccc(cc1Br)C1=NC(=[N]=C([N]1)c1ccc(c(c1)Br)C(=O)[O-])c1ccc(c(c1)Br)C(=O)[O-]\n"
     ]
    },
    {
     "name": "stderr",
     "output_type": "stream",
     "text": [
      "[23:39:05] Explicit valence for atom # 14 N, 4, is greater than permitted\n"
     ]
    },
    {
     "name": "stdout",
     "output_type": "stream",
     "text": [
      "[O-]C(=O)c1c(N)cc(cc1N)C1=NC2=[N]=C(N=C3N2C(=NC(=N3)c2cc(N)c(c(c2)N)C(=O)[O-])[N]1)c1cc(N)c(c(c1)N)C(=O)[O-]\n"
     ]
    },
    {
     "name": "stderr",
     "output_type": "stream",
     "text": [
      "[23:39:06] Explicit valence for atom # 13 N, 4, is greater than permitted\n"
     ]
    },
    {
     "name": "stdout",
     "output_type": "stream",
     "text": [
      "[O-]C(=O)c1ccc(cc1N)C1=NC(=[N]=C([N]1)c1ccc(c(c1)N)C(=O)[O-])c1ccc(c(c1)N)C(=O)[O-]\n"
     ]
    },
    {
     "name": "stderr",
     "output_type": "stream",
     "text": [
      "[23:39:11] Explicit valence for atom # 10 N, 4, is greater than permitted\n",
      "[23:39:11] Explicit valence for atom # 8 N, 4, is greater than permitted\n",
      "[23:39:11] Explicit valence for atom # 10 N, 4, is greater than permitted\n"
     ]
    },
    {
     "name": "stdout",
     "output_type": "stream",
     "text": [
      "N1=C[C](C=N1)C=CC1=NC(=[N]=C([N]1)C=CC1=C[N]N=C1)C=C[C]1C=NN=C1\n",
      "N1=C[C](C=N1)C=CC1=[N]=C(N=C([N]1)C=CC1=C[N]N=C1)C=CC1=C[N]N=C1\n",
      "N1=NC=C([CH]1)C=CC1=NC(=[N]=C([N]1)C=CC1=C[N]N=C1)C=C[C]1C=NN=C1\n"
     ]
    },
    {
     "name": "stderr",
     "output_type": "stream",
     "text": [
      "[23:39:11] UFFTYPER: Unrecognized atom type: S_5+4 (13)\n",
      "[23:39:11] UFFTYPER: Unrecognized atom type: S_5+4 (17)\n",
      "[23:39:11] UFFTYPER: Unrecognized atom type: S_5+4 (13)\n",
      "[23:39:11] UFFTYPER: Unrecognized atom type: S_5+4 (17)\n",
      "[23:39:12] Explicit valence for atom # 9 N, 4, is greater than permitted\n"
     ]
    },
    {
     "name": "stdout",
     "output_type": "stream",
     "text": [
      "n1ccc(cc1)C1=NC(=[N]=C([N]1)c1ccncc1)c1ccncc1\n"
     ]
    },
    {
     "name": "stderr",
     "output_type": "stream",
     "text": [
      "[23:39:13] Explicit valence for atom # 10 N, 4, is greater than permitted\n",
      "[23:39:13] Explicit valence for atom # 12 N, 4, is greater than permitted\n",
      "[23:39:13] Explicit valence for atom # 10 N, 4, is greater than permitted\n",
      "[23:39:13] Explicit valence for atom # 10 N, 4, is greater than permitted\n"
     ]
    },
    {
     "name": "stdout",
     "output_type": "stream",
     "text": [
      "C(=CC1=CN=N[CH]1)C=CC1=[N]=C(N=C([N]1)C=CC=CC1=C[N]N=C1)C=CC=CC1=C[N]N=C1\n",
      "C(=C[C]1C=NN=C1)C=CC1=NC(=[N]=C([N]1)C=CC=CC1=C[N]N=C1)C=CC=CC1=CN=N[CH]1\n",
      "C(=C[C]1C=NN=C1)C=CC1=[N]=C(N=C([N]1)C=CC=CC1=C[N]N=C1)C=CC=CC1=C[N]N=C1\n",
      "C(=C[C]1C=NN=C1)C=CC1=[N]=C([N]C(=N1)C=CC=CC1=CN=N[CH]1)C=CC=CC1=C[N]N=C1\n"
     ]
    },
    {
     "name": "stderr",
     "output_type": "stream",
     "text": [
      "[23:39:15] UFFTYPER: Unrecognized atom type: S_5+4 (22)\n",
      "[23:39:15] UFFTYPER: Unrecognized atom type: S_5+4 (26)\n",
      "[23:39:15] UFFTYPER: Unrecognized atom type: S_5+4 (22)\n",
      "[23:39:15] UFFTYPER: Unrecognized atom type: S_5+4 (26)\n",
      "[23:39:15] UFFTYPER: Unrecognized atom type: S_5+4 (17)\n",
      "[23:39:15] UFFTYPER: Unrecognized atom type: S_5+4 (17)\n",
      "[23:39:15] UFFTYPER: Unrecognized atom type: S_5+4 (13)\n",
      "[23:39:15] UFFTYPER: Unrecognized atom type: S_5+4 (13)\n",
      "[23:39:19] UFFTYPER: Unrecognized atom type: S_5+4 (13)\n",
      "[23:39:19] UFFTYPER: Unrecognized atom type: S_5+4 (17)\n",
      "[23:39:19] UFFTYPER: Unrecognized atom type: S_5+4 (13)\n",
      "[23:39:19] UFFTYPER: Unrecognized atom type: S_5+4 (17)\n",
      "[23:39:21] UFFTYPER: Unrecognized atom type: S_5+4 (10)\n",
      "[23:39:21] UFFTYPER: Unrecognized atom type: S_5+4 (10)\n",
      "[23:39:21] UFFTYPER: Unrecognized atom type: S_5+4 (18)\n",
      "[23:39:21] UFFTYPER: Unrecognized atom type: S_5+4 (18)\n",
      "[23:39:21] UFFTYPER: Unrecognized atom type: S_5+4 (15)\n",
      "[23:39:21] UFFTYPER: Unrecognized atom type: S_5+4 (22)\n",
      "[23:39:21] UFFTYPER: Unrecognized atom type: S_5+4 (15)\n",
      "[23:39:21] UFFTYPER: Unrecognized atom type: S_5+4 (22)\n",
      "[23:39:22] Explicit valence for atom # 9 N, 4, is greater than permitted\n"
     ]
    },
    {
     "name": "stdout",
     "output_type": "stream",
     "text": [
      "n1ccc(cc1)C1=NC(=[N]=C([N]1)c1ccncc1)c1ccncc1\n"
     ]
    },
    {
     "name": "stderr",
     "output_type": "stream",
     "text": [
      "[23:39:23] Explicit valence for atom # 1 N, 4, is greater than permitted\n",
      "[23:39:23] Explicit valence for atom # 1 N, 4, is greater than permitted\n",
      "[23:39:23] Explicit valence for atom # 14 N, 4, is greater than permitted\n"
     ]
    },
    {
     "name": "stdout",
     "output_type": "stream",
     "text": [
      "C[NH]=C(C(=O)[O-])[CH]C(=C(C(=O)[O-])O)O\n",
      "C[NH]=C(C(=O)[O-])[CH]C=CC(=O)[O-]\n",
      "[O-]C(=O)c1ccc(cc1)C1=C2C=CC3=[N]2[Mn]24n5c1ccc5C(=C1[N]2=C(C=C1)C(=c1n4c(=C3c2ccc(cc2)C(=O)[O-])cc1)c1ccc(cc1)C(=O)[O-])c1ccc(cc1)C(=O)[O-]\n"
     ]
    },
    {
     "name": "stderr",
     "output_type": "stream",
     "text": [
      "[23:39:23] UFFTYPER: Unrecognized atom type: S_5+4 (9)\n",
      "[23:39:23] UFFTYPER: Unrecognized atom type: S_5+4 (16)\n",
      "[23:39:23] UFFTYPER: Unrecognized atom type: S_5+4 (9)\n",
      "[23:39:23] UFFTYPER: Unrecognized atom type: S_5+4 (16)\n",
      "[23:39:23] UFFTYPER: Unrecognized atom type: S_5+4 (9)\n",
      "[23:39:23] UFFTYPER: Unrecognized atom type: S_5+4 (16)\n",
      "[23:39:23] UFFTYPER: Unrecognized atom type: S_5+4 (9)\n",
      "[23:39:23] UFFTYPER: Unrecognized atom type: S_5+4 (16)\n",
      "[23:39:23] UFFTYPER: Unrecognized atom type: S_5+4 (9)\n",
      "[23:39:23] UFFTYPER: Unrecognized atom type: S_5+4 (16)\n",
      "[23:39:23] UFFTYPER: Unrecognized atom type: S_5+4 (9)\n",
      "[23:39:23] UFFTYPER: Unrecognized atom type: S_5+4 (16)\n",
      "[23:39:23] UFFTYPER: Unrecognized atom type: S_5+4 (9)\n",
      "[23:39:23] UFFTYPER: Unrecognized atom type: S_5+4 (16)\n",
      "[23:39:23] UFFTYPER: Unrecognized atom type: S_5+4 (9)\n",
      "[23:39:23] UFFTYPER: Unrecognized atom type: S_5+4 (16)\n",
      "[23:39:24] Explicit valence for atom # 13 N, 4, is greater than permitted\n"
     ]
    },
    {
     "name": "stdout",
     "output_type": "stream",
     "text": [
      "[O-]C(=O)c1ccc(cc1O)C1=NC2=[N]=C(N=C3N2C(=NC(=N3)c2ccc(c(c2)O)C(=O)[O-])[N]1)c1ccc(c(c1)O)C(=O)[O-]\n"
     ]
    },
    {
     "name": "stderr",
     "output_type": "stream",
     "text": [
      "[23:39:27] UFFTYPER: Unrecognized atom type: S_5+4 (9)\n",
      "[23:39:27] UFFTYPER: Unrecognized atom type: S_5+4 (21)\n",
      "[23:39:27] UFFTYPER: Unrecognized atom type: S_5+4 (9)\n",
      "[23:39:27] UFFTYPER: Unrecognized atom type: S_5+4 (21)\n",
      "[23:39:27] UFFTYPER: Unrecognized atom type: S_5+4 (8)\n",
      "[23:39:27] UFFTYPER: Unrecognized atom type: S_5+4 (14)\n",
      "[23:39:27] UFFTYPER: Unrecognized atom type: S_5+4 (8)\n",
      "[23:39:27] UFFTYPER: Unrecognized atom type: S_5+4 (14)\n",
      "[23:39:27] UFFTYPER: Unrecognized atom type: S_5+4 (5)\n",
      "[23:39:27] UFFTYPER: Unrecognized atom type: S_5+4 (12)\n",
      "[23:39:27] UFFTYPER: Unrecognized atom type: S_5+4 (5)\n",
      "[23:39:27] UFFTYPER: Unrecognized atom type: S_5+4 (12)\n",
      "[23:39:27] Explicit valence for atom # 15 N, 4, is greater than permitted\n"
     ]
    },
    {
     "name": "stdout",
     "output_type": "stream",
     "text": [
      "OC(=O)c1cc(ccc1C(=O)[O-])C1=NC(=[N]=C([N]1)c1ccc(c(c1)C(=O)O)C(=O)[O-])c1ccc(c(c1)C(=O)O)C(=O)[O-]\n"
     ]
    },
    {
     "name": "stderr",
     "output_type": "stream",
     "text": [
      "[23:39:28] UFFTYPER: Unrecognized atom type: S_5+4 (11)\n",
      "[23:39:28] UFFTYPER: Unrecognized atom type: S_5+4 (11)\n",
      "[23:39:28] UFFTYPER: Unrecognized atom type: S_5+4 (15)\n",
      "[23:39:28] UFFTYPER: Unrecognized atom type: S_5+4 (15)\n",
      "[23:39:28] Explicit valence for atom # 14 N, 4, is greater than permitted\n"
     ]
    },
    {
     "name": "stdout",
     "output_type": "stream",
     "text": [
      "[O-]C(=O)c1c(F)cc(cc1F)C1=NC2=[N]=C(N=C3N2C(=NC(=N3)c2cc(F)c(c(c2)F)C(=O)[O-])[N]1)c1cc(F)c(c(c1)F)C(=O)[O-]\n",
      "CCCOC1=[N]=C(OCCC)C=C([CH]1)c1ccncc1\n"
     ]
    },
    {
     "name": "stderr",
     "output_type": "stream",
     "text": [
      "[23:39:28] Explicit valence for atom # 5 N, 4, is greater than permitted\n",
      "[23:39:29] UFFTYPER: Unrecognized atom type: S_5+4 (9)\n",
      "[23:39:29] UFFTYPER: Unrecognized atom type: S_5+4 (9)\n",
      "[23:39:29] UFFTYPER: Unrecognized atom type: S_5+4 (9)\n",
      "[23:39:29] UFFTYPER: Unrecognized atom type: S_5+4 (9)\n",
      "[23:39:29] UFFTYPER: Unrecognized atom type: S_5+4 (9)\n",
      "[23:39:29] UFFTYPER: Unrecognized atom type: S_5+4 (9)\n",
      "[23:39:30] UFFTYPER: Unrecognized atom type: S_5+4 (9)\n",
      "[23:39:30] UFFTYPER: Unrecognized atom type: S_5+4 (9)\n",
      "[23:39:30] UFFTYPER: Unrecognized atom type: S_5+4 (9)\n",
      "[23:39:30] UFFTYPER: Unrecognized atom type: S_5+4 (9)\n",
      "[23:39:30] Explicit valence for atom # 6 N, 4, is greater than permitted\n"
     ]
    },
    {
     "name": "stdout",
     "output_type": "stream",
     "text": [
      "Fc1c(C2=NC3=[N]=C(N=C4N3C(=[N]=C([N]4)c3c(F)c(F)c(c(c3F)F)C(=O)[O-])[N]2)c2c(F)c(F)c(c(c2F)F)C(=O)[O-])c(F)c(c(c1F)C(=O)[O-])F\n"
     ]
    },
    {
     "name": "stderr",
     "output_type": "stream",
     "text": [
      "[23:39:30] Explicit valence for atom # 5 N, 4, is greater than permitted\n"
     ]
    },
    {
     "name": "stdout",
     "output_type": "stream",
     "text": [
      "CCCOC1=[N]=C(OCCC)C=C([CH]1)C(=C(C1=CC(=[N]=C([CH]1)OCCC)OCCC)F)F\n"
     ]
    },
    {
     "name": "stderr",
     "output_type": "stream",
     "text": [
      "[23:39:33] UFFTYPER: Unrecognized atom type: S_5+4 (14)\n",
      "[23:39:33] UFFTYPER: Unrecognized atom type: S_5+4 (14)\n",
      "[23:39:33] UFFTYPER: Unrecognized atom type: S_5+4 (5)\n",
      "[23:39:33] UFFTYPER: Unrecognized atom type: S_5+4 (11)\n",
      "[23:39:33] UFFTYPER: Unrecognized atom type: S_5+4 (5)\n",
      "[23:39:33] UFFTYPER: Unrecognized atom type: S_5+4 (11)\n",
      "[23:39:33] UFFTYPER: Unrecognized atom type: S_5+4 (11)\n",
      "[23:39:33] UFFTYPER: Unrecognized atom type: S_5+4 (11)\n",
      "[23:39:33] UFFTYPER: Unrecognized atom type: S_5+4 (7)\n",
      "[23:39:33] UFFTYPER: Unrecognized atom type: S_5+4 (7)\n",
      "[23:39:33] Explicit valence for atom # 10 N, 4, is greater than permitted\n",
      "[23:39:33] Explicit valence for atom # 8 N, 4, is greater than permitted\n",
      "[23:39:33] Explicit valence for atom # 8 N, 4, is greater than permitted\n",
      "[23:39:33] UFFTYPER: Unrecognized atom type: S_5+4 (8)\n",
      "[23:39:33] UFFTYPER: Unrecognized atom type: S_5+4 (8)\n"
     ]
    },
    {
     "name": "stdout",
     "output_type": "stream",
     "text": [
      "N1=C[C](C=N1)C=CC1=NC(=[N]=C([N]1)C=CC1=C[N]N=C1)C=C[C]1C=NN=C1\n",
      "N1=C[C](C=N1)C=CC1=[N]=C(N=C([N]1)C=CC1=C[N]N=C1)C=CC1=C[N]N=C1\n",
      "N1=NC=C([CH]1)C=CC1=[N]=C(N=C([N]1)C=C[C]1C=NN=C1)C=C[C]1C=NN=C1\n"
     ]
    },
    {
     "name": "stderr",
     "output_type": "stream",
     "text": [
      "[23:39:36] UFFTYPER: Unrecognized atom type: S_5+4 (1)\n",
      "[23:39:36] UFFTYPER: Unrecognized atom type: S_5+4 (12)\n",
      "[23:39:36] UFFTYPER: Unrecognized atom type: S_5+4 (1)\n",
      "[23:39:36] UFFTYPER: Unrecognized atom type: S_5+4 (12)\n",
      "[23:39:36] Explicit valence for atom # 9 N, 4, is greater than permitted\n"
     ]
    },
    {
     "name": "stdout",
     "output_type": "stream",
     "text": [
      "n1ccc(cc1)C1=NC(=[N]=C([N]1)c1ccncc1)c1ccncc1\n"
     ]
    },
    {
     "name": "stderr",
     "output_type": "stream",
     "text": [
      "[23:39:37] Explicit valence for atom # 4 N, 4, is greater than permitted\n",
      "[23:39:37] UFFTYPER: Unrecognized atom type: S_5+4 (1)\n",
      "[23:39:37] UFFTYPER: Unrecognized atom type: S_5+4 (12)\n",
      "[23:39:37] UFFTYPER: Unrecognized atom type: S_5+4 (1)\n",
      "[23:39:37] UFFTYPER: Unrecognized atom type: S_5+4 (12)\n"
     ]
    },
    {
     "name": "stdout",
     "output_type": "stream",
     "text": [
      "CCOC1=[N]=C(OCC)C(=C([C]1OCC)C#CC1=C(OCC)C(=[N]=C([C]1OCC)OCC)OCC)OCC\n"
     ]
    },
    {
     "name": "stderr",
     "output_type": "stream",
     "text": [
      "[23:39:37] Explicit valence for atom # 9 N, 4, is greater than permitted\n"
     ]
    },
    {
     "name": "stdout",
     "output_type": "stream",
     "text": [
      "n1ccc(cc1)C1=NC(=[N]=C([N]1)c1ccncc1)c1ccncc1\n"
     ]
    },
    {
     "name": "stderr",
     "output_type": "stream",
     "text": [
      "[23:39:38] Explicit valence for atom # 9 N, 4, is greater than permitted\n"
     ]
    },
    {
     "name": "stdout",
     "output_type": "stream",
     "text": [
      "n1ccc(cc1)C1=NC(=[N]=C([N]1)c1ccncc1)c1ccncc1\n"
     ]
    },
    {
     "name": "stderr",
     "output_type": "stream",
     "text": [
      "[23:39:38] UFFTYPER: Unrecognized atom type: S_5+4 (20)\n",
      "[23:39:38] UFFTYPER: Unrecognized atom type: S_5+4 (24)\n",
      "[23:39:39] UFFTYPER: Unrecognized atom type: S_5+4 (20)\n",
      "[23:39:39] UFFTYPER: Unrecognized atom type: S_5+4 (24)\n",
      "[23:39:39] Explicit valence for atom # 11 N, 4, is greater than permitted\n"
     ]
    },
    {
     "name": "stdout",
     "output_type": "stream",
     "text": [
      "N1=C[C](C=N1)n1nnc(c1)C1=[N]=C(N=C([N]1)c1nnn(c1)C1=C[N]N=C1)c1nnn(c1)C1=C[N]N=C1\n",
      "N1=C[C](C=N1)n1nnc(c1)C1=[N]=C(N=C([N]1)c1nnn(c1)C1=C[N]N=C1)c1nnn(c1)[C]1C=NN=C1\n",
      "N1=C[C](C=N1)n1nnc(c1)C1=[N]=C([N]C(=N1)c1nnn(c1)C1=CN=N[CH]1)c1nnn(c1)C1=C[N]N=C1\n"
     ]
    },
    {
     "name": "stderr",
     "output_type": "stream",
     "text": [
      "[23:39:39] Explicit valence for atom # 11 N, 4, is greater than permitted\n",
      "[23:39:39] Explicit valence for atom # 11 N, 4, is greater than permitted\n",
      "[23:39:39] Explicit valence for atom # 21 N, 4, is greater than permitted\n"
     ]
    },
    {
     "name": "stdout",
     "output_type": "stream",
     "text": [
      "Sc1cc2c(cc1-c1cc3-c4cc(S)c(cc4S)C4=NC(=[N]=C([N]4)c4cc(S)c(cc4S)C(=O)[O-])c4c(cc(-c3cc1-c1cc(c(C3=[N]=C([N]C2=N3)c2cc(S)c(cc2S)C(=O)[O-])cc1S)S)c(S)c4)S)S\n"
     ]
    },
    {
     "name": "stderr",
     "output_type": "stream",
     "text": [
      "[23:39:39] UFFTYPER: Unrecognized atom type: S_5+4 (9)\n",
      "[23:39:39] UFFTYPER: Unrecognized atom type: S_5+4 (25)\n",
      "[23:39:39] UFFTYPER: Unrecognized atom type: S_5+4 (32)\n",
      "[23:39:39] UFFTYPER: Unrecognized atom type: S_5+4 (36)\n",
      "[23:39:40] UFFTYPER: Unrecognized atom type: S_5+4 (9)\n",
      "[23:39:40] UFFTYPER: Unrecognized atom type: S_5+4 (25)\n",
      "[23:39:40] UFFTYPER: Unrecognized atom type: S_5+4 (32)\n",
      "[23:39:40] UFFTYPER: Unrecognized atom type: S_5+4 (36)\n",
      "[23:39:40] UFFTYPER: Unrecognized atom type: S_5+4 (11)\n",
      "[23:39:40] UFFTYPER: Unrecognized atom type: S_5+4 (11)\n",
      "[23:39:40] UFFTYPER: Unrecognized atom type: S_5+4 (10)\n",
      "[23:39:40] UFFTYPER: Unrecognized atom type: S_5+4 (10)\n",
      "[23:39:40] UFFTYPER: Unrecognized atom type: S_5+4 (5)\n",
      "[23:39:40] UFFTYPER: Unrecognized atom type: S_5+4 (11)\n",
      "[23:39:40] UFFTYPER: Unrecognized atom type: S_5+4 (18)\n",
      "[23:39:40] UFFTYPER: Unrecognized atom type: S_5+4 (5)\n",
      "[23:39:40] UFFTYPER: Unrecognized atom type: S_5+4 (11)\n",
      "[23:39:40] UFFTYPER: Unrecognized atom type: S_5+4 (18)\n",
      "[23:39:40] UFFTYPER: Unrecognized atom type: S_5+4 (7)\n",
      "[23:39:40] UFFTYPER: Unrecognized atom type: S_5+4 (7)\n",
      "[23:39:40] Explicit valence for atom # 1 N, 4, is greater than permitted\n",
      "[23:39:40] Explicit valence for atom # 1 N, 4, is greater than permitted\n",
      "[23:39:40] UFFTYPER: Unrecognized atom type: S_5+4 (14)\n",
      "[23:39:40] UFFTYPER: Unrecognized atom type: S_5+4 (14)\n",
      "[23:39:40] UFFTYPER: Unrecognized atom type: S_5+4 (14)\n",
      "[23:39:40] UFFTYPER: Unrecognized atom type: S_5+4 (14)\n",
      "[23:39:40] UFFTYPER: Unrecognized atom type: S_5+4 (14)\n",
      "[23:39:40] UFFTYPER: Unrecognized atom type: S_5+4 (14)\n"
     ]
    },
    {
     "name": "stdout",
     "output_type": "stream",
     "text": [
      "C[NH]=C(C#CC(=O)[O-])[CH]C#CC(=O)[O-]\n",
      "C[NH]=C(C(=[NH]C)C#N)C#N\n"
     ]
    },
    {
     "name": "stderr",
     "output_type": "stream",
     "text": [
      "[23:39:41] UFFTYPER: Unrecognized atom type: S_5+4 (7)\n",
      "[23:39:41] UFFTYPER: Unrecognized atom type: S_5+4 (7)\n",
      "[23:39:41] UFFTYPER: Unrecognized atom type: S_5+4 (9)\n",
      "[23:39:41] UFFTYPER: Unrecognized atom type: S_5+4 (13)\n",
      "[23:39:41] UFFTYPER: Unrecognized atom type: S_5+4 (22)\n",
      "[23:39:41] UFFTYPER: Unrecognized atom type: S_5+4 (26)\n",
      "[23:39:41] UFFTYPER: Unrecognized atom type: S_5+4 (30)\n",
      "[23:39:41] UFFTYPER: Unrecognized atom type: S_5+4 (9)\n",
      "[23:39:41] UFFTYPER: Unrecognized atom type: S_5+4 (13)\n",
      "[23:39:41] UFFTYPER: Unrecognized atom type: S_5+4 (22)\n",
      "[23:39:41] UFFTYPER: Unrecognized atom type: S_5+4 (26)\n",
      "[23:39:41] UFFTYPER: Unrecognized atom type: S_5+4 (30)\n",
      "[23:39:41] UFFTYPER: Unrecognized atom type: S_5+4 (11)\n",
      "[23:39:41] UFFTYPER: Unrecognized atom type: S_5+4 (18)\n",
      "[23:39:41] UFFTYPER: Unrecognized atom type: S_5+4 (11)\n",
      "[23:39:41] UFFTYPER: Unrecognized atom type: S_5+4 (18)\n",
      "[23:39:41] UFFTYPER: Unrecognized atom type: S_5+4 (11)\n",
      "[23:39:41] UFFTYPER: Unrecognized atom type: S_5+4 (15)\n",
      "[23:39:41] UFFTYPER: Unrecognized atom type: S_5+4 (11)\n",
      "[23:39:41] UFFTYPER: Unrecognized atom type: S_5+4 (15)\n",
      "[23:39:41] UFFTYPER: Unrecognized atom type: S_5+4 (11)\n",
      "[23:39:41] UFFTYPER: Unrecognized atom type: S_5+4 (11)\n",
      "[23:39:41] UFFTYPER: Unrecognized atom type: S_5+4 (11)\n",
      "[23:39:41] UFFTYPER: Unrecognized atom type: S_5+4 (11)\n",
      "[23:39:42] Explicit valence for atom # 13 N, 4, is greater than permitted\n"
     ]
    },
    {
     "name": "stdout",
     "output_type": "stream",
     "text": [
      "[O-]C(=O)c1ccc(cc1F)C1=NC(=[N]=C([N]1)c1ccc(c(c1)F)C(=O)[O-])c1ccc(c(c1)F)C(=O)[O-]\n"
     ]
    },
    {
     "name": "stderr",
     "output_type": "stream",
     "text": [
      "[23:39:42] UFFTYPER: Unrecognized atom type: S_5+4 (24)\n",
      "[23:39:42] UFFTYPER: Unrecognized atom type: S_5+4 (30)\n",
      "[23:39:43] UFFTYPER: Unrecognized atom type: S_5+4 (24)\n",
      "[23:39:43] UFFTYPER: Unrecognized atom type: S_5+4 (30)\n",
      "[23:39:43] UFFTYPER: Unrecognized atom type: S_5+4 (24)\n",
      "[23:39:43] UFFTYPER: Unrecognized atom type: S_5+4 (30)\n",
      "[23:39:43] UFFTYPER: Unrecognized atom type: S_5+4 (24)\n",
      "[23:39:43] UFFTYPER: Unrecognized atom type: S_5+4 (30)\n",
      "[23:39:43] UFFTYPER: Unrecognized atom type: S_5+4 (9)\n",
      "[23:39:43] UFFTYPER: Unrecognized atom type: S_5+4 (19)\n",
      "[23:39:43] UFFTYPER: Unrecognized atom type: S_5+4 (9)\n",
      "[23:39:43] UFFTYPER: Unrecognized atom type: S_5+4 (19)\n",
      "[23:39:43] UFFTYPER: Unrecognized atom type: S_5+4 (9)\n",
      "[23:39:43] UFFTYPER: Unrecognized atom type: S_5+4 (19)\n",
      "[23:39:43] UFFTYPER: Unrecognized atom type: S_5+4 (9)\n",
      "[23:39:43] UFFTYPER: Unrecognized atom type: S_5+4 (19)\n",
      "[23:39:44] UFFTYPER: Unrecognized atom type: S_5+4 (10)\n",
      "[23:39:44] UFFTYPER: Unrecognized atom type: S_5+4 (55)\n",
      "[23:39:44] UFFTYPER: Unrecognized atom type: S_5+4 (10)\n",
      "[23:39:44] UFFTYPER: Unrecognized atom type: S_5+4 (55)\n",
      "[23:39:45] UFFTYPER: Unrecognized atom type: S_5+4 (10)\n",
      "[23:39:45] UFFTYPER: Unrecognized atom type: S_5+4 (21)\n",
      "[23:39:45] UFFTYPER: Unrecognized atom type: S_5+4 (10)\n",
      "[23:39:45] UFFTYPER: Unrecognized atom type: S_5+4 (21)\n",
      "[23:39:45] UFFTYPER: Unrecognized atom type: S_5+4 (1)\n",
      "[23:39:45] UFFTYPER: Unrecognized atom type: S_5+4 (1)\n",
      "[23:39:45] UFFTYPER: Unrecognized atom type: S_5+4 (1)\n",
      "[23:39:45] UFFTYPER: Unrecognized atom type: S_5+4 (16)\n",
      "[23:39:45] UFFTYPER: Unrecognized atom type: S_5+4 (1)\n",
      "[23:39:45] UFFTYPER: Unrecognized atom type: S_5+4 (16)\n",
      "[23:39:47] UFFTYPER: Unrecognized atom type: S_5+4 (19)\n",
      "[23:39:47] UFFTYPER: Unrecognized atom type: S_5+4 (19)\n",
      "[23:39:47] UFFTYPER: Unrecognized atom type: S_5+4 (14)\n",
      "[23:39:47] UFFTYPER: Unrecognized atom type: S_5+4 (14)\n",
      "[23:39:47] UFFTYPER: Unrecognized atom type: S_5+4 (15)\n",
      "[23:39:47] UFFTYPER: Unrecognized atom type: S_5+4 (15)\n",
      "[23:39:48] Explicit valence for atom # 12 N, 4, is greater than permitted\n"
     ]
    },
    {
     "name": "stdout",
     "output_type": "stream",
     "text": [
      "O=N(=O)c1c(N(=O)=O)c(C2=NC3=[N]=C(N=C4N3C(=[N]=C([N]4)c3c(N(=O)=O)c(N(=O)=O)c(c(c3N(=O)=O)N(=O)=O)C(=O)[O-])[N]2)c2c(N(=O)=O)c(N(=O)=O)c(c(c2N(=O)=O)N(=O)=O)C(=O)[O-])c(c(c1C(=O)[O-])N(=O)=O)N(=O)=O\n"
     ]
    },
    {
     "name": "stderr",
     "output_type": "stream",
     "text": [
      "[23:39:49] Explicit valence for atom # 10 N, 4, is greater than permitted\n",
      "[23:39:49] Explicit valence for atom # 8 N, 4, is greater than permitted\n",
      "[23:39:49] Explicit valence for atom # 8 N, 4, is greater than permitted\n",
      "[23:39:49] Explicit valence for atom # 10 N, 4, is greater than permitted\n"
     ]
    },
    {
     "name": "stdout",
     "output_type": "stream",
     "text": [
      "N1=C[C](C=N1)C#CC1=NC(=[N]=C([N]1)C#C[C]1C=NN=C1)C#CC1=C[N]N=C1\n",
      "N1=C[C](C=N1)C#CC1=[N]=C(N=C([N]1)C#CC1=C[N]N=C1)C#C[C]1C=NN=C1\n",
      "N1=C[C](C=N1)C#CC1=[N]=C([N]C(=N1)C#CC1=C[N]N=C1)C#CC1=C[N]N=C1\n",
      "N1=NC=C([CH]1)C#CC1=NC(=[N]=C([N]1)C#CC1=C[N]N=C1)C#CC1=C[N]N=C1\n"
     ]
    },
    {
     "name": "stderr",
     "output_type": "stream",
     "text": [
      "[23:39:51] Explicit valence for atom # 13 N, 4, is greater than permitted\n"
     ]
    },
    {
     "name": "stdout",
     "output_type": "stream",
     "text": [
      "[O-]C(=O)c1ccc(cc1O)C1=NC(=[N]=C([N]1)c1ccc(c(c1)O)C(=O)[O-])c1ccc(c(c1)O)C(=O)[O-]\n"
     ]
    },
    {
     "name": "stderr",
     "output_type": "stream",
     "text": [
      "[23:39:52] Can't kekulize mol.  Unkekulized atoms: 5 6 7\n",
      "[23:39:52] UFFTYPER: Unrecognized atom type: S_5+4 (16)\n",
      "[23:39:52] UFFTYPER: Unrecognized atom type: S_5+4 (16)\n",
      "[23:39:52] UFFTYPER: Unrecognized atom type: S_5+4 (16)\n",
      "[23:39:52] UFFTYPER: Unrecognized atom type: S_5+4 (16)\n"
     ]
    },
    {
     "name": "stdout",
     "output_type": "stream",
     "text": [
      "[O-]C(=O)Cn1ccc([n-]1)C(=O)[O-]\n"
     ]
    },
    {
     "name": "stderr",
     "output_type": "stream",
     "text": [
      "[23:39:52] UFFTYPER: Unrecognized atom type: S_5+4 (16)\n",
      "[23:39:52] UFFTYPER: Unrecognized atom type: S_5+4 (16)\n",
      "[23:39:53] Explicit valence for atom # 14 N, 4, is greater than permitted\n",
      "[23:39:53] UFFTYPER: Unrecognized atom type: S_5+4 (18)\n",
      "[23:39:53] UFFTYPER: Unrecognized atom type: S_5+4 (22)\n",
      "[23:39:53] UFFTYPER: Unrecognized atom type: S_5+4 (18)\n",
      "[23:39:53] UFFTYPER: Unrecognized atom type: S_5+4 (22)\n",
      "[23:39:53] Explicit valence for atom # 5 N, 4, is greater than permitted\n"
     ]
    },
    {
     "name": "stdout",
     "output_type": "stream",
     "text": [
      "[O-]C(=O)c1c(Cl)cc(cc1Cl)C1=NC2=[N]=C(N=C3N2C(=NC(=N3)c2cc(Cl)c(c(c2)Cl)C(=O)[O-])[N]1)c1cc(Cl)c(c(c1)Cl)C(=O)[O-]\n",
      "[O-]C(=O)c1c([NH3])cc(cc1N)C#Cc1c(N)c(N)c(c(c1N)N)C(=O)[O-]\n"
     ]
    },
    {
     "name": "stderr",
     "output_type": "stream",
     "text": [
      "[23:39:55] UFFTYPER: Unrecognized atom type: S_5+4 (30)\n",
      "[23:39:55] UFFTYPER: Unrecognized atom type: S_5+4 (30)\n",
      "[23:39:56] UFFTYPER: Unrecognized atom type: S_5+4 (15)\n",
      "[23:39:56] UFFTYPER: Unrecognized atom type: S_5+4 (15)\n",
      "[23:39:56] Explicit valence for atom # 6 N, 4, is greater than permitted\n"
     ]
    },
    {
     "name": "stdout",
     "output_type": "stream",
     "text": [
      "Clc1c(C2=NC3=[N]=C(N=C4N3C(=[N]=C([N]4)c3c(Cl)c(Cl)c(c(c3Cl)Cl)C(=O)[O-])[N]2)c2c(Cl)c(Cl)c(c(c2Cl)Cl)C(=O)[O-])c(Cl)c(c(c1Cl)C(=O)[O-])Cl\n"
     ]
    },
    {
     "name": "stderr",
     "output_type": "stream",
     "text": [
      "[23:39:56] UFFTYPER: Unrecognized atom type: S_5+4 (9)\n",
      "[23:39:56] UFFTYPER: Unrecognized atom type: S_5+4 (16)\n",
      "[23:39:56] UFFTYPER: Unrecognized atom type: S_5+4 (9)\n",
      "[23:39:56] UFFTYPER: Unrecognized atom type: S_5+4 (16)\n",
      "[23:39:56] UFFTYPER: Unrecognized atom type: S_5+4 (9)\n",
      "[23:39:56] UFFTYPER: Unrecognized atom type: S_5+4 (16)\n",
      "[23:39:56] UFFTYPER: Unrecognized atom type: S_5+4 (9)\n",
      "[23:39:56] UFFTYPER: Unrecognized atom type: S_5+4 (16)\n",
      "[23:39:56] UFFTYPER: Unrecognized atom type: S_5+4 (9)\n",
      "[23:39:56] UFFTYPER: Unrecognized atom type: S_5+4 (16)\n",
      "[23:39:56] UFFTYPER: Unrecognized atom type: S_5+4 (9)\n",
      "[23:39:56] UFFTYPER: Unrecognized atom type: S_5+4 (16)\n",
      "[23:39:56] UFFTYPER: Unrecognized atom type: S_5+4 (9)\n",
      "[23:39:56] UFFTYPER: Unrecognized atom type: S_5+4 (16)\n",
      "[23:39:56] UFFTYPER: Unrecognized atom type: S_5+4 (9)\n",
      "[23:39:56] UFFTYPER: Unrecognized atom type: S_5+4 (16)\n",
      "[23:39:57] UFFTYPER: Unrecognized atom type: S_5+4 (13)\n",
      "[23:39:57] UFFTYPER: Unrecognized atom type: S_5+4 (17)\n",
      "[23:39:57] UFFTYPER: Unrecognized atom type: S_5+4 (13)\n",
      "[23:39:57] UFFTYPER: Unrecognized atom type: S_5+4 (17)\n",
      "[23:39:57] UFFTYPER: Unrecognized atom type: S_5+4 (26)\n",
      "[23:39:58] UFFTYPER: Unrecognized atom type: S_5+4 (26)\n",
      "[23:39:58] UFFTYPER: Unrecognized atom type: S_5+4 (35)\n",
      "[23:39:58] UFFTYPER: Unrecognized atom type: S_5+4 (39)\n",
      "[23:39:58] UFFTYPER: Unrecognized atom type: S_5+4 (46)\n",
      "[23:39:58] UFFTYPER: Unrecognized atom type: S_5+4 (50)\n",
      "[23:39:58] UFFTYPER: Unrecognized atom type: S_5+4 (60)\n",
      "[23:39:58] UFFTYPER: Unrecognized atom type: S_5+4 (64)\n",
      "[23:39:58] UFFTYPER: Unrecognized atom type: S_5+4 (35)\n",
      "[23:39:58] UFFTYPER: Unrecognized atom type: S_5+4 (39)\n",
      "[23:39:58] UFFTYPER: Unrecognized atom type: S_5+4 (46)\n",
      "[23:39:58] UFFTYPER: Unrecognized atom type: S_5+4 (50)\n",
      "[23:39:58] UFFTYPER: Unrecognized atom type: S_5+4 (60)\n",
      "[23:39:58] UFFTYPER: Unrecognized atom type: S_5+4 (64)\n",
      "[23:39:58] Explicit valence for atom # 12 N, 4, is greater than permitted\n"
     ]
    },
    {
     "name": "stdout",
     "output_type": "stream",
     "text": [
      "CNc1cc(C(=O)[O-])c(cc1C(=[NH]C)[C](c1cc(NC)c(cc1NC)C(=O)[O-])NC)NC\n"
     ]
    },
    {
     "name": "stderr",
     "output_type": "stream",
     "text": [
      "[23:39:59] UFFTYPER: Unrecognized atom type: S_5+4 (17)\n",
      "[23:39:59] UFFTYPER: Unrecognized atom type: S_5+4 (17)\n",
      "[23:39:59] UFFTYPER: Unrecognized atom type: S_5+4 (1)\n",
      "[23:39:59] UFFTYPER: Unrecognized atom type: S_5+4 (1)\n",
      "[23:40:00] Explicit valence for atom # 13 N, 4, is greater than permitted\n",
      "[23:40:00] Explicit valence for atom # 18 N, 4, is greater than permitted\n"
     ]
    },
    {
     "name": "stdout",
     "output_type": "stream",
     "text": [
      "[O-]C(=O)c1ccc(cc1C)C1=NC2=[N]=C(N=C3N2C(=NC(=N3)c2ccc(c(c2)C)C(=O)[O-])[N]1)c1ccc(c(c1)C)C(=O)[O-]\n",
      "OC(=O)c1cc(cc(c1C(=O)[O-])C(=O)O)C1=NC2=[N]=C(N=C3N2C(=NC(=N3)c2cc(C(=O)O)c(c(c2)C(=O)O)C(=O)[O-])[N]1)c1cc(C(=O)O)c(c(c1)C(=O)O)C(=O)[O-]\n"
     ]
    },
    {
     "name": "stderr",
     "output_type": "stream",
     "text": [
      "[23:40:00] Explicit valence for atom # 9 N, 4, is greater than permitted\n"
     ]
    },
    {
     "name": "stdout",
     "output_type": "stream",
     "text": [
      "n1ccc(cc1)C1=NC(=[N]=C([N]1)c1ccncc1)c1ccncc1\n"
     ]
    },
    {
     "name": "stderr",
     "output_type": "stream",
     "text": [
      "[23:40:04] Explicit valence for atom # 9 N, 4, is greater than permitted\n"
     ]
    },
    {
     "name": "stdout",
     "output_type": "stream",
     "text": [
      "n1ccc(cc1)C1=NC(=[N]=C([N]1)c1ccncc1)c1ccncc1\n"
     ]
    },
    {
     "name": "stderr",
     "output_type": "stream",
     "text": [
      "[23:40:06] Explicit valence for atom # 14 N, 4, is greater than permitted\n",
      "[23:40:06] Explicit valence for atom # 12 N, 4, is greater than permitted\n",
      "[23:40:06] Explicit valence for atom # 12 N, 4, is greater than permitted\n"
     ]
    },
    {
     "name": "stdout",
     "output_type": "stream",
     "text": [
      "N1=C[C](C=N1)C1=N[N]C(=N[N]1)C1=NC(=[N]=C([N]1)C1=N[N]C(=N[N]1)C1=C[N]N=C1)C1=N[N]C(=N[N]1)[C]1C=NN=C1\n",
      "N1=C[C](C=N1)C1=N[N]C(=N[N]1)C1=[N]=C(N=C([N]1)C1=N[N]C(=N[N]1)C1=C[N]N=C1)C1=N[N]C(=N[N]1)C1=C[N]N=C1\n",
      "N1=C[C](C=N1)C1=N[N]C(=N[N]1)C1=[N]=C([N]C(=N1)C1=N[N]C(=N[N]1)C1=CN=N[CH]1)C1=N[N]C(=N[N]1)C1=C[N]N=C1\n"
     ]
    },
    {
     "name": "stderr",
     "output_type": "stream",
     "text": [
      "[23:40:06] Explicit valence for atom # 1 N, 4, is greater than permitted\n",
      "[23:40:06] Explicit valence for atom # 1 N, 4, is greater than permitted\n"
     ]
    },
    {
     "name": "stdout",
     "output_type": "stream",
     "text": [
      "C[NH]=C([C](C(=O)[O-])N)C(=O)[O-]\n",
      "C[NH]=C([C](C(=O)[O-])NC)C(=O)[O-]\n"
     ]
    },
    {
     "name": "stderr",
     "output_type": "stream",
     "text": [
      "[23:40:07] Explicit valence for atom # 13 N, 4, is greater than permitted\n",
      "[23:40:07] Explicit valence for atom # 6 N, 4, is greater than permitted\n"
     ]
    },
    {
     "name": "stdout",
     "output_type": "stream",
     "text": [
      "[O-]C(=O)c1ccc(cc1Cl)C1=NC(=[N]=C([N]1)c1ccc(c(c1)Cl)C(=O)[O-])c1ccc(c(c1)Cl)C(=O)[O-]\n",
      "Oc1c(C2=NC(=[N]=C([N]2)c2c(O)c(O)c(c(c2O)O)C(=O)[O-])c2c(O)c(O)c(c(c2O)O)C(=O)[O-])c(O)c(c(c1O)C(=O)[O-])O\n"
     ]
    },
    {
     "name": "stderr",
     "output_type": "stream",
     "text": [
      "[23:40:09] Explicit valence for atom # 12 N, 4, is greater than permitted\n"
     ]
    },
    {
     "name": "stdout",
     "output_type": "stream",
     "text": [
      "[O-]C(=O)c1ccc(cc1)C1=NC(=[N]=C([N]1)c1ccc(cc1)C1=[N]=C(N=C([N]1)c1ccc(cc1)C(=O)[O-])c1ccc(cc1)C(=O)[O-])c1ccc(cc1)C(=O)[O-]\n"
     ]
    }
   ],
   "source": [
    "tp_lengths = pd.DataFrame(columns=[\"max_len\"])\n",
    "bed_count = 0\n",
    "for name in tp.index:\n",
    "    smi = data[\"smilesLinkers\"].loc[name]\n",
    "    ss = smi.split(\",\") # split 'linker1,linker2' to ['linker1', 'linker2']\n",
    "    curr_lengths = []\n",
    "\n",
    "    for s in ss:\n",
    "        try:\n",
    "            curr_len = get_max_length(s)\n",
    "            curr_lengths.append(curr_len)\n",
    "        except Exception:\n",
    "            bed_count += 1\n",
    "            \n",
    "            print(s)\n",
    "        \n",
    "    if curr_lengths:\n",
    "        tp_lengths.loc[name] = [max(curr_lengths)]"
   ]
  },
  {
   "cell_type": "code",
   "execution_count": 16,
   "metadata": {},
   "outputs": [
    {
     "name": "stdout",
     "output_type": "stream",
     "text": [
      "Number of errors: 162\n"
     ]
    }
   ],
   "source": [
    "print(f\"Number of errors: {bed_count}\")"
   ]
  },
  {
   "cell_type": "code",
   "execution_count": 17,
   "metadata": {},
   "outputs": [
    {
     "name": "stderr",
     "output_type": "stream",
     "text": [
      "[23:40:18] UFFTYPER: Unrecognized atom type: S_5+4 (1)\n",
      "[23:40:18] UFFTYPER: Unrecognized atom type: S_5+4 (1)\n",
      "[23:40:19] UFFTYPER: Unrecognized atom type: S_5+4 (9)\n",
      "[23:40:19] UFFTYPER: Unrecognized atom type: S_5+4 (20)\n",
      "[23:40:19] UFFTYPER: Unrecognized atom type: S_5+4 (33)\n",
      "[23:40:19] UFFTYPER: Unrecognized atom type: S_5+4 (9)\n",
      "[23:40:19] UFFTYPER: Unrecognized atom type: S_5+4 (20)\n",
      "[23:40:19] UFFTYPER: Unrecognized atom type: S_5+4 (33)\n",
      "[23:40:21] UFFTYPER: Unrecognized atom type: S_5+4 (1)\n",
      "[23:40:21] UFFTYPER: Unrecognized atom type: S_5+4 (1)\n"
     ]
    },
    {
     "name": "stdout",
     "output_type": "stream",
     "text": [
      "n1ccc(cc1)OCC(COc1ccncc1)(COc1ccncc1)COc1ccncc1\n"
     ]
    },
    {
     "name": "stderr",
     "output_type": "stream",
     "text": [
      "[23:40:21] UFFTYPER: Unrecognized atom type: S_5+4 (12)\n",
      "[23:40:22] UFFTYPER: Unrecognized atom type: S_5+4 (12)\n",
      "[23:40:22] UFFTYPER: Unrecognized atom type: S_5+4 (7)\n",
      "[23:40:22] UFFTYPER: Unrecognized atom type: S_5+4 (7)\n"
     ]
    },
    {
     "name": "stdout",
     "output_type": "stream",
     "text": [
      "C(=C[C]1C=NN=C1)C=CC(C=CC=CC1=CN=N[CH]1)(C=CC=CC1=C[N]N=C1)C=CC=CC1=C[N]N=C1\n"
     ]
    },
    {
     "name": "stderr",
     "output_type": "stream",
     "text": [
      "[23:40:29] UFFTYPER: Unrecognized atom type: S_5+4 (1)\n",
      "[23:40:29] UFFTYPER: Unrecognized atom type: S_5+4 (15)\n",
      "[23:40:29] UFFTYPER: Unrecognized atom type: S_5+4 (1)\n",
      "[23:40:29] UFFTYPER: Unrecognized atom type: S_5+4 (15)\n",
      "[23:40:29] UFFTYPER: Unrecognized atom type: S_5+4 (9)\n",
      "[23:40:29] UFFTYPER: Unrecognized atom type: S_5+4 (20)\n",
      "[23:40:29] UFFTYPER: Unrecognized atom type: S_5+4 (27)\n",
      "[23:40:29] UFFTYPER: Unrecognized atom type: S_5+4 (37)\n",
      "[23:40:29] UFFTYPER: Unrecognized atom type: S_5+4 (44)\n",
      "[23:40:29] UFFTYPER: Unrecognized atom type: S_5+4 (48)\n",
      "[23:40:29] UFFTYPER: Unrecognized atom type: S_5+4 (9)\n",
      "[23:40:29] UFFTYPER: Unrecognized atom type: S_5+4 (20)\n",
      "[23:40:29] UFFTYPER: Unrecognized atom type: S_5+4 (27)\n",
      "[23:40:29] UFFTYPER: Unrecognized atom type: S_5+4 (37)\n",
      "[23:40:29] UFFTYPER: Unrecognized atom type: S_5+4 (44)\n",
      "[23:40:29] UFFTYPER: Unrecognized atom type: S_5+4 (48)\n",
      "[23:40:44] UFFTYPER: Unrecognized atom type: S_5+4 (9)\n",
      "[23:40:44] UFFTYPER: Unrecognized atom type: S_5+4 (20)\n",
      "[23:40:44] UFFTYPER: Unrecognized atom type: S_5+4 (33)\n",
      "[23:40:44] UFFTYPER: Unrecognized atom type: S_5+4 (9)\n",
      "[23:40:44] UFFTYPER: Unrecognized atom type: S_5+4 (20)\n",
      "[23:40:44] UFFTYPER: Unrecognized atom type: S_5+4 (33)\n",
      "[23:40:44] UFFTYPER: Unrecognized atom type: S_5+4 (9)\n",
      "[23:40:44] UFFTYPER: Unrecognized atom type: S_5+4 (20)\n",
      "[23:40:44] UFFTYPER: Unrecognized atom type: S_5+4 (33)\n",
      "[23:40:44] UFFTYPER: Unrecognized atom type: S_5+4 (9)\n",
      "[23:40:44] UFFTYPER: Unrecognized atom type: S_5+4 (20)\n",
      "[23:40:44] UFFTYPER: Unrecognized atom type: S_5+4 (33)\n",
      "[23:40:44] UFFTYPER: Unrecognized atom type: S_5+4 (9)\n",
      "[23:40:44] UFFTYPER: Unrecognized atom type: S_5+4 (20)\n",
      "[23:40:44] UFFTYPER: Unrecognized atom type: S_5+4 (33)\n",
      "[23:40:44] UFFTYPER: Unrecognized atom type: S_5+4 (9)\n",
      "[23:40:44] UFFTYPER: Unrecognized atom type: S_5+4 (20)\n",
      "[23:40:44] UFFTYPER: Unrecognized atom type: S_5+4 (33)\n",
      "[23:40:47] UFFTYPER: Unrecognized atom type: S_5+4 (9)\n",
      "[23:40:47] UFFTYPER: Unrecognized atom type: S_5+4 (9)\n",
      "[23:40:53] UFFTYPER: Unrecognized atom type: S_5+4 (27)\n",
      "[23:40:53] UFFTYPER: Unrecognized atom type: S_5+4 (27)\n",
      "[23:40:53] UFFTYPER: Unrecognized atom type: S_5+4 (22)\n",
      "[23:40:53] UFFTYPER: Unrecognized atom type: S_5+4 (22)\n",
      "[23:40:54] UFFTYPER: Unrecognized atom type: S_5+4 (25)\n",
      "[23:40:54] UFFTYPER: Unrecognized atom type: S_5+4 (25)\n"
     ]
    },
    {
     "name": "stdout",
     "output_type": "stream",
     "text": [
      "c1ccc(cn1)OCC(COc1cccnc1)(COc1cccnc1)COc1cccnc1\n"
     ]
    },
    {
     "name": "stderr",
     "output_type": "stream",
     "text": [
      "[23:41:00] UFFTYPER: Unrecognized atom type: S_5+4 (1)\n",
      "[23:41:00] UFFTYPER: Unrecognized atom type: S_5+4 (30)\n",
      "[23:41:00] UFFTYPER: Unrecognized atom type: S_5+4 (1)\n",
      "[23:41:00] UFFTYPER: Unrecognized atom type: S_5+4 (30)\n",
      "[23:41:01] UFFTYPER: Unrecognized atom type: S_5+4 (1)\n",
      "[23:41:01] UFFTYPER: Unrecognized atom type: S_5+4 (8)\n",
      "[23:41:01] UFFTYPER: Unrecognized atom type: S_5+4 (1)\n",
      "[23:41:01] UFFTYPER: Unrecognized atom type: S_5+4 (8)\n"
     ]
    },
    {
     "name": "stdout",
     "output_type": "stream",
     "text": [
      "C(=C[C]1C=NN=C1)C=CC(C=CC=CC1=CN=N[CH]1)(C=CC=CC1=C[N]N=C1)C=CC=CC1=C[N]N=C1\n",
      "C(=C[C]1C=NN=C1)C=CC(C=CC=CC1=C[N]N=C1)(C=CC=CC1=C[N]N=C1)C=CC=C[C]1C=NN=C1\n"
     ]
    },
    {
     "name": "stderr",
     "output_type": "stream",
     "text": [
      "[23:41:05] UFFTYPER: Unrecognized atom type: S_5+4 (9)\n",
      "[23:41:05] UFFTYPER: Unrecognized atom type: S_5+4 (25)\n",
      "[23:41:05] UFFTYPER: Unrecognized atom type: S_5+4 (38)\n",
      "[23:41:05] UFFTYPER: Unrecognized atom type: S_5+4 (9)\n",
      "[23:41:05] UFFTYPER: Unrecognized atom type: S_5+4 (25)\n",
      "[23:41:05] UFFTYPER: Unrecognized atom type: S_5+4 (38)\n",
      "[23:41:06] UFFTYPER: Unrecognized atom type: S_5+4 (1)\n",
      "[23:41:06] UFFTYPER: Unrecognized atom type: S_5+4 (4)\n",
      "[23:41:06] UFFTYPER: Unrecognized atom type: S_5+4 (1)\n",
      "[23:41:06] UFFTYPER: Unrecognized atom type: S_5+4 (4)\n",
      "[23:41:06] UFFTYPER: Unrecognized atom type: S_5+4 (26)\n",
      "[23:41:06] UFFTYPER: Unrecognized atom type: S_5+4 (26)\n",
      "[23:41:06] UFFTYPER: Unrecognized atom type: S_5+4 (17)\n",
      "[23:41:06] UFFTYPER: Unrecognized atom type: S_5+4 (32)\n",
      "[23:41:06] UFFTYPER: Unrecognized atom type: S_5+4 (38)\n",
      "[23:41:06] UFFTYPER: Unrecognized atom type: S_5+4 (17)\n",
      "[23:41:06] UFFTYPER: Unrecognized atom type: S_5+4 (32)\n",
      "[23:41:06] UFFTYPER: Unrecognized atom type: S_5+4 (38)\n"
     ]
    },
    {
     "name": "stdout",
     "output_type": "stream",
     "text": [
      "n1ccc(cc1)OCC(COc1ccncc1)(COc1ccncc1)COc1ccncc1\n"
     ]
    },
    {
     "name": "stderr",
     "output_type": "stream",
     "text": [
      "[23:41:16] UFFTYPER: Unrecognized atom type: S_5+4 (1)\n",
      "[23:41:16] UFFTYPER: Unrecognized atom type: S_5+4 (8)\n",
      "[23:41:16] UFFTYPER: Unrecognized atom type: S_5+4 (1)\n",
      "[23:41:16] UFFTYPER: Unrecognized atom type: S_5+4 (8)\n"
     ]
    },
    {
     "name": "stdout",
     "output_type": "stream",
     "text": [
      "[O-]C(=O)c1cc(OCC(COc2cc(cc(c2)C(=O)[O-])C(=O)[O-])(COc2cc(cc(c2)C(=O)[O-])C(=O)[O-])COc2cc(cc(c2)C(=O)[O-])C(=O)[O-])cc(c1)C(=O)[O-]\n"
     ]
    },
    {
     "name": "stderr",
     "output_type": "stream",
     "text": [
      "[23:41:21] UFFTYPER: Unrecognized atom type: S_5+4 (1)\n",
      "[23:41:21] UFFTYPER: Unrecognized atom type: S_5+4 (2)\n",
      "[23:41:21] UFFTYPER: Unrecognized atom type: S_5+4 (1)\n",
      "[23:41:21] UFFTYPER: Unrecognized atom type: S_5+4 (2)\n"
     ]
    },
    {
     "name": "stdout",
     "output_type": "stream",
     "text": [
      "n1ccc(cc1)C1C2c3ccc(C1C2c1ccncc1)cc3\n"
     ]
    },
    {
     "name": "stderr",
     "output_type": "stream",
     "text": [
      "[23:41:34] UFFTYPER: Unrecognized atom type: S_5+4 (24)\n",
      "[23:41:34] UFFTYPER: Unrecognized atom type: S_5+4 (28)\n",
      "[23:41:34] UFFTYPER: Unrecognized atom type: S_5+4 (24)\n",
      "[23:41:34] UFFTYPER: Unrecognized atom type: S_5+4 (28)\n",
      "[23:41:34] UFFTYPER: Unrecognized atom type: S_5+4 (1)\n",
      "[23:41:34] UFFTYPER: Unrecognized atom type: S_5+4 (22)\n",
      "[23:41:34] UFFTYPER: Unrecognized atom type: S_5+4 (1)\n",
      "[23:41:34] UFFTYPER: Unrecognized atom type: S_5+4 (22)\n",
      "[23:41:36] UFFTYPER: Unrecognized atom type: S_5+4 (9)\n",
      "[23:41:36] UFFTYPER: Unrecognized atom type: S_5+4 (9)\n",
      "[23:41:37] UFFTYPER: Unrecognized atom type: S_5+4 (10)\n",
      "[23:41:37] UFFTYPER: Unrecognized atom type: S_5+4 (10)\n"
     ]
    }
   ],
   "source": [
    "gm_lengths = pd.DataFrame(columns=[\"max_len\"])\n",
    "bed_count = 0\n",
    "for name in gm.index:\n",
    "    smi = data[\"smilesLinkers\"].loc[name]\n",
    "    ss = smi.split(\",\")\n",
    "    curr_lengths = []\n",
    "\n",
    "    for s in ss:\n",
    "        try:\n",
    "            curr_len = get_max_length(s)\n",
    "            curr_lengths.append(curr_len)\n",
    "        except Exception:\n",
    "            bed_count += 1\n",
    "            \n",
    "            print(s)\n",
    "        \n",
    "    if curr_lengths:\n",
    "        gm_lengths.loc[name] = [max(curr_lengths)]\n"
   ]
  },
  {
   "cell_type": "code",
   "execution_count": 18,
   "metadata": {},
   "outputs": [
    {
     "name": "stdout",
     "output_type": "stream",
     "text": [
      "Number of errors: 8\n"
     ]
    }
   ],
   "source": [
    "print(f\"Number of errors: {bed_count}\")"
   ]
  },
  {
   "cell_type": "code",
   "execution_count": 19,
   "metadata": {},
   "outputs": [
    {
     "name": "stderr",
     "output_type": "stream",
     "text": [
      "[23:41:37] Can't kekulize mol.  Unkekulized atoms: 1 2 3\n"
     ]
    },
    {
     "name": "stdout",
     "output_type": "stream",
     "text": [
      "Cc1cc([n-]n1CCCCn1[n-]c(cc1C)C)C\n"
     ]
    },
    {
     "name": "stderr",
     "output_type": "stream",
     "text": [
      "[23:41:37] UFFTYPER: Unrecognized atom type: S_5+4 (9)\n",
      "[23:41:37] UFFTYPER: Unrecognized atom type: S_5+4 (21)\n",
      "[23:41:37] UFFTYPER: Unrecognized atom type: S_5+4 (9)\n",
      "[23:41:37] UFFTYPER: Unrecognized atom type: S_5+4 (21)\n",
      "[23:41:37] UFFTYPER: Unrecognized atom type: S_5+4 (9)\n",
      "[23:41:37] UFFTYPER: Unrecognized atom type: S_5+4 (21)\n",
      "[23:41:38] UFFTYPER: Unrecognized atom type: S_5+4 (9)\n",
      "[23:41:38] UFFTYPER: Unrecognized atom type: S_5+4 (21)\n",
      "[23:41:39] UFFTYPER: Unrecognized atom type: S_5+4 (1)\n",
      "[23:41:39] UFFTYPER: Unrecognized atom type: S_5+4 (12)\n",
      "[23:41:39] UFFTYPER: Unrecognized atom type: S_5+4 (1)\n",
      "[23:41:39] UFFTYPER: Unrecognized atom type: S_5+4 (12)\n",
      "[23:41:40] Can't kekulize mol.  Unkekulized atoms: 8 9 12\n"
     ]
    },
    {
     "name": "stdout",
     "output_type": "stream",
     "text": [
      "[O]S(c1cc(ccc1c1c[n-][nH]c1)c1c[n-][nH]c1)([O])[O]\n"
     ]
    },
    {
     "name": "stderr",
     "output_type": "stream",
     "text": [
      "[23:41:40] Explicit valence for atom # 4 N, 4, is greater than permitted\n",
      "[23:41:40] Explicit valence for atom # 8 N, 4, is greater than permitted\n",
      "[23:41:40] Explicit valence for atom # 1 C, 5, is greater than permitted\n",
      "[23:41:40] Explicit valence for atom # 6 N, 4, is greater than permitted\n",
      "[23:41:40] UFFTYPER: Unrecognized atom type: S_5+4 (14)\n",
      "[23:41:40] UFFTYPER: Unrecognized atom type: S_5+4 (14)\n",
      "[23:41:40] UFFTYPER: Unrecognized atom type: S_5+4 (14)\n",
      "[23:41:40] UFFTYPER: Unrecognized atom type: S_5+4 (14)\n",
      "[23:41:40] UFFTYPER: Unrecognized atom type: S_5+4 (14)\n",
      "[23:41:40] UFFTYPER: Unrecognized atom type: S_5+4 (14)\n"
     ]
    },
    {
     "name": "stdout",
     "output_type": "stream",
     "text": [
      "NC1=NC(=[N]=C([N]1)C)N\n",
      "[O]c1ccccc1C=[NH]CC[NH]=Cc1ccccc1[O]\n",
      "S=[C]1=NC(=CC=N1)c1ccncc1\n",
      "[O-]C(=O)C#CC1=[N]=C(N=C([N]1)C#CC1=NC(=[N]=C([N]1)C#CC(=O)[O-])C#CC(=O)[O-])C#CC(=O)[O-]\n"
     ]
    },
    {
     "name": "stderr",
     "output_type": "stream",
     "text": [
      "[23:41:41] UFFTYPER: Unrecognized atom type: S_5+4 (5)\n",
      "[23:41:41] UFFTYPER: Unrecognized atom type: S_5+4 (19)\n",
      "[23:41:41] UFFTYPER: Unrecognized atom type: S_5+4 (23)\n",
      "[23:41:41] UFFTYPER: Unrecognized atom type: S_5+4 (28)\n",
      "[23:41:41] UFFTYPER: Unrecognized atom type: S_5+4 (5)\n",
      "[23:41:41] UFFTYPER: Unrecognized atom type: S_5+4 (19)\n",
      "[23:41:41] UFFTYPER: Unrecognized atom type: S_5+4 (23)\n",
      "[23:41:41] UFFTYPER: Unrecognized atom type: S_5+4 (28)\n",
      "[23:41:41] UFFTYPER: Unrecognized atom type: S_5+4 (1)\n",
      "[23:41:41] UFFTYPER: Unrecognized atom type: S_5+4 (20)\n",
      "[23:41:41] UFFTYPER: Unrecognized atom type: S_5+4 (24)\n",
      "[23:41:41] UFFTYPER: Unrecognized atom type: S_5+4 (28)\n",
      "[23:41:41] UFFTYPER: Unrecognized atom type: S_5+4 (1)\n",
      "[23:41:41] UFFTYPER: Unrecognized atom type: S_5+4 (20)\n",
      "[23:41:41] UFFTYPER: Unrecognized atom type: S_5+4 (24)\n",
      "[23:41:41] UFFTYPER: Unrecognized atom type: S_5+4 (28)\n",
      "[23:41:41] Can't kekulize mol.  Unkekulized atoms: 1 4 5\n"
     ]
    },
    {
     "name": "stdout",
     "output_type": "stream",
     "text": [
      "Cc1[nH][n-]c(c1c1c(C)[n-][nH]c1C)C\n"
     ]
    },
    {
     "name": "stderr",
     "output_type": "stream",
     "text": [
      "[23:41:42] UFFTYPER: Unrecognized atom type: S_5+4 (9)\n",
      "[23:41:42] UFFTYPER: Unrecognized atom type: S_5+4 (21)\n",
      "[23:41:42] UFFTYPER: Unrecognized atom type: S_5+4 (9)\n",
      "[23:41:42] UFFTYPER: Unrecognized atom type: S_5+4 (21)\n",
      "[23:41:42] UFFTYPER: Unrecognized atom type: S_5+4 (9)\n",
      "[23:41:42] UFFTYPER: Unrecognized atom type: S_5+4 (21)\n",
      "[23:41:42] UFFTYPER: Unrecognized atom type: S_5+4 (9)\n",
      "[23:41:42] UFFTYPER: Unrecognized atom type: S_5+4 (21)\n",
      "[23:41:42] UFFTYPER: Unrecognized atom type: S_5+4 (7)\n",
      "[23:41:42] UFFTYPER: Unrecognized atom type: S_5+4 (22)\n",
      "[23:41:42] UFFTYPER: Unrecognized atom type: S_5+4 (26)\n",
      "[23:41:42] UFFTYPER: Unrecognized atom type: S_5+4 (30)\n",
      "[23:41:42] UFFTYPER: Unrecognized atom type: S_5+4 (34)\n",
      "[23:41:42] UFFTYPER: Unrecognized atom type: S_5+4 (38)\n",
      "[23:41:43] UFFTYPER: Unrecognized atom type: S_5+4 (7)\n",
      "[23:41:43] UFFTYPER: Unrecognized atom type: S_5+4 (22)\n",
      "[23:41:43] UFFTYPER: Unrecognized atom type: S_5+4 (26)\n",
      "[23:41:43] UFFTYPER: Unrecognized atom type: S_5+4 (30)\n",
      "[23:41:43] UFFTYPER: Unrecognized atom type: S_5+4 (34)\n",
      "[23:41:43] UFFTYPER: Unrecognized atom type: S_5+4 (38)\n",
      "[23:41:43] UFFTYPER: Unrecognized atom type: S_5+4 (7)\n",
      "[23:41:43] UFFTYPER: Unrecognized atom type: S_5+4 (22)\n",
      "[23:41:43] UFFTYPER: Unrecognized atom type: S_5+4 (26)\n",
      "[23:41:43] UFFTYPER: Unrecognized atom type: S_5+4 (30)\n",
      "[23:41:43] UFFTYPER: Unrecognized atom type: S_5+4 (34)\n",
      "[23:41:43] UFFTYPER: Unrecognized atom type: S_5+4 (38)\n",
      "[23:41:43] UFFTYPER: Unrecognized atom type: S_5+4 (7)\n",
      "[23:41:43] UFFTYPER: Unrecognized atom type: S_5+4 (22)\n",
      "[23:41:43] UFFTYPER: Unrecognized atom type: S_5+4 (26)\n",
      "[23:41:43] UFFTYPER: Unrecognized atom type: S_5+4 (30)\n",
      "[23:41:43] UFFTYPER: Unrecognized atom type: S_5+4 (34)\n",
      "[23:41:43] UFFTYPER: Unrecognized atom type: S_5+4 (38)\n",
      "[23:41:43] Explicit valence for atom # 8 N, 4, is greater than permitted\n",
      "[23:41:43] Explicit valence for atom # 8 N, 4, is greater than permitted\n",
      "[23:41:43] Explicit valence for atom # 8 N, 4, is greater than permitted\n"
     ]
    },
    {
     "name": "stdout",
     "output_type": "stream",
     "text": [
      "[O-]C(=O)C#CC1=NC(=[N]=C([N]1)C#CC(=O)[O-])C#CC1=NC(=[N]=C([N]1)C#CC(=O)[O-])C#CC(=O)[O-]\n",
      "[O-]C(=O)C#CC1=NC(=[N]=C([N]1)C#CC(=O)[O-])C#CC1=[N]=C([N]C(=N1)C#CC(=O)[O-])C#CC(=O)[O-]\n",
      "[O-]C(=O)C#CC1=NC(=[N]=C([N]1)C#CC1=NC(=[N]=C([N]1)C#CC(=O)[O-])C#CC(=O)[O-])C#CC(=O)[O-]\n"
     ]
    },
    {
     "name": "stderr",
     "output_type": "stream",
     "text": [
      "[23:41:45] Explicit valence for atom # 7 N, 4, is greater than permitted\n",
      "[23:41:45] UFFTYPER: Unrecognized hybridization for atom: 3\n",
      "[23:41:45] UFFTYPER: Unrecognized atom type: Cu+1 (3)\n",
      "[23:41:45] UFFTYPER: Unrecognized hybridization for atom: 3\n",
      "[23:41:45] UFFTYPER: Unrecognized atom type: Cu+1 (3)\n",
      "[23:41:45] UFFTYPER: Unrecognized hybridization for atom: 3\n",
      "[23:41:45] UFFTYPER: Unrecognized atom type: Cu+1 (3)\n",
      "[23:41:45] UFFTYPER: Unrecognized hybridization for atom: 3\n",
      "[23:41:45] UFFTYPER: Unrecognized atom type: Cu+1 (3)\n"
     ]
    },
    {
     "name": "stdout",
     "output_type": "stream",
     "text": [
      "c1ccc(nc1)C1=[N]=C(N=N1)C1=NN=N[N]1\n"
     ]
    },
    {
     "name": "stderr",
     "output_type": "stream",
     "text": [
      "[23:41:46] UFFTYPER: Unrecognized atom type: S_5+4 (9)\n",
      "[23:41:46] UFFTYPER: Unrecognized atom type: S_5+4 (21)\n",
      "[23:41:46] UFFTYPER: Unrecognized atom type: S_5+4 (28)\n",
      "[23:41:46] UFFTYPER: Unrecognized atom type: S_5+4 (32)\n",
      "[23:41:47] UFFTYPER: Unrecognized atom type: S_5+4 (9)\n",
      "[23:41:47] UFFTYPER: Unrecognized atom type: S_5+4 (21)\n",
      "[23:41:47] UFFTYPER: Unrecognized atom type: S_5+4 (28)\n",
      "[23:41:47] UFFTYPER: Unrecognized atom type: S_5+4 (32)\n",
      "[23:41:47] Explicit valence for atom # 5 C, 5, is greater than permitted\n"
     ]
    },
    {
     "name": "stdout",
     "output_type": "stream",
     "text": [
      "O=C1N[C]2N=[C](=O)[N]C3=[N]=[C](=O)N=C([N]1)N23\n"
     ]
    },
    {
     "name": "stderr",
     "output_type": "stream",
     "text": [
      "[23:41:51] Explicit valence for atom # 10 N, 4, is greater than permitted\n"
     ]
    },
    {
     "name": "stdout",
     "output_type": "stream",
     "text": [
      "[O-]C(=O)C(Cc1c[nH]cn1)[NH3]\n"
     ]
    },
    {
     "name": "stderr",
     "output_type": "stream",
     "text": [
      "[23:41:52] Explicit valence for atom # 7 N, 4, is greater than permitted\n"
     ]
    },
    {
     "name": "stdout",
     "output_type": "stream",
     "text": [
      "[O-]C(=O)C1CCC[NH2]1\n"
     ]
    },
    {
     "name": "stderr",
     "output_type": "stream",
     "text": [
      "[23:41:52] Explicit valence for atom # 0 O, 3, is greater than permitted\n"
     ]
    },
    {
     "name": "stdout",
     "output_type": "stream",
     "text": [
      "[OH2][Ag]Oc1ccc(cc1S([O])([O])[O])Br\n"
     ]
    },
    {
     "name": "stderr",
     "output_type": "stream",
     "text": [
      "[23:41:53] Explicit valence for atom # 3 C, 5, is greater than permitted\n",
      "[23:41:53] Explicit valence for atom # 4 N, 4, is greater than permitted\n"
     ]
    },
    {
     "name": "stdout",
     "output_type": "stream",
     "text": [
      "N1=NN=[C](=N1)[N][N][C]1=NN=NN=1\n",
      "[O-]C(=O)C[NH](CP(=O)([O])[O])Cc1cccc2c1cccc2\n"
     ]
    },
    {
     "name": "stderr",
     "output_type": "stream",
     "text": [
      "[23:41:53] UFFTYPER: Unrecognized atom type: S_5+4 (8)\n",
      "[23:41:53] UFFTYPER: Unrecognized atom type: S_5+4 (15)\n",
      "[23:41:53] UFFTYPER: Unrecognized atom type: S_5+4 (8)\n",
      "[23:41:53] UFFTYPER: Unrecognized atom type: S_5+4 (15)\n",
      "[23:41:53] UFFTYPER: Unrecognized atom type: S_5+4 (8)\n",
      "[23:41:53] UFFTYPER: Unrecognized atom type: S_5+4 (15)\n",
      "[23:41:53] UFFTYPER: Unrecognized atom type: S_5+4 (8)\n",
      "[23:41:53] UFFTYPER: Unrecognized atom type: S_5+4 (15)\n",
      "[23:41:54] UFFTYPER: Unrecognized atom type: S_5+4 (9)\n",
      "[23:41:54] UFFTYPER: Unrecognized atom type: S_5+4 (21)\n",
      "[23:41:54] UFFTYPER: Unrecognized atom type: S_5+4 (9)\n",
      "[23:41:54] UFFTYPER: Unrecognized atom type: S_5+4 (21)\n",
      "[23:41:54] UFFTYPER: Unrecognized atom type: S_5+4 (9)\n",
      "[23:41:54] UFFTYPER: Unrecognized atom type: S_5+4 (21)\n",
      "[23:41:54] UFFTYPER: Unrecognized atom type: S_5+4 (9)\n",
      "[23:41:54] UFFTYPER: Unrecognized atom type: S_5+4 (21)\n",
      "[23:41:54] UFFTYPER: Unrecognized atom type: S_5+4 (9)\n",
      "[23:41:54] UFFTYPER: Unrecognized atom type: S_5+4 (21)\n",
      "[23:41:54] UFFTYPER: Unrecognized atom type: S_5+4 (9)\n",
      "[23:41:54] UFFTYPER: Unrecognized atom type: S_5+4 (21)\n",
      "[23:41:54] UFFTYPER: Unrecognized atom type: S_5+4 (1)\n",
      "[23:41:54] UFFTYPER: Unrecognized atom type: S_5+4 (16)\n",
      "[23:41:54] UFFTYPER: Unrecognized atom type: S_5+4 (1)\n",
      "[23:41:54] UFFTYPER: Unrecognized atom type: S_5+4 (16)\n",
      "[23:41:54] UFFTYPER: Unrecognized atom type: S_5+4 (1)\n",
      "[23:41:54] UFFTYPER: Unrecognized atom type: S_5+4 (16)\n",
      "[23:41:54] UFFTYPER: Unrecognized atom type: S_5+4 (1)\n",
      "[23:41:54] UFFTYPER: Unrecognized atom type: S_5+4 (16)\n",
      "[23:41:55] Explicit valence for atom # 10 N, 4, is greater than permitted\n"
     ]
    },
    {
     "name": "stdout",
     "output_type": "stream",
     "text": [
      "[O-]C(=O)c1cc(NC2=NC(=[N]=C([N]2)Nc2cc(cc(c2)C(=O)[O-])C(=O)[O-])Nc2cc(cc(c2)C(=O)[O-])C(=O)[O-])cc(c1)C(=O)[O-]\n",
      "[O-]C(=O)C#Cc1cc2C#Cc3cc4C#Cc5cc(C#Cc6c7C#Cc8cc(C#Cc9c(C#Cc(c1)c2)cc1C#Cc2cc(C#Cc(c(C#Cc%10cc(C#Cc3cc4C#Cc3cc(C#Cc1c9)cc(c3)C#CC(=O)[O-])cc(c%10)C#CC(=O)[O-])c7)c6)cc(c2)C#CC(=O)[O-])cc(c8)C#CC(=O)[O-])cc(c5)C#CC(=O)[O-]\n"
     ]
    },
    {
     "name": "stderr",
     "output_type": "stream",
     "text": [
      "[23:59:14] UFFTYPER: Unrecognized atom type: S_5+4 (2)\n",
      "[23:59:14] UFFTYPER: Unrecognized atom type: S_5+4 (2)\n",
      "[23:59:15] Explicit valence for atom # 8 N, 4, is greater than permitted\n"
     ]
    },
    {
     "name": "stdout",
     "output_type": "stream",
     "text": [
      "CC(c1ccccc1)[NH2]CP(=O)([O])[O]\n"
     ]
    },
    {
     "name": "stderr",
     "output_type": "stream",
     "text": [
      "[23:59:16] Can't kekulize mol.  Unkekulized atoms: 1 4 5\n",
      "[23:59:16] UFFTYPER: Unrecognized atom type: S_5+4 (9)\n",
      "[23:59:16] UFFTYPER: Unrecognized atom type: S_5+4 (9)\n"
     ]
    },
    {
     "name": "stdout",
     "output_type": "stream",
     "text": [
      "Cc1[nH][n-]c(c1Cc1c(C)[n-][nH]c1C)C\n"
     ]
    },
    {
     "name": "stderr",
     "output_type": "stream",
     "text": [
      "[23:59:17] Explicit valence for atom # 8 N, 4, is greater than permitted\n",
      "[23:59:17] Explicit valence for atom # 8 N, 4, is greater than permitted\n"
     ]
    },
    {
     "name": "stdout",
     "output_type": "stream",
     "text": [
      "[O-]C(=O)C#CC1=NC(=[N]=C([N]1)C#CC(=O)[O-])C#CC1=NC(=[N]=C([N]1)C#CC(=O)[O-])C#CC(=O)[O-]\n",
      "[O-]C(=O)C#CC1=NC(=[N]=C([N]1)C#CC(=O)[O-])C#CC1=[N]=C([N]C(=N1)C#CC(=O)[O-])C#CC(=O)[O-]\n"
     ]
    },
    {
     "name": "stderr",
     "output_type": "stream",
     "text": [
      "[23:59:18] Explicit valence for atom # 6 N, 4, is greater than permitted\n"
     ]
    },
    {
     "name": "stdout",
     "output_type": "stream",
     "text": [
      "Nc1ncnc2=[N]=CN=c12\n"
     ]
    },
    {
     "name": "stderr",
     "output_type": "stream",
     "text": [
      "[23:59:19] UFFTYPER: Unrecognized atom type: S_5+4 (3)\n",
      "[23:59:19] UFFTYPER: Unrecognized atom type: S_5+4 (3)\n",
      "[23:59:19] UFFTYPER: Unrecognized atom type: S_5+4 (9)\n",
      "[23:59:19] UFFTYPER: Unrecognized atom type: S_5+4 (9)\n",
      "[23:59:19] UFFTYPER: Unrecognized atom type: S_5+4 (9)\n",
      "[23:59:19] UFFTYPER: Unrecognized atom type: S_5+4 (9)\n",
      "[23:59:19] UFFTYPER: Unrecognized atom type: S_5+4 (9)\n",
      "[23:59:19] UFFTYPER: Unrecognized atom type: S_5+4 (9)\n",
      "[23:59:20] UFFTYPER: Unrecognized atom type: S_5+4 (9)\n",
      "[23:59:20] UFFTYPER: Unrecognized atom type: S_5+4 (13)\n",
      "[23:59:20] UFFTYPER: Unrecognized atom type: S_5+4 (20)\n",
      "[23:59:20] UFFTYPER: Unrecognized atom type: S_5+4 (24)\n",
      "[23:59:20] UFFTYPER: Unrecognized atom type: S_5+4 (9)\n",
      "[23:59:20] UFFTYPER: Unrecognized atom type: S_5+4 (13)\n",
      "[23:59:20] UFFTYPER: Unrecognized atom type: S_5+4 (20)\n",
      "[23:59:20] UFFTYPER: Unrecognized atom type: S_5+4 (24)\n",
      "[23:59:20] Explicit valence for atom # 4 N, 4, is greater than permitted\n"
     ]
    },
    {
     "name": "stdout",
     "output_type": "stream",
     "text": [
      "[O-]C(=O)C[NH](CC(=O)[O-])CCS([O])([O])[O]\n"
     ]
    },
    {
     "name": "stderr",
     "output_type": "stream",
     "text": [
      "[23:59:21] UFFTYPER: Unrecognized atom type: S_5+4 (1)\n",
      "[23:59:21] UFFTYPER: Unrecognized atom type: S_5+4 (1)\n",
      "[23:59:21] UFFTYPER: Unrecognized atom type: S_5+4 (1)\n",
      "[23:59:21] UFFTYPER: Unrecognized atom type: S_5+4 (1)\n",
      "[23:59:21] UFFTYPER: Unrecognized atom type: S_5+4 (11)\n",
      "[23:59:21] UFFTYPER: Unrecognized atom type: S_5+4 (11)\n",
      "[23:59:22] Explicit valence for atom # 4 N, 4, is greater than permitted\n"
     ]
    },
    {
     "name": "stdout",
     "output_type": "stream",
     "text": [
      "C1=N[C]2C(=[N]=CN=C2)[N]1\n"
     ]
    },
    {
     "name": "stderr",
     "output_type": "stream",
     "text": [
      "[23:59:22] Explicit valence for atom # 9 C, 5, is greater than permitted\n",
      "[23:59:22] Explicit valence for atom # 17 C, 5, is greater than permitted\n"
     ]
    },
    {
     "name": "stdout",
     "output_type": "stream",
     "text": [
      "[O-]C(=O)C#Cn1c([C]=C=[C](=O)[O-])ccc1C#CC(=O)[O-]\n",
      "[O-]C(=O)[C]=C=C1C=C[C](N1C#CC(=O)[O-])[C]=C=[C](=O)[O-]\n"
     ]
    },
    {
     "name": "stderr",
     "output_type": "stream",
     "text": [
      "[23:59:23] Explicit valence for atom # 6 O, 4, is greater than permitted\n"
     ]
    },
    {
     "name": "stdout",
     "output_type": "stream",
     "text": [
      "N1=CC2=CN3[Cu]45[O]6=[Cu]78N([C]C(=C1)[C]26)CCN7C=c1c(=[O]48)c([C]N5CC3)cnc1\n"
     ]
    },
    {
     "name": "stderr",
     "output_type": "stream",
     "text": [
      "[23:59:24] Explicit valence for atom # 5 B, 4, is greater than permitted\n"
     ]
    },
    {
     "name": "stdout",
     "output_type": "stream",
     "text": [
      "c1ncn(c1)[B](n1cncc1)(n1cncc1)n1cncc1\n"
     ]
    },
    {
     "name": "stderr",
     "output_type": "stream",
     "text": [
      "[23:59:24] Explicit valence for atom # 6 N, 4, is greater than permitted\n"
     ]
    },
    {
     "name": "stdout",
     "output_type": "stream",
     "text": [
      "[O-]C(=O)C1CC[NH](CC1)CP(=O)([O])[O]\n"
     ]
    },
    {
     "name": "stderr",
     "output_type": "stream",
     "text": [
      "[23:59:25] UFFTYPER: Unrecognized atom type: S_5+4 (11)\n",
      "[23:59:25] UFFTYPER: Unrecognized atom type: S_5+4 (11)\n",
      "[23:59:25] Can't kekulize mol.  Unkekulized atoms: 1 4 5\n"
     ]
    },
    {
     "name": "stdout",
     "output_type": "stream",
     "text": [
      "Cc1[nH][n-]c(c1c1c(C)[n-][nH]c1C)C\n"
     ]
    },
    {
     "name": "stderr",
     "output_type": "stream",
     "text": [
      "[23:59:27] Can't kekulize mol.  Unkekulized atoms: 3 6 7\n"
     ]
    },
    {
     "name": "stdout",
     "output_type": "stream",
     "text": [
      "OC(=O)c1[n-][nH]c(c1)C(=O)[O-].OC(=O)c1[n-][nH]c(c1)C(=O)[O-]\n"
     ]
    },
    {
     "name": "stderr",
     "output_type": "stream",
     "text": [
      "[23:59:29] UFFTYPER: Unrecognized atom type: S_5+4 (13)\n",
      "[23:59:29] UFFTYPER: Unrecognized atom type: S_5+4 (17)\n",
      "[23:59:29] UFFTYPER: Unrecognized atom type: S_5+4 (13)\n",
      "[23:59:29] UFFTYPER: Unrecognized atom type: S_5+4 (17)\n",
      "[23:59:30] Explicit valence for atom # 1 N, 4, is greater than permitted\n"
     ]
    },
    {
     "name": "stdout",
     "output_type": "stream",
     "text": [
      "C1=[N]=c2c(=N1)cccn2\n"
     ]
    },
    {
     "name": "stderr",
     "output_type": "stream",
     "text": [
      "[23:59:31] UFFTYPER: Unrecognized atom type: S_5+4 (14)\n",
      "[23:59:31] UFFTYPER: Unrecognized atom type: S_5+4 (14)\n",
      "[23:59:31] UFFTYPER: Unrecognized atom type: S_5+4 (14)\n",
      "[23:59:31] UFFTYPER: Unrecognized atom type: S_5+4 (14)\n",
      "[23:59:31] UFFTYPER: Unrecognized atom type: S_5+4 (14)\n",
      "[23:59:31] UFFTYPER: Unrecognized atom type: S_5+4 (14)\n",
      "[23:59:31] UFFTYPER: Unrecognized atom type: S_5+4 (9)\n",
      "[23:59:31] UFFTYPER: Unrecognized atom type: S_5+4 (9)\n",
      "[23:59:32] Explicit valence for atom # 9 N, 4, is greater than permitted\n"
     ]
    },
    {
     "name": "stdout",
     "output_type": "stream",
     "text": [
      "c1ccc(nc1)C1=NC(=[N]=C([N]1)c1ccccn1)c1ccccn1\n"
     ]
    },
    {
     "name": "stderr",
     "output_type": "stream",
     "text": [
      "[23:59:33] UFFTYPER: Unrecognized atom type: S_5+4 (7)\n",
      "[23:59:33] UFFTYPER: Unrecognized atom type: S_5+4 (7)\n",
      "[23:59:34] UFFTYPER: Unrecognized atom type: S_5+4 (1)\n",
      "[23:59:34] UFFTYPER: Unrecognized atom type: S_5+4 (26)\n",
      "[23:59:34] UFFTYPER: Unrecognized atom type: S_5+4 (1)\n",
      "[23:59:34] UFFTYPER: Unrecognized atom type: S_5+4 (26)\n",
      "[23:59:35] UFFTYPER: Unrecognized atom type: S_5+4 (9)\n",
      "[23:59:35] UFFTYPER: Unrecognized atom type: S_5+4 (9)\n",
      "[23:59:36] UFFTYPER: Unrecognized atom type: S_5+4 (1)\n",
      "[23:59:36] UFFTYPER: Unrecognized atom type: S_5+4 (12)\n",
      "[23:59:36] UFFTYPER: Unrecognized atom type: S_5+4 (1)\n",
      "[23:59:36] UFFTYPER: Unrecognized atom type: S_5+4 (12)\n",
      "[23:59:38] Can't kekulize mol.  Unkekulized atoms: 1 4 5\n"
     ]
    },
    {
     "name": "stdout",
     "output_type": "stream",
     "text": [
      "Cc1[nH][n-]c(c1c1c(C)[n-][nH]c1C)C\n"
     ]
    },
    {
     "name": "stderr",
     "output_type": "stream",
     "text": [
      "[23:59:39] Explicit valence for atom # 10 N, 4, is greater than permitted\n"
     ]
    },
    {
     "name": "stdout",
     "output_type": "stream",
     "text": [
      "[O-]C(=O)c1ccc(cc1)C[NH2]CP(=O)([O])[O]\n"
     ]
    },
    {
     "name": "stderr",
     "output_type": "stream",
     "text": [
      "[23:59:41] Explicit valence for atom # 12 N, 4, is greater than permitted\n",
      "[23:59:41] Explicit valence for atom # 10 N, 4, is greater than permitted\n"
     ]
    },
    {
     "name": "stdout",
     "output_type": "stream",
     "text": [
      "[O-]C(=O)c1ccc(cc1)C1=NC(=[N]=C([N]1)c1ccc(cc1)C(=O)[O-])C#CC1=[N]=C([N]C(=N1)c1ccc(cc1)C(=O)[O-])c1ccc(cc1)C(=O)[O-]\n",
      "[O-]C(=O)c1ccc(cc1)C1=[N]=C(N=C([N]1)C#CC1=NC(=[N]=C([N]1)c1ccc(cc1)C(=O)[O-])c1ccc(cc1)C(=O)[O-])c1ccc(cc1)C(=O)[O-]\n"
     ]
    },
    {
     "name": "stderr",
     "output_type": "stream",
     "text": [
      "[23:59:41] Explicit valence for atom # 4 N, 4, is greater than permitted\n",
      "[23:59:41] Explicit valence for atom # 6 N, 4, is greater than permitted\n"
     ]
    },
    {
     "name": "stdout",
     "output_type": "stream",
     "text": [
      "NC1=NC=[N]=C2C1=NC=N2\n",
      "Nc1ncnc2=[N]=CN=c12\n"
     ]
    },
    {
     "name": "stderr",
     "output_type": "stream",
     "text": [
      "[23:59:42] Explicit valence for atom # 4 C, 5, is greater than permitted\n"
     ]
    },
    {
     "name": "stdout",
     "output_type": "stream",
     "text": [
      "FC1=CN=[C](=O)N=C1\n"
     ]
    },
    {
     "name": "stderr",
     "output_type": "stream",
     "text": [
      "[23:59:43] Can't kekulize mol.  Unkekulized atoms: 3 4 7\n",
      "[23:59:43] Explicit valence for atom # 4 N, 4, is greater than permitted\n",
      "[23:59:43] Explicit valence for atom # 4 N, 4, is greater than permitted\n"
     ]
    },
    {
     "name": "stdout",
     "output_type": "stream",
     "text": [
      "[O-]C(=O)c1c[n-][nH]c1c1ccccc1\n",
      "OC(=O)C[NH](CP(=O)(O)[O])CP(=O)([O])[O]\n",
      "OC(=O)C[NH](CP(=O)([O])O)CP(=O)([O])[O]\n"
     ]
    },
    {
     "name": "stderr",
     "output_type": "stream",
     "text": [
      "[23:59:46] Explicit valence for atom # 1 C, 5, is greater than permitted\n"
     ]
    },
    {
     "name": "stdout",
     "output_type": "stream",
     "text": [
      "S=[C]1=NN=C(O1)c1ccncc1\n"
     ]
    },
    {
     "name": "stderr",
     "output_type": "stream",
     "text": [
      "[23:59:46] UFFTYPER: Unrecognized atom type: S_5+4 (14)\n",
      "[23:59:46] UFFTYPER: Unrecognized atom type: S_5+4 (14)\n",
      "[23:59:48] UFFTYPER: Unrecognized atom type: S_5+4 (15)\n",
      "[23:59:48] UFFTYPER: Unrecognized atom type: S_5+4 (15)\n",
      "[23:59:49] Can't kekulize mol.  Unkekulized atoms: 1 4 5\n"
     ]
    },
    {
     "name": "stdout",
     "output_type": "stream",
     "text": [
      "Cc1[nH][n-]c(c1Cc1c(C)[n-][nH]c1C)C\n"
     ]
    },
    {
     "name": "stderr",
     "output_type": "stream",
     "text": [
      "[23:59:50] UFFTYPER: Unrecognized atom type: S_5+4 (14)\n",
      "[23:59:50] UFFTYPER: Unrecognized atom type: S_5+4 (14)\n",
      "[23:59:50] UFFTYPER: Unrecognized atom type: S_5+4 (14)\n",
      "[23:59:50] UFFTYPER: Unrecognized atom type: S_5+4 (14)\n",
      "[23:59:50] UFFTYPER: Unrecognized atom type: S_5+4 (19)\n",
      "[23:59:50] UFFTYPER: Unrecognized atom type: S_5+4 (30)\n",
      "[23:59:50] UFFTYPER: Unrecognized atom type: S_5+4 (19)\n",
      "[23:59:50] UFFTYPER: Unrecognized atom type: S_5+4 (30)\n",
      "[23:59:50] UFFTYPER: Unrecognized atom type: S_5+4 (1)\n",
      "[23:59:50] UFFTYPER: Unrecognized atom type: S_5+4 (18)\n",
      "[23:59:50] UFFTYPER: Unrecognized atom type: S_5+4 (1)\n",
      "[23:59:50] UFFTYPER: Unrecognized atom type: S_5+4 (18)\n",
      "[23:59:50] Explicit valence for atom # 13 N, 4, is greater than permitted\n"
     ]
    },
    {
     "name": "stdout",
     "output_type": "stream",
     "text": [
      "[O-]C(=O)c1cc(cc(c1)C(=O)[O-])N=[N]=[N]\n"
     ]
    },
    {
     "name": "stderr",
     "output_type": "stream",
     "text": [
      "[23:59:51] Explicit valence for atom # 1 C, 5, is greater than permitted\n"
     ]
    },
    {
     "name": "stdout",
     "output_type": "stream",
     "text": [
      "O=[C]1=NC=C(C=N1)N(=O)=O\n"
     ]
    },
    {
     "name": "stderr",
     "output_type": "stream",
     "text": [
      "[23:59:52] Explicit valence for atom # 1 C, 5, is greater than permitted\n"
     ]
    },
    {
     "name": "stdout",
     "output_type": "stream",
     "text": [
      "S=[C]1=NN=C(O1)c1ccncc1\n"
     ]
    },
    {
     "name": "stderr",
     "output_type": "stream",
     "text": [
      "[23:59:52] UFFTYPER: Unrecognized atom type: S_5+4 (23)\n",
      "[23:59:52] UFFTYPER: Unrecognized atom type: S_5+4 (23)\n",
      "[23:59:52] UFFTYPER: Unrecognized atom type: S_5+4 (18)\n",
      "[23:59:52] UFFTYPER: Unrecognized atom type: S_5+4 (18)\n",
      "[23:59:52] UFFTYPER: Unrecognized atom type: S_5+4 (25)\n",
      "[23:59:52] UFFTYPER: Unrecognized atom type: S_5+4 (25)\n",
      "[23:59:54] UFFTYPER: Unrecognized atom type: S_5+4 (10)\n",
      "[23:59:54] UFFTYPER: Unrecognized atom type: S_5+4 (10)\n",
      "[23:59:54] UFFTYPER: Unrecognized atom type: S_5+4 (7)\n",
      "[23:59:54] UFFTYPER: Unrecognized atom type: S_5+4 (7)\n",
      "[23:59:54] UFFTYPER: Unrecognized atom type: S_5+4 (7)\n",
      "[23:59:54] UFFTYPER: Unrecognized atom type: S_5+4 (7)\n",
      "[23:59:54] UFFTYPER: Unrecognized atom type: S_5+4 (13)\n",
      "[23:59:54] UFFTYPER: Unrecognized atom type: S_5+4 (13)\n",
      "[23:59:55] UFFTYPER: Unrecognized atom type: S_5+4 (9)\n",
      "[23:59:55] UFFTYPER: Unrecognized atom type: S_5+4 (9)\n",
      "[23:59:55] UFFTYPER: Unrecognized atom type: S_5+4 (9)\n",
      "[23:59:55] UFFTYPER: Unrecognized atom type: S_5+4 (9)\n",
      "[23:59:55] UFFTYPER: Unrecognized atom type: S_5+4 (9)\n",
      "[23:59:55] UFFTYPER: Unrecognized atom type: S_5+4 (9)\n",
      "[23:59:57] Explicit valence for atom # 7 N, 4, is greater than permitted\n"
     ]
    },
    {
     "name": "stdout",
     "output_type": "stream",
     "text": [
      "[O-]C(=O)C1CCC[NH2]1\n"
     ]
    },
    {
     "name": "stderr",
     "output_type": "stream",
     "text": [
      "[23:59:57] UFFTYPER: Unrecognized atom type: S_5+4 (9)\n",
      "[23:59:57] UFFTYPER: Unrecognized atom type: S_5+4 (9)\n",
      "[23:59:57] UFFTYPER: Unrecognized atom type: S_5+4 (9)\n",
      "[23:59:57] UFFTYPER: Unrecognized atom type: S_5+4 (9)\n",
      "[23:59:57] UFFTYPER: Unrecognized atom type: S_5+4 (9)\n",
      "[23:59:57] UFFTYPER: Unrecognized atom type: S_5+4 (9)\n",
      "[23:59:58] UFFTYPER: Unrecognized atom type: S_5+4 (18)\n",
      "[23:59:58] UFFTYPER: Unrecognized atom type: S_5+4 (22)\n",
      "[23:59:58] UFFTYPER: Unrecognized atom type: S_5+4 (18)\n",
      "[23:59:58] UFFTYPER: Unrecognized atom type: S_5+4 (22)\n",
      "[23:59:59] Explicit valence for atom # 2 N, 4, is greater than permitted\n"
     ]
    },
    {
     "name": "stdout",
     "output_type": "stream",
     "text": [
      "CC1=[N]=C(N=N1)C\n"
     ]
    },
    {
     "name": "stderr",
     "output_type": "stream",
     "text": [
      "[00:00:01] Explicit valence for atom # 4 C, 5, is greater than permitted\n"
     ]
    },
    {
     "name": "stdout",
     "output_type": "stream",
     "text": [
      "FC1=CN=[C](=O)N=C1\n"
     ]
    },
    {
     "name": "stderr",
     "output_type": "stream",
     "text": [
      "[00:00:01] Explicit valence for atom # 6 N, 4, is greater than permitted\n",
      "[00:00:01] UFFTYPER: Unrecognized atom type: S_5+4 (7)\n",
      "[00:00:01] UFFTYPER: Unrecognized atom type: S_5+4 (25)\n",
      "[00:00:01] UFFTYPER: Unrecognized atom type: S_5+4 (29)\n",
      "[00:00:01] UFFTYPER: Unrecognized atom type: S_5+4 (36)\n",
      "[00:00:01] UFFTYPER: Unrecognized atom type: S_5+4 (7)\n",
      "[00:00:01] UFFTYPER: Unrecognized atom type: S_5+4 (25)\n",
      "[00:00:01] UFFTYPER: Unrecognized atom type: S_5+4 (29)\n",
      "[00:00:01] UFFTYPER: Unrecognized atom type: S_5+4 (36)\n"
     ]
    },
    {
     "name": "stdout",
     "output_type": "stream",
     "text": [
      "[O-]C(=O)C1CC[NH](CC1)CP(=O)([O])[O]\n"
     ]
    },
    {
     "name": "stderr",
     "output_type": "stream",
     "text": [
      "[00:00:02] UFFTYPER: Unrecognized atom type: S_5+4 (1)\n",
      "[00:00:02] UFFTYPER: Unrecognized atom type: S_5+4 (12)\n",
      "[00:00:02] UFFTYPER: Unrecognized atom type: S_5+4 (1)\n",
      "[00:00:02] UFFTYPER: Unrecognized atom type: S_5+4 (12)\n"
     ]
    },
    {
     "name": "stdout",
     "output_type": "stream",
     "text": [
      "[O-]C(=O)c1ccc(cc1)OCC(COc1ccc(cc1)C(=O)[O-])(COc1ccc(cc1)C(=O)[O-])COc1ccc(cc1)C(=O)[O-]\n",
      "O=N(=O)[N][C]1=NN=NN=1\n"
     ]
    },
    {
     "name": "stderr",
     "output_type": "stream",
     "text": [
      "[00:00:03] Explicit valence for atom # 4 C, 5, is greater than permitted\n",
      "[00:00:03] Explicit valence for atom # 2 N, 4, is greater than permitted\n"
     ]
    },
    {
     "name": "stdout",
     "output_type": "stream",
     "text": [
      "CC([NH]=Cc1ccccc1[O])C[NH]=Cc1ccccc1[O]\n"
     ]
    },
    {
     "name": "stderr",
     "output_type": "stream",
     "text": [
      "[00:00:04] UFFTYPER: Unrecognized atom type: S_5+4 (13)\n",
      "[00:00:04] UFFTYPER: Unrecognized atom type: S_5+4 (23)\n",
      "[00:00:04] UFFTYPER: Unrecognized atom type: S_5+4 (13)\n",
      "[00:00:04] UFFTYPER: Unrecognized atom type: S_5+4 (23)\n",
      "[00:00:04] Explicit valence for atom # 13 N, 4, is greater than permitted\n"
     ]
    },
    {
     "name": "stdout",
     "output_type": "stream",
     "text": [
      "[O-]C(=O)c1ccc(cc1C)C1=NC(=[N]=C([N]1)c1ccc(c(c1)C)C(=O)[O-])c1ccc(c(c1)C)C(=O)[O-]\n"
     ]
    },
    {
     "name": "stderr",
     "output_type": "stream",
     "text": [
      "[00:00:06] Explicit valence for atom # 10 B, 4, is greater than permitted\n"
     ]
    },
    {
     "name": "stdout",
     "output_type": "stream",
     "text": [
      "[O-]C(=O)c1c(C)c2n(c1C)[B](F)(F)n1c([C]2c2ccccc2)c(C)c(c1C)C(=O)[O-]\n"
     ]
    },
    {
     "name": "stderr",
     "output_type": "stream",
     "text": [
      "[00:00:08] Explicit valence for atom # 0 N, 4, is greater than permitted\n"
     ]
    },
    {
     "name": "stdout",
     "output_type": "stream",
     "text": [
      "[NH3]c1cc(cc(c1)C(=O)[O-])C(=O)[O-]\n"
     ]
    },
    {
     "name": "stderr",
     "output_type": "stream",
     "text": [
      "[00:00:09] Explicit valence for atom # 2 N, 4, is greater than permitted\n"
     ]
    },
    {
     "name": "stdout",
     "output_type": "stream",
     "text": [
      "NC1=[N]=CN=N1\n"
     ]
    },
    {
     "name": "stderr",
     "output_type": "stream",
     "text": [
      "[00:00:10] Can't kekulize mol.  Unkekulized atoms: 1 4 5\n",
      "[00:00:10] UFFTYPER: Unrecognized atom type: S_5+4 (1)\n",
      "[00:00:10] UFFTYPER: Unrecognized atom type: S_5+4 (12)\n",
      "[00:00:10] UFFTYPER: Unrecognized atom type: S_5+4 (1)\n",
      "[00:00:10] UFFTYPER: Unrecognized atom type: S_5+4 (12)\n",
      "[00:00:10] UFFTYPER: Unrecognized atom type: S_5+4 (14)\n",
      "[00:00:10] UFFTYPER: Unrecognized atom type: S_5+4 (14)\n",
      "[00:00:10] UFFTYPER: Unrecognized atom type: S_5+4 (14)\n",
      "[00:00:10] UFFTYPER: Unrecognized atom type: S_5+4 (14)\n",
      "[00:00:10] UFFTYPER: Unrecognized atom type: S_5+4 (14)\n",
      "[00:00:10] UFFTYPER: Unrecognized atom type: S_5+4 (14)\n"
     ]
    },
    {
     "name": "stdout",
     "output_type": "stream",
     "text": [
      "Cc1[nH][n-]c(c1c1c(C)[n-][nH]c1C)C\n"
     ]
    },
    {
     "name": "stderr",
     "output_type": "stream",
     "text": [
      "[00:00:11] Explicit valence for atom # 7 N, 4, is greater than permitted\n"
     ]
    },
    {
     "name": "stdout",
     "output_type": "stream",
     "text": [
      "n1ccc(cc1)C1=[N]=C(N=N1)c1cnccn1\n"
     ]
    },
    {
     "name": "stderr",
     "output_type": "stream",
     "text": [
      "[00:00:13] UFFTYPER: Unrecognized atom type: S_5+4 (9)\n",
      "[00:00:13] UFFTYPER: Unrecognized atom type: S_5+4 (9)\n",
      "[00:00:13] UFFTYPER: Unrecognized atom type: Cu6+1 (1)\n",
      "[00:00:13] UFFTYPER: Unrecognized atom type: Cu6+1 (16)\n",
      "[00:00:13] UFFTYPER: Unrecognized atom type: Cu6+1 (1)\n",
      "[00:00:13] UFFTYPER: Unrecognized atom type: Cu6+1 (16)\n",
      "[00:00:14] Explicit valence for atom # 9 N, 4, is greater than permitted\n"
     ]
    },
    {
     "name": "stdout",
     "output_type": "stream",
     "text": [
      "n1ccc(cc1)C1=NC(=[N]=C([N]1)c1ccncc1)c1ccncc1\n"
     ]
    },
    {
     "name": "stderr",
     "output_type": "stream",
     "text": [
      "[00:00:14] Explicit valence for atom # 4 N, 4, is greater than permitted\n"
     ]
    },
    {
     "name": "stdout",
     "output_type": "stream",
     "text": [
      "[O-]C(=O)C([NH]=Cc1ccccc1[O])C\n"
     ]
    },
    {
     "name": "stderr",
     "output_type": "stream",
     "text": [
      "[00:00:14] Explicit valence for atom # 7 N, 4, is greater than permitted\n"
     ]
    },
    {
     "name": "stdout",
     "output_type": "stream",
     "text": [
      "N1=CC2=NC=NC2=[N]=C1\n"
     ]
    },
    {
     "name": "stderr",
     "output_type": "stream",
     "text": [
      "[00:00:15] Explicit valence for atom # 3 N, 4, is greater than permitted\n"
     ]
    },
    {
     "name": "stdout",
     "output_type": "stream",
     "text": [
      "C[N]C(=[NH2])C=N\n"
     ]
    },
    {
     "name": "stderr",
     "output_type": "stream",
     "text": [
      "[00:00:17] UFFTYPER: Unrecognized atom type: S_5+4 (8)\n",
      "[00:00:17] UFFTYPER: Unrecognized atom type: S_5+4 (15)\n",
      "[00:00:17] UFFTYPER: Unrecognized atom type: S_5+4 (8)\n",
      "[00:00:17] UFFTYPER: Unrecognized atom type: S_5+4 (15)\n",
      "[00:00:17] UFFTYPER: Unrecognized atom type: S_5+4 (8)\n",
      "[00:00:17] UFFTYPER: Unrecognized atom type: S_5+4 (15)\n",
      "[00:00:17] UFFTYPER: Unrecognized atom type: S_5+4 (8)\n",
      "[00:00:17] UFFTYPER: Unrecognized atom type: S_5+4 (15)\n",
      "[00:00:17] UFFTYPER: Unrecognized atom type: S_5+4 (8)\n",
      "[00:00:17] UFFTYPER: Unrecognized atom type: S_5+4 (15)\n",
      "[00:00:17] UFFTYPER: Unrecognized atom type: S_5+4 (8)\n",
      "[00:00:17] UFFTYPER: Unrecognized atom type: S_5+4 (15)\n",
      "[00:00:17] UFFTYPER: Unrecognized atom type: S_5+4 (9)\n",
      "[00:00:17] UFFTYPER: Unrecognized atom type: S_5+4 (17)\n",
      "[00:00:17] UFFTYPER: Unrecognized atom type: S_5+4 (9)\n",
      "[00:00:17] UFFTYPER: Unrecognized atom type: S_5+4 (17)\n",
      "[00:00:17] Explicit valence for atom # 4 N, 4, is greater than permitted\n"
     ]
    },
    {
     "name": "stdout",
     "output_type": "stream",
     "text": [
      "CCOC1=[N]=C(OCC)C(=[N]=C1OCC)OCC\n"
     ]
    },
    {
     "name": "stderr",
     "output_type": "stream",
     "text": [
      "[00:00:17] Can't kekulize mol.  Unkekulized atoms: 0 1 2\n",
      "[00:00:18] Explicit valence for atom # 1 N, 4, is greater than permitted\n"
     ]
    },
    {
     "name": "stdout",
     "output_type": "stream",
     "text": [
      "c1ccn([n-]1)Cc1ccc(cc1)c1ccc(cc1)Cn1[n-]ccc1\n",
      "[N]=[N]=Nc1ccc(cc1)S([O])([O])[O]\n",
      "[O-]C(=O)C#Cc1cc2C#Cc3c(C#Cc(c1)c2)cc1c(c3)C#Cc2cc(cc(C#C1)c2)C#CC(=O)[O-]\n"
     ]
    },
    {
     "name": "stderr",
     "output_type": "stream",
     "text": [
      "[00:00:33] UFFTYPER: Unrecognized atom type: Ag6+1 (0)\n",
      "[00:00:33] UFFTYPER: Unrecognized atom type: Ag6+1 (19)\n",
      "[00:00:33] UFFTYPER: Unrecognized atom type: Ag6+1 (0)\n",
      "[00:00:33] UFFTYPER: Unrecognized atom type: Ag6+1 (19)\n",
      "[00:00:33] Explicit valence for atom # 2 N, 4, is greater than permitted\n"
     ]
    },
    {
     "name": "stdout",
     "output_type": "stream",
     "text": [
      "CC(=[NH]CC[NH]=C([CH]C(=O)C)C)[CH]C(=O)C\n"
     ]
    },
    {
     "name": "stderr",
     "output_type": "stream",
     "text": [
      "[00:00:34] UFFTYPER: Unrecognized atom type: S_5+4 (1)\n",
      "[00:00:34] UFFTYPER: Unrecognized atom type: S_5+4 (1)\n",
      "[00:00:35] Can't kekulize mol.  Unkekulized atoms: 5 6 7\n",
      "[00:00:35] Explicit valence for atom # 5 N, 4, is greater than permitted\n",
      "[00:00:35] Explicit valence for atom # 6 N, 4, is greater than permitted\n"
     ]
    },
    {
     "name": "stdout",
     "output_type": "stream",
     "text": [
      "[O-]C(=O)Cn1ccc([n-]1)c1ccccn1\n",
      "NC1=C2[N]C=[N]=C2[N]C=N1\n",
      "Nc1ncnc2=[N]=CN=c12\n"
     ]
    },
    {
     "name": "stderr",
     "output_type": "stream",
     "text": [
      "[00:00:36] UFFTYPER: Unrecognized atom type: S_5+4 (1)\n",
      "[00:00:36] UFFTYPER: Unrecognized atom type: S_5+4 (12)\n",
      "[00:00:36] UFFTYPER: Unrecognized atom type: S_5+4 (1)\n",
      "[00:00:36] UFFTYPER: Unrecognized atom type: S_5+4 (12)\n",
      "[00:00:37] Explicit valence for atom # 8 N, 4, is greater than permitted\n"
     ]
    },
    {
     "name": "stdout",
     "output_type": "stream",
     "text": [
      "[O-]C(=O)CC(C(=O)[O-])[NH3]\n"
     ]
    },
    {
     "name": "stderr",
     "output_type": "stream",
     "text": [
      "[00:00:37] UFFTYPER: Unrecognized atom type: S_5+4 (9)\n",
      "[00:00:37] UFFTYPER: Unrecognized atom type: S_5+4 (9)\n",
      "[00:00:38] Explicit valence for atom # 12 N, 4, is greater than permitted\n",
      "[00:00:38] Explicit valence for atom # 10 N, 4, is greater than permitted\n"
     ]
    },
    {
     "name": "stdout",
     "output_type": "stream",
     "text": [
      "[O-]C(=O)c1ccc(cc1)C1=NC(=[N]=C([N]1)c1ccc(cc1)C(=O)[O-])C#CC1=[N]=C([N]C(=N1)c1ccc(cc1)C(=O)[O-])c1ccc(cc1)C(=O)[O-]\n",
      "[O-]C(=O)c1ccc(cc1)C1=[N]=C(N=C([N]1)C#CC1=NC(=[N]=C([N]1)c1ccc(cc1)C(=O)[O-])c1ccc(cc1)C(=O)[O-])c1ccc(cc1)C(=O)[O-]\n",
      "[O-]C(=O)c1cc2C3C4c(c1)c2-c1c2C3C4c1cc(c2)C(=O)[O-]\n",
      "C1=[N]=c2c(=N1)cncn2\n"
     ]
    },
    {
     "name": "stderr",
     "output_type": "stream",
     "text": [
      "[00:00:42] Explicit valence for atom # 1 N, 4, is greater than permitted\n",
      "[00:00:43] UFFTYPER: Unrecognized atom type: S_5+4 (14)\n",
      "[00:00:43] UFFTYPER: Unrecognized atom type: S_5+4 (14)\n",
      "[00:00:43] UFFTYPER: Unrecognized atom type: S_5+4 (14)\n",
      "[00:00:43] UFFTYPER: Unrecognized atom type: S_5+4 (14)\n",
      "[00:00:43] UFFTYPER: Unrecognized atom type: S_5+4 (14)\n",
      "[00:00:43] UFFTYPER: Unrecognized atom type: S_5+4 (14)\n",
      "[00:00:44] UFFTYPER: Unrecognized atom type: S_5+4 (1)\n",
      "[00:00:44] UFFTYPER: Unrecognized atom type: S_5+4 (1)\n",
      "[00:00:44] Explicit valence for atom # 5 B, 4, is greater than permitted\n"
     ]
    },
    {
     "name": "stdout",
     "output_type": "stream",
     "text": [
      "c1ncn(c1)[B](n1cncc1)(n1cncc1)n1cncc1\n"
     ]
    },
    {
     "name": "stderr",
     "output_type": "stream",
     "text": [
      "[00:00:44] UFFTYPER: Unrecognized atom type: S_5+4 (9)\n",
      "[00:00:44] UFFTYPER: Unrecognized atom type: S_5+4 (17)\n",
      "[00:00:44] UFFTYPER: Unrecognized atom type: S_5+4 (9)\n",
      "[00:00:44] UFFTYPER: Unrecognized atom type: S_5+4 (17)\n",
      "[00:00:44] UFFTYPER: Unrecognized atom type: S_5+4 (9)\n",
      "[00:00:44] UFFTYPER: Unrecognized atom type: S_5+4 (17)\n",
      "[00:00:44] UFFTYPER: Unrecognized atom type: S_5+4 (9)\n",
      "[00:00:44] UFFTYPER: Unrecognized atom type: S_5+4 (17)\n",
      "[00:00:44] Explicit valence for atom # 9 N, 4, is greater than permitted\n"
     ]
    },
    {
     "name": "stdout",
     "output_type": "stream",
     "text": [
      "n1ccc(cc1)C1=NC(=[N]=C([N]1)c1ccncc1)c1ccncc1\n"
     ]
    },
    {
     "name": "stderr",
     "output_type": "stream",
     "text": [
      "[00:00:46] UFFTYPER: Unrecognized atom type: S_5+4 (22)\n",
      "[00:00:46] UFFTYPER: Unrecognized atom type: S_5+4 (26)\n",
      "[00:00:46] UFFTYPER: Unrecognized atom type: S_5+4 (22)\n",
      "[00:00:46] UFFTYPER: Unrecognized atom type: S_5+4 (26)\n",
      "[00:00:46] Explicit valence for atom # 16 N, 4, is greater than permitted\n"
     ]
    },
    {
     "name": "stdout",
     "output_type": "stream",
     "text": [
      "[O-]C(=O)c1ccc(cc1S([O])(O)[O])C1=NC(=[N]=C([N]1)c1ccc(c(c1)S([O])([O])O)C(=O)[O-])c1ccc(c(c1)S(O)([O])[O])C(=O)[O-]\n",
      "[n-]1[nH]cc(c1)Cc1c[nH][n-]c1\n",
      "C1=CC=C([CH]N1)C1=NC(=[N]=C([N]1)c1cccnc1)c1cccnc1\n"
     ]
    },
    {
     "name": "stderr",
     "output_type": "stream",
     "text": [
      "[00:00:46] Can't kekulize mol.  Unkekulized atoms: 2 3 4\n",
      "[00:00:46] Explicit valence for atom # 9 N, 4, is greater than permitted\n",
      "[00:00:46] Explicit valence for atom # 32 N, 4, is greater than permitted\n",
      "[00:00:46] Can't kekulize mol.  Unkekulized atoms: 2 3 6\n"
     ]
    },
    {
     "name": "stdout",
     "output_type": "stream",
     "text": [
      "CNC1(O)C2(C#CC(=O)[O-])C(O)([O])C(C(C1(O)NC)(C(C2(O)NC)(O)NC)C#CC(=O)[O-])([NH2]C)NC\n",
      "[O]S(c1c[nH][n-]c1)([O])[O]\n"
     ]
    },
    {
     "name": "stderr",
     "output_type": "stream",
     "text": [
      "[00:00:46] UFFTYPER: Unrecognized atom type: S_5+4 (11)\n",
      "[00:00:46] UFFTYPER: Unrecognized atom type: S_5+4 (15)\n",
      "[00:00:46] UFFTYPER: Unrecognized atom type: S_5+4 (11)\n",
      "[00:00:46] UFFTYPER: Unrecognized atom type: S_5+4 (15)\n",
      "[00:00:46] UFFTYPER: Unrecognized atom type: S_5+4 (7)\n",
      "[00:00:46] UFFTYPER: Unrecognized atom type: S_5+4 (7)\n",
      "[00:00:47] Can't kekulize mol.  Unkekulized atoms: 1 4 5\n"
     ]
    },
    {
     "name": "stdout",
     "output_type": "stream",
     "text": [
      "Cc1[nH][n-]c(c1Cc1c(C)[n-][nH]c1C)C\n"
     ]
    },
    {
     "name": "stderr",
     "output_type": "stream",
     "text": [
      "[00:00:48] UFFTYPER: Unrecognized atom type: S_5+4 (7)\n",
      "[00:00:48] UFFTYPER: Unrecognized atom type: S_5+4 (11)\n",
      "[00:00:48] UFFTYPER: Unrecognized atom type: S_5+4 (7)\n",
      "[00:00:48] UFFTYPER: Unrecognized atom type: S_5+4 (11)\n",
      "[00:00:48] UFFTYPER: Unrecognized atom type: S_5+4 (18)\n",
      "[00:00:48] UFFTYPER: Unrecognized atom type: S_5+4 (22)\n",
      "[00:00:48] UFFTYPER: Unrecognized atom type: S_5+4 (26)\n",
      "[00:00:48] UFFTYPER: Unrecognized atom type: S_5+4 (30)\n",
      "[00:00:48] UFFTYPER: Unrecognized atom type: S_5+4 (18)\n",
      "[00:00:48] UFFTYPER: Unrecognized atom type: S_5+4 (22)\n",
      "[00:00:48] UFFTYPER: Unrecognized atom type: S_5+4 (26)\n",
      "[00:00:48] UFFTYPER: Unrecognized atom type: S_5+4 (30)\n",
      "[00:00:48] UFFTYPER: Unrecognized atom type: S_5+4 (18)\n",
      "[00:00:48] UFFTYPER: Unrecognized atom type: S_5+4 (22)\n",
      "[00:00:48] UFFTYPER: Unrecognized atom type: S_5+4 (26)\n",
      "[00:00:48] UFFTYPER: Unrecognized atom type: S_5+4 (30)\n",
      "[00:00:48] UFFTYPER: Unrecognized atom type: S_5+4 (18)\n",
      "[00:00:48] UFFTYPER: Unrecognized atom type: S_5+4 (22)\n",
      "[00:00:48] UFFTYPER: Unrecognized atom type: S_5+4 (26)\n",
      "[00:00:48] UFFTYPER: Unrecognized atom type: S_5+4 (30)\n"
     ]
    },
    {
     "name": "stdout",
     "output_type": "stream",
     "text": [
      "N1=C[C](C=N1)c1ccc(cc1)C#CC(C#Cc1ccc(cc1)C1=CN=N[CH]1)(C#Cc1ccc(cc1)C1=C[N]N=C1)C#Cc1ccc(cc1)C1=C[N]N=C1\n",
      "N1=C[C](C=N1)c1ccc(cc1)C#CC(C#Cc1ccc(cc1)C1=C[N]N=C1)(C#Cc1ccc(cc1)C1=C[N]N=C1)C#Cc1ccc(cc1)[C]1C=NN=C1\n"
     ]
    },
    {
     "name": "stderr",
     "output_type": "stream",
     "text": [
      "[00:00:50] UFFTYPER: Unrecognized charge state for atom: 0\n",
      "[00:00:50] UFFTYPER: Unrecognized atom type: Se2+2 (0)\n",
      "[00:00:50] UFFTYPER: Unrecognized charge state for atom: 0\n",
      "[00:00:50] UFFTYPER: Unrecognized atom type: Se2+2 (0)\n",
      "[00:00:50] Explicit valence for atom # 4 N, 4, is greater than permitted\n",
      "[00:00:50] Explicit valence for atom # 4 C, 5, is greater than permitted\n"
     ]
    },
    {
     "name": "stdout",
     "output_type": "stream",
     "text": [
      "[O-]C(=O)C[NH2]CC(=O)[O-]\n",
      "[N]1C=NN=[C]1=S\n"
     ]
    },
    {
     "name": "stderr",
     "output_type": "stream",
     "text": [
      "[00:00:51] Can't kekulize mol.  Unkekulized atoms: 1 2 3\n",
      "[00:00:51] UFFTYPER: Unrecognized atom type: S_5+4 (2)\n",
      "[00:00:51] UFFTYPER: Unrecognized atom type: S_5+4 (2)\n"
     ]
    },
    {
     "name": "stdout",
     "output_type": "stream",
     "text": [
      "Cc1ccn([n-]1)C(n1[n-]ccc1C)c1ccccc1Sc1ccccc1\n"
     ]
    },
    {
     "name": "stderr",
     "output_type": "stream",
     "text": [
      "[00:00:51] UFFTYPER: Unrecognized atom type: S_5+4 (12)\n",
      "[00:00:51] UFFTYPER: Unrecognized atom type: S_5+4 (22)\n",
      "[00:00:51] UFFTYPER: Unrecognized atom type: S_5+4 (12)\n",
      "[00:00:51] UFFTYPER: Unrecognized atom type: S_5+4 (22)\n",
      "[00:00:51] UFFTYPER: Unrecognized atom type: S_5+4 (9)\n",
      "[00:00:51] UFFTYPER: Unrecognized atom type: S_5+4 (19)\n",
      "[00:00:51] UFFTYPER: Unrecognized atom type: S_5+4 (26)\n",
      "[00:00:51] UFFTYPER: Unrecognized atom type: S_5+4 (30)\n",
      "[00:00:51] UFFTYPER: Unrecognized atom type: S_5+4 (9)\n",
      "[00:00:51] UFFTYPER: Unrecognized atom type: S_5+4 (19)\n",
      "[00:00:51] UFFTYPER: Unrecognized atom type: S_5+4 (26)\n",
      "[00:00:51] UFFTYPER: Unrecognized atom type: S_5+4 (30)\n",
      "[00:00:51] UFFTYPER: Unrecognized atom type: S_5+4 (11)\n",
      "[00:00:51] UFFTYPER: Unrecognized atom type: S_5+4 (20)\n",
      "[00:00:51] UFFTYPER: Unrecognized atom type: S_5+4 (11)\n",
      "[00:00:51] UFFTYPER: Unrecognized atom type: S_5+4 (20)\n",
      "[00:00:51] Explicit valence for atom # 8 N, 4, is greater than permitted\n"
     ]
    },
    {
     "name": "stdout",
     "output_type": "stream",
     "text": [
      "[O]c1ccccc1C=[NH]CC[NH]=Cc1ccccc1[O]\n"
     ]
    },
    {
     "name": "stderr",
     "output_type": "stream",
     "text": [
      "[00:00:52] Explicit valence for atom # 21 N, 4, is greater than permitted\n"
     ]
    },
    {
     "name": "stdout",
     "output_type": "stream",
     "text": [
      "Sc1cc2c(cc1-c1cc3-c4cc(S)c(cc4S)C4=NC(=[N]=C([N]4)c4cc(S)c(cc4S)C(=O)[O-])c4c(cc(-c3cc1-c1cc(c(C3=[N]=C([N]C2=N3)c2cc(S)c(cc2S)C(=O)[O-])cc1S)S)c(S)c4)S)S\n"
     ]
    },
    {
     "name": "stderr",
     "output_type": "stream",
     "text": [
      "[00:00:54] Can't kekulize mol.  Unkekulized atoms: 1 4 5\n"
     ]
    },
    {
     "name": "stdout",
     "output_type": "stream",
     "text": [
      "Cc1[nH][n-]c(c1Cc1c(C)[n-][nH]c1C)C\n"
     ]
    },
    {
     "name": "stderr",
     "output_type": "stream",
     "text": [
      "[00:00:56] Explicit valence for atom # 5 N, 4, is greater than permitted\n",
      "[00:00:56] Explicit valence for atom # 13 N, 4, is greater than permitted\n"
     ]
    },
    {
     "name": "stdout",
     "output_type": "stream",
     "text": [
      "NC1=C2[N]C=[N]=C2N=CN1\n",
      "[O-]C(=O)c1ccc(cc1C)C1=NC(=[N]=C([N]1)c1ccc(c(c1)C)C(=O)[O-])c1ccc(c(c1)C)C(=O)[O-]\n"
     ]
    },
    {
     "name": "stderr",
     "output_type": "stream",
     "text": [
      "[00:00:57] Explicit valence for atom # 10 N, 4, is greater than permitted\n",
      "[00:00:57] Explicit valence for atom # 9 N, 4, is greater than permitted\n"
     ]
    },
    {
     "name": "stdout",
     "output_type": "stream",
     "text": [
      "[O-]C(=O)C(COP(=O)([O])[O])[NH3]\n",
      "n1ccc(cc1)C1=NC(=[N]=C([N]1)c1ccncc1)c1ccncc1\n"
     ]
    },
    {
     "name": "stderr",
     "output_type": "stream",
     "text": [
      "[00:00:58] UFFTYPER: Unrecognized atom type: S_5+4 (18)\n",
      "[00:00:58] UFFTYPER: Unrecognized atom type: S_5+4 (25)\n",
      "[00:00:58] UFFTYPER: Unrecognized atom type: S_5+4 (29)\n",
      "[00:00:58] UFFTYPER: Unrecognized atom type: S_5+4 (33)\n",
      "[00:00:58] UFFTYPER: Unrecognized atom type: S_5+4 (38)\n",
      "[00:00:58] UFFTYPER: Unrecognized atom type: S_5+4 (18)\n",
      "[00:00:58] UFFTYPER: Unrecognized atom type: S_5+4 (25)\n",
      "[00:00:58] UFFTYPER: Unrecognized atom type: S_5+4 (29)\n",
      "[00:00:58] UFFTYPER: Unrecognized atom type: S_5+4 (33)\n",
      "[00:00:58] UFFTYPER: Unrecognized atom type: S_5+4 (38)\n",
      "[00:00:58] UFFTYPER: Unrecognized atom type: S_5+4 (18)\n",
      "[00:00:58] UFFTYPER: Unrecognized atom type: S_5+4 (25)\n",
      "[00:00:58] UFFTYPER: Unrecognized atom type: S_5+4 (29)\n",
      "[00:00:58] UFFTYPER: Unrecognized atom type: S_5+4 (33)\n",
      "[00:00:58] UFFTYPER: Unrecognized atom type: S_5+4 (38)\n",
      "[00:00:58] UFFTYPER: Unrecognized atom type: S_5+4 (18)\n",
      "[00:00:58] UFFTYPER: Unrecognized atom type: S_5+4 (25)\n",
      "[00:00:58] UFFTYPER: Unrecognized atom type: S_5+4 (29)\n",
      "[00:00:58] UFFTYPER: Unrecognized atom type: S_5+4 (33)\n",
      "[00:00:58] UFFTYPER: Unrecognized atom type: S_5+4 (38)\n",
      "[00:00:58] UFFTYPER: Unrecognized atom type: S_5+4 (19)\n",
      "[00:00:58] UFFTYPER: Unrecognized atom type: S_5+4 (26)\n",
      "[00:00:58] UFFTYPER: Unrecognized atom type: S_5+4 (30)\n",
      "[00:00:58] UFFTYPER: Unrecognized atom type: S_5+4 (19)\n",
      "[00:00:58] UFFTYPER: Unrecognized atom type: S_5+4 (26)\n",
      "[00:00:58] UFFTYPER: Unrecognized atom type: S_5+4 (30)\n",
      "[00:00:58] Explicit valence for atom # 7 N, 4, is greater than permitted\n"
     ]
    },
    {
     "name": "stdout",
     "output_type": "stream",
     "text": [
      "n1ccc(cc1)C1=[N]=C(N=N1)c1cnccn1\n"
     ]
    },
    {
     "name": "stderr",
     "output_type": "stream",
     "text": [
      "[00:00:59] UFFTYPER: Unrecognized atom type: S_5+4 (9)\n",
      "[00:00:59] UFFTYPER: Unrecognized atom type: S_5+4 (9)\n",
      "[00:01:00] Explicit valence for atom # 2 N, 4, is greater than permitted\n"
     ]
    },
    {
     "name": "stdout",
     "output_type": "stream",
     "text": [
      "NC1=[N]=CN=N1\n"
     ]
    },
    {
     "name": "stderr",
     "output_type": "stream",
     "text": [
      "[00:01:01] Explicit valence for atom # 3 N, 4, is greater than permitted\n",
      "[00:01:02] UFFTYPER: Unrecognized charge state for atom: 9\n",
      "[00:01:02] UFFTYPER: Unrecognized charge state for atom: 9\n"
     ]
    },
    {
     "name": "stdout",
     "output_type": "stream",
     "text": [
      "CCC1=[N]=CN=N1\n"
     ]
    },
    {
     "name": "stderr",
     "output_type": "stream",
     "text": [
      "[00:01:02] Explicit valence for atom # 2 N, 4, is greater than permitted\n",
      "[00:01:02] Can't kekulize mol.  Unkekulized atoms: 11 12 15\n"
     ]
    },
    {
     "name": "stdout",
     "output_type": "stream",
     "text": [
      "NC1=[N]=C(N=N1)N(=O)=O\n",
      "n1ccc(cc1)C1=N[C](N[N]1)c1c[nH][n-]c1\n"
     ]
    },
    {
     "name": "stderr",
     "output_type": "stream",
     "text": [
      "[00:01:03] Explicit valence for atom # 8 N, 4, is greater than permitted\n",
      "[00:01:03] Explicit valence for atom # 6 N, 4, is greater than permitted\n"
     ]
    },
    {
     "name": "stdout",
     "output_type": "stream",
     "text": [
      "[O-]C(=O)C#CC1=NC(=[N]=C([N]1)C#CC(=O)[O-])c1ccc(cc1)C1=[N]=C([N]C(=N1)C#CC(=O)[O-])C#CC(=O)[O-]\n",
      "[O-]C(=O)C#CC1=[N]=C(C#CC(=O)[O-])N=C([N]1)c1ccc(cc1)C1=NC(=[N]=C([N]1)C#CC(=O)[O-])C#CC(=O)[O-]\n"
     ]
    },
    {
     "name": "stderr",
     "output_type": "stream",
     "text": [
      "[00:01:03] Explicit valence for atom # 9 N, 4, is greater than permitted\n",
      "[00:01:03] UFFTYPER: Unrecognized atom type: S_5+4 (14)\n",
      "[00:01:03] UFFTYPER: Unrecognized atom type: S_5+4 (18)\n",
      "[00:01:03] UFFTYPER: Unrecognized atom type: S_5+4 (22)\n",
      "[00:01:03] UFFTYPER: Unrecognized atom type: S_5+4 (26)\n",
      "[00:01:03] UFFTYPER: Unrecognized atom type: S_5+4 (14)\n",
      "[00:01:03] UFFTYPER: Unrecognized atom type: S_5+4 (18)\n",
      "[00:01:03] UFFTYPER: Unrecognized atom type: S_5+4 (22)\n",
      "[00:01:03] UFFTYPER: Unrecognized atom type: S_5+4 (26)\n"
     ]
    },
    {
     "name": "stdout",
     "output_type": "stream",
     "text": [
      "[O-]C(=O)C(CP(=O)([O])[O])[NH3]\n"
     ]
    },
    {
     "name": "stderr",
     "output_type": "stream",
     "text": [
      "[00:01:04] Can't kekulize mol.  Unkekulized atoms: 1 4 5\n",
      "[00:01:04] Can't kekulize mol.  Unkekulized atoms: 9 10 14\n"
     ]
    },
    {
     "name": "stdout",
     "output_type": "stream",
     "text": [
      "Cc1[nH][n-]c(c1c1c(C)[n-][nH]c1C)C\n",
      "[O-]C(=O)c1ccc(cc1)c1c(C)[n-][nH]c1C\n"
     ]
    },
    {
     "name": "stderr",
     "output_type": "stream",
     "text": [
      "[00:01:04] Explicit valence for atom # 8 N, 4, is greater than permitted\n",
      "[00:01:04] Explicit valence for atom # 8 N, 4, is greater than permitted\n"
     ]
    },
    {
     "name": "stdout",
     "output_type": "stream",
     "text": [
      "[O-]C(=O)C#CC1=NC(=[N]=C([N]1)C#CC(=O)[O-])C=CC1=NC(=[N]=C([N]1)C#CC(=O)[O-])C#CC(=O)[O-]\n",
      "[O-]C(=O)C#CC1=NC(=[N]=C([N]1)C#CC(=O)[O-])C=CC1=[N]=C([N]C(=N1)C#CC(=O)[O-])C#CC(=O)[O-]\n"
     ]
    },
    {
     "name": "stderr",
     "output_type": "stream",
     "text": [
      "[00:01:06] Explicit valence for atom # 0 N, 4, is greater than permitted\n"
     ]
    },
    {
     "name": "stdout",
     "output_type": "stream",
     "text": [
      "[NH3]C(C(=O)[O-])CS([O])([O])[O]\n"
     ]
    },
    {
     "name": "stderr",
     "output_type": "stream",
     "text": [
      "[00:01:07] Explicit valence for atom # 2 N, 4, is greater than permitted\n",
      "[00:01:07] Explicit valence for atom # 7 N, 4, is greater than permitted\n"
     ]
    },
    {
     "name": "stdout",
     "output_type": "stream",
     "text": [
      "NC1=[N]=CN=N1\n",
      "[O-]C(=O)C1CCC[NH2]1\n"
     ]
    },
    {
     "name": "stderr",
     "output_type": "stream",
     "text": [
      "[00:01:07] Can't kekulize mol.  Unkekulized atoms: 8 9 10\n",
      "[00:01:07] Explicit valence for atom # 8 N, 4, is greater than permitted\n"
     ]
    },
    {
     "name": "stdout",
     "output_type": "stream",
     "text": [
      "c1cnc(cn1)n1[n-]ccc1\n",
      "CC(c1ccccc1)[NH2]CP(=O)([O])[O]\n"
     ]
    },
    {
     "name": "stderr",
     "output_type": "stream",
     "text": [
      "[00:01:08] Explicit valence for atom # 2 N, 4, is greater than permitted\n",
      "[00:01:08] Explicit valence for atom # 4 N, 4, is greater than permitted\n"
     ]
    },
    {
     "name": "stdout",
     "output_type": "stream",
     "text": [
      "NC1=[N]=CN=N1\n",
      "[O]P(=O)(C[NH]1CC[NH](CC1)CP(=O)([O])[O])[O]\n"
     ]
    },
    {
     "name": "stderr",
     "output_type": "stream",
     "text": [
      "[00:01:09] Explicit valence for atom # 7 C, 5, is greater than permitted\n",
      "[00:01:09] UFFTYPER: Unrecognized atom type: S_5+4 (9)\n",
      "[00:01:09] UFFTYPER: Unrecognized atom type: S_5+4 (21)\n",
      "[00:01:09] UFFTYPER: Unrecognized atom type: S_5+4 (25)\n",
      "[00:01:09] UFFTYPER: Unrecognized atom type: S_5+4 (32)\n",
      "[00:01:09] UFFTYPER: Unrecognized atom type: S_5+4 (9)\n",
      "[00:01:09] UFFTYPER: Unrecognized atom type: S_5+4 (21)\n",
      "[00:01:09] UFFTYPER: Unrecognized atom type: S_5+4 (25)\n",
      "[00:01:09] UFFTYPER: Unrecognized atom type: S_5+4 (32)\n",
      "[00:01:09] UFFTYPER: Unrecognized atom type: S_5+4 (9)\n",
      "[00:01:09] UFFTYPER: Unrecognized atom type: S_5+4 (21)\n",
      "[00:01:09] UFFTYPER: Unrecognized atom type: S_5+4 (25)\n",
      "[00:01:09] UFFTYPER: Unrecognized atom type: S_5+4 (9)\n",
      "[00:01:09] UFFTYPER: Unrecognized atom type: S_5+4 (21)\n",
      "[00:01:09] UFFTYPER: Unrecognized atom type: S_5+4 (25)\n"
     ]
    },
    {
     "name": "stdout",
     "output_type": "stream",
     "text": [
      "[O-]C(=O)C1=CC(=N[C](=N1)=O)C(=O)[O-]\n"
     ]
    },
    {
     "name": "stderr",
     "output_type": "stream",
     "text": [
      "[00:01:09] Explicit valence for atom # 13 N, 4, is greater than permitted\n"
     ]
    },
    {
     "name": "stdout",
     "output_type": "stream",
     "text": [
      "[O-]C(=O)c1cccc(c1)NC1=NC(=[N]=C([N]1)Nc1cccc(c1)C(=O)[O-])Nc1cccc(c1)C(=O)[O-]\n"
     ]
    },
    {
     "name": "stderr",
     "output_type": "stream",
     "text": [
      "[00:01:12] UFFTYPER: Unrecognized atom type: S_5+4 (15)\n",
      "[00:01:12] UFFTYPER: Unrecognized atom type: S_5+4 (15)\n",
      "[00:01:12] Can't kekulize mol.  Unkekulized atoms: 2 3 4\n"
     ]
    },
    {
     "name": "stdout",
     "output_type": "stream",
     "text": [
      "[n-]1[nH]cc(c1)c1c[nH][n-]c1\n",
      "[OH2][Ag]Oc1ccc(cc1S([O])([O])[O])Cl\n"
     ]
    },
    {
     "name": "stderr",
     "output_type": "stream",
     "text": [
      "[00:01:12] Explicit valence for atom # 0 O, 3, is greater than permitted\n",
      "[00:01:13] Explicit valence for atom # 8 N, 4, is greater than permitted\n",
      "[00:01:13] Explicit valence for atom # 8 N, 4, is greater than permitted\n"
     ]
    },
    {
     "name": "stdout",
     "output_type": "stream",
     "text": [
      "[O-]C(=O)C#CC1=NC(=[N]=C([N]1)C#CC(=O)[O-])C#CC1=[N]=C(N=C([N]1)C#CC(=O)[O-])C#CC(=O)[O-]\n",
      "[O-]C(=O)C#CC1=NC(=[N]=C([N]1)C#CC1=[N]=C(N=C([N]1)C#CC(=O)[O-])C#CC(=O)[O-])C#CC(=O)[O-]\n",
      "[O-]C(=O)c1cccc(c1)OCc1c(COc2cccc(c2)C(=O)[O-])c(COc2cccc(c2)C(=O)[O-])c(c(c1COc1cccc(c1)C(=O)[O-])COc1cccc(c1)C(=O)[O-])COc1cccc(c1)C(=O)[O-]\n"
     ]
    },
    {
     "name": "stderr",
     "output_type": "stream",
     "text": [
      "[00:01:14] Can't kekulize mol.  Unkekulized atoms: 6 7 8\n",
      "[00:01:14] Explicit valence for atom # 5 B, 4, is greater than permitted\n",
      "[00:01:14] Can't kekulize mol.  Unkekulized atoms: 9 10 11\n",
      "[00:01:15] Explicit valence for atom # 14 N, 4, is greater than permitted\n"
     ]
    },
    {
     "name": "stdout",
     "output_type": "stream",
     "text": [
      "[O-]C(=O)CCn1ccc([n-]1)c1ccncc1\n",
      "c1ncn(c1)[BH](n1cncc1)n1cncc1\n",
      "[O-]C(=O)c1cccc(c1)c1cc[n-][nH]1\n",
      "[O-]C(=O)c1ccc(cc1)C1=C2C=CC3=[N]2[Mn]24n5c1ccc5C(=C1[N]2=C(C=C1)C(=c1n4c(=C3c2ccc(cc2)C(=O)[O-])cc1)c1ccc(cc1)C(=O)[O-])c1ccc(cc1)C(=O)[O-]\n"
     ]
    },
    {
     "name": "stderr",
     "output_type": "stream",
     "text": [
      "[00:01:15] Explicit valence for atom # 6 N, 4, is greater than permitted\n",
      "[00:01:15] Can't kekulize mol.  Unkekulized atoms: 9 10 14\n"
     ]
    },
    {
     "name": "stdout",
     "output_type": "stream",
     "text": [
      "O=c1[nH]cnc2=[N]=CN=c12\n",
      "[O-]C(=O)c1ccc(cc1)c1c(C)[n-][nH]c1C\n"
     ]
    },
    {
     "name": "stderr",
     "output_type": "stream",
     "text": [
      "[00:01:16] UFFTYPER: Unrecognized atom type: S_5+4 (7)\n",
      "[00:01:16] UFFTYPER: Unrecognized atom type: S_5+4 (7)\n",
      "[00:01:16] Explicit valence for atom # 15 N, 4, is greater than permitted\n"
     ]
    },
    {
     "name": "stdout",
     "output_type": "stream",
     "text": [
      "O=N(=O)c1cc(ccc1C(=O)[O-])C1=NC(=[N]=C([N]1)c1ccc(c(c1)N(=O)=O)C(=O)[O-])c1ccc(c(c1)N(=O)=O)C(=O)[O-]\n"
     ]
    },
    {
     "name": "stderr",
     "output_type": "stream",
     "text": [
      "[00:01:17] Explicit valence for atom # 4 N, 4, is greater than permitted\n"
     ]
    },
    {
     "name": "stdout",
     "output_type": "stream",
     "text": [
      "CC1=NC(=[N]=C([N]1)N)N\n"
     ]
    },
    {
     "name": "stderr",
     "output_type": "stream",
     "text": [
      "[00:01:19] Explicit valence for atom # 8 B, 4, is greater than permitted\n",
      "[00:01:19] Explicit valence for atom # 8 B, 4, is greater than permitted\n",
      "[00:01:19] Can't kekulize mol.  Unkekulized atoms: 11 12 13\n"
     ]
    },
    {
     "name": "stdout",
     "output_type": "stream",
     "text": [
      "O=N(=O)C1=N[CH]N([N]1)[BH2]n1cnc(n1)N(=O)=O\n",
      "O=N(=O)c1ncn(n1)[BH2]n1cnc(n1)N(=O)=O\n",
      "[O-]C(=O)c1cncc(c1)n1[n-]ccc1\n"
     ]
    },
    {
     "name": "stderr",
     "output_type": "stream",
     "text": [
      "[00:01:19] Explicit valence for atom # 13 N, 4, is greater than permitted\n",
      "[00:01:19] Explicit valence for atom # 10 N, 4, is greater than permitted\n",
      "[00:01:19] Explicit valence for atom # 4 C, 5, is greater than permitted\n"
     ]
    },
    {
     "name": "stdout",
     "output_type": "stream",
     "text": [
      "Brc1cc(C(=O)[O-])c(cc1C1=NC(=[N]=C([N]1)c1cc(Br)c(cc1Br)C(=O)[O-])c1cc(Br)c(cc1Br)C1=[N]=C([N]C(=N1)c1cc(Br)c(cc1Br)C(=O)[O-])c1cc(Br)c(cc1Br)C(=O)[O-])Br\n",
      "Brc1cc(c(cc1C1=NC(=[N]=C([N]1)c1cc(Br)c(cc1Br)C(=O)[O-])c1cc(Br)c(cc1Br)C(=O)[O-])Br)C1=[N]=C([N]C(=N1)c1cc(Br)c(cc1Br)C(=O)[O-])c1cc(Br)c(cc1Br)C(=O)[O-]\n",
      "FC1=CN=[C](=O)N=C1\n"
     ]
    },
    {
     "name": "stderr",
     "output_type": "stream",
     "text": [
      "[00:01:20] UFFTYPER: Unrecognized atom type: S_5+4 (17)\n",
      "[00:01:20] UFFTYPER: Unrecognized atom type: S_5+4 (21)\n",
      "[00:01:20] UFFTYPER: Unrecognized atom type: S_5+4 (30)\n",
      "[00:01:20] UFFTYPER: Unrecognized atom type: S_5+4 (34)\n",
      "[00:01:20] UFFTYPER: Unrecognized atom type: S_5+4 (17)\n",
      "[00:01:20] UFFTYPER: Unrecognized atom type: S_5+4 (21)\n",
      "[00:01:20] UFFTYPER: Unrecognized atom type: S_5+4 (30)\n",
      "[00:01:20] UFFTYPER: Unrecognized atom type: S_5+4 (34)\n",
      "[00:01:20] UFFTYPER: Unrecognized atom type: S_5+4 (1)\n",
      "[00:01:20] UFFTYPER: Unrecognized atom type: S_5+4 (12)\n",
      "[00:01:20] UFFTYPER: Unrecognized atom type: S_5+4 (1)\n",
      "[00:01:20] UFFTYPER: Unrecognized atom type: S_5+4 (12)\n",
      "[00:01:20] UFFTYPER: Unrecognized atom type: S_5+4 (9)\n",
      "[00:01:20] UFFTYPER: Unrecognized atom type: S_5+4 (9)\n",
      "[00:01:20] UFFTYPER: Unrecognized atom type: S_5+4 (9)\n",
      "[00:01:20] UFFTYPER: Unrecognized atom type: S_5+4 (9)\n",
      "[00:01:20] UFFTYPER: Unrecognized atom type: S_5+4 (12)\n",
      "[00:01:20] UFFTYPER: Unrecognized atom type: S_5+4 (25)\n",
      "[00:01:20] UFFTYPER: Unrecognized atom type: S_5+4 (12)\n",
      "[00:01:20] UFFTYPER: Unrecognized atom type: S_5+4 (25)\n",
      "[00:01:20] UFFTYPER: Unrecognized atom type: S_5+4 (14)\n",
      "[00:01:20] UFFTYPER: Unrecognized atom type: S_5+4 (29)\n",
      "[00:01:20] UFFTYPER: Unrecognized atom type: S_5+4 (14)\n",
      "[00:01:20] UFFTYPER: Unrecognized atom type: S_5+4 (29)\n",
      "[00:01:20] UFFTYPER: Unrecognized atom type: S_5+4 (22)\n",
      "[00:01:20] UFFTYPER: Unrecognized atom type: S_5+4 (28)\n",
      "[00:01:20] UFFTYPER: Unrecognized atom type: S_5+4 (32)\n",
      "[00:01:20] UFFTYPER: Unrecognized atom type: S_5+4 (36)\n",
      "[00:01:21] UFFTYPER: Unrecognized atom type: S_5+4 (22)\n",
      "[00:01:21] UFFTYPER: Unrecognized atom type: S_5+4 (28)\n",
      "[00:01:21] UFFTYPER: Unrecognized atom type: S_5+4 (32)\n",
      "[00:01:21] UFFTYPER: Unrecognized atom type: S_5+4 (36)\n",
      "[00:01:21] UFFTYPER: Unrecognized atom type: S_5+4 (11)\n",
      "[00:01:21] UFFTYPER: Unrecognized atom type: S_5+4 (24)\n",
      "[00:01:21] UFFTYPER: Unrecognized atom type: S_5+4 (11)\n",
      "[00:01:21] UFFTYPER: Unrecognized atom type: S_5+4 (24)\n",
      "[00:01:22] Can't kekulize mol.  Unkekulized atoms: 3 6 7\n",
      "[00:01:22] Explicit valence for atom # 4 N, 4, is greater than permitted\n"
     ]
    },
    {
     "name": "stdout",
     "output_type": "stream",
     "text": [
      "[O-]C(=O)c1[nH][n-]c(c1)C(=O)[O-]\n",
      "[O]P(=O)(C[NH2]CP(=O)(O)[O])O\n"
     ]
    },
    {
     "name": "stderr",
     "output_type": "stream",
     "text": [
      "[00:01:25] UFFTYPER: Unrecognized atom type: S_5+4 (9)\n",
      "[00:01:25] UFFTYPER: Unrecognized atom type: S_5+4 (9)\n"
     ]
    },
    {
     "name": "stdout",
     "output_type": "stream",
     "text": [
      "[O-]C(=O)c1ccc(c2c1c(ccc2C(=O)[O-])C(=O)[O-])C(=O)[O-]\n"
     ]
    },
    {
     "name": "stderr",
     "output_type": "stream",
     "text": [
      "[00:01:29] Explicit valence for atom # 8 N, 4, is greater than permitted\n",
      "[00:01:29] Explicit valence for atom # 8 N, 4, is greater than permitted\n",
      "[00:01:29] Explicit valence for atom # 8 N, 4, is greater than permitted\n",
      "[00:01:29] Explicit valence for atom # 9 N, 4, is greater than permitted\n",
      "[00:01:29] Explicit valence for atom # 5 B, 4, is greater than permitted\n",
      "[00:01:29] UFFTYPER: Unrecognized atom type: S_5+4 (14)\n",
      "[00:01:29] UFFTYPER: Unrecognized atom type: S_5+4 (14)\n"
     ]
    },
    {
     "name": "stdout",
     "output_type": "stream",
     "text": [
      "[O-]C(=O)C#CC1=NC(=[N]=C([N]1)C#CC(=O)[O-])C#CC1=NC(=[N]=C([N]1)C#CC(=O)[O-])C#CC(=O)[O-]\n",
      "[O-]C(=O)C#CC1=NC(=[N]=C([N]1)C#CC(=O)[O-])C#CC1=[N]=C([N]C(=N1)C#CC(=O)[O-])C#CC(=O)[O-]\n",
      "[O-]C(=O)C#CC1=NC(=[N]=C([N]1)C#CC1=NC(=[N]=C([N]1)C#CC(=O)[O-])C#CC(=O)[O-])C#CC(=O)[O-]\n",
      "n1ccc(cc1)C1=NC(=[N]=C([N]1)c1ccncc1)c1ccncc1\n",
      "n1nnn(c1)[BH2]n1cnnn1\n"
     ]
    },
    {
     "name": "stderr",
     "output_type": "stream",
     "text": [
      "[00:01:29] UFFTYPER: Unrecognized atom type: S_5+4 (14)\n",
      "[00:01:29] UFFTYPER: Unrecognized atom type: S_5+4 (14)\n",
      "[00:01:29] UFFTYPER: Unrecognized atom type: S_5+4 (14)\n",
      "[00:01:29] UFFTYPER: Unrecognized atom type: S_5+4 (14)\n",
      "[00:01:29] UFFTYPER: Unrecognized atom type: S_5+4 (2)\n",
      "[00:01:29] UFFTYPER: Unrecognized atom type: S_5+4 (2)\n",
      "[00:01:30] Explicit valence for atom # 1 C, 5, is greater than permitted\n"
     ]
    },
    {
     "name": "stdout",
     "output_type": "stream",
     "text": [
      "O=[C]1=NC=CC=N1\n"
     ]
    },
    {
     "name": "stderr",
     "output_type": "stream",
     "text": [
      "[00:01:31] Can't kekulize mol.  Unkekulized atoms: 5 6 7\n"
     ]
    },
    {
     "name": "stdout",
     "output_type": "stream",
     "text": [
      "O(CC(n1[n-]ccc1)(n1[n-]ccc1)n1[n-]ccc1)Cc1ccc(cc1)COCC(n1[n-]ccc1)(n1[n-]ccc1)n1[n-]ccc1\n"
     ]
    },
    {
     "name": "stderr",
     "output_type": "stream",
     "text": [
      "[00:01:33] Explicit valence for atom # 8 N, 4, is greater than permitted\n",
      "[00:01:33] Explicit valence for atom # 8 N, 4, is greater than permitted\n",
      "[00:01:33] UFFTYPER: Unrecognized atom type: S_5+4 (16)\n",
      "[00:01:33] UFFTYPER: Unrecognized atom type: S_5+4 (20)\n",
      "[00:01:33] UFFTYPER: Unrecognized atom type: S_5+4 (16)\n",
      "[00:01:33] UFFTYPER: Unrecognized atom type: S_5+4 (20)\n",
      "[00:01:33] UFFTYPER: Unrecognized atom type: S_5+4 (9)\n",
      "[00:01:33] UFFTYPER: Unrecognized atom type: S_5+4 (25)\n",
      "[00:01:33] UFFTYPER: Unrecognized atom type: S_5+4 (32)\n",
      "[00:01:33] UFFTYPER: Unrecognized atom type: S_5+4 (36)\n",
      "[00:01:33] UFFTYPER: Unrecognized atom type: S_5+4 (9)\n",
      "[00:01:33] UFFTYPER: Unrecognized atom type: S_5+4 (25)\n",
      "[00:01:33] UFFTYPER: Unrecognized atom type: S_5+4 (32)\n",
      "[00:01:33] UFFTYPER: Unrecognized atom type: S_5+4 (36)\n",
      "[00:01:33] UFFTYPER: Unrecognized atom type: S_5+4 (9)\n",
      "[00:01:33] UFFTYPER: Unrecognized atom type: S_5+4 (21)\n",
      "[00:01:33] UFFTYPER: Unrecognized atom type: S_5+4 (9)\n",
      "[00:01:33] UFFTYPER: Unrecognized atom type: S_5+4 (21)\n"
     ]
    },
    {
     "name": "stdout",
     "output_type": "stream",
     "text": [
      "[O-]C(=O)C#CC1=NC(=[N]=C([N]1)C#CC(=O)[O-])C#CC1=NC(=[N]=C([N]1)C#CC(=O)[O-])C#CC(=O)[O-]\n",
      "[O-]C(=O)C#CC1=NC(=[N]=C([N]1)C#CC(=O)[O-])C#CC1=[N]=C([N]C(=N1)C#CC(=O)[O-])C#CC(=O)[O-]\n",
      "Brc1c2-c3cc4-c5c(Br)c(Br)c(-c6cc(-c7c(c(c(-c4cc3-c3c(Br)c(c(-c4cc(-c(c1Br)c(c2Br)Br)cc(c4)c1c(Br)c(Br)c(c(c1Br)Br)C(=O)[O-])c(c3Br)Br)Br)c(Br)c7Br)Br)Br)cc(c6)c1c(Br)c(Br)c(c(c1Br)Br)C(=O)[O-])c(c5Br)Br\n"
     ]
    },
    {
     "name": "stderr",
     "output_type": "stream",
     "text": [
      "[00:02:42] UFFTYPER: Unrecognized atom type: S_5+4 (3)\n",
      "[00:02:42] UFFTYPER: Unrecognized atom type: S_5+4 (3)\n",
      "[00:02:44] Can't kekulize mol.  Unkekulized atoms: 9 10 11\n",
      "[00:02:44] UFFTYPER: Unrecognized atom type: S_5+4 (9)\n",
      "[00:02:44] UFFTYPER: Unrecognized atom type: S_5+4 (31)\n",
      "[00:02:44] UFFTYPER: Unrecognized atom type: S_5+4 (9)\n",
      "[00:02:44] UFFTYPER: Unrecognized atom type: S_5+4 (31)\n"
     ]
    },
    {
     "name": "stdout",
     "output_type": "stream",
     "text": [
      "[O-]C(=O)c1cccc(c1)c1cc[n-][nH]1\n"
     ]
    },
    {
     "name": "stderr",
     "output_type": "stream",
     "text": [
      "[00:02:44] Explicit valence for atom # 13 N, 4, is greater than permitted\n"
     ]
    },
    {
     "name": "stdout",
     "output_type": "stream",
     "text": [
      "[O-]C(=O)c1ccc(cc1Br)C1=NC(=[N]=C([N]1)c1ccc(c(c1)Br)C(=O)[O-])c1ccc(c(c1)Br)C(=O)[O-]\n"
     ]
    },
    {
     "name": "stderr",
     "output_type": "stream",
     "text": [
      "[00:02:44] UFFTYPER: Unrecognized atom type: S_5+4 (9)\n",
      "[00:02:44] UFFTYPER: Unrecognized atom type: S_5+4 (9)\n",
      "[00:02:44] Explicit valence for atom # 9 N, 4, is greater than permitted\n"
     ]
    },
    {
     "name": "stdout",
     "output_type": "stream",
     "text": [
      "n1ccc(cc1)C1=NC(=[N]=C([N]1)c1ccncc1)c1ccncc1\n"
     ]
    },
    {
     "name": "stderr",
     "output_type": "stream",
     "text": [
      "[00:02:46] UFFTYPER: Unrecognized atom type: S_5+4 (1)\n",
      "[00:02:46] UFFTYPER: Unrecognized atom type: S_5+4 (12)\n",
      "[00:02:46] UFFTYPER: Unrecognized atom type: S_5+4 (1)\n",
      "[00:02:46] UFFTYPER: Unrecognized atom type: S_5+4 (12)\n",
      "[00:02:48] UFFTYPER: Unrecognized atom type: S_5+4 (8)\n",
      "[00:02:48] UFFTYPER: Unrecognized atom type: S_5+4 (8)\n",
      "[00:02:48] UFFTYPER: Unrecognized atom type: S_5+4 (8)\n",
      "[00:02:48] UFFTYPER: Unrecognized atom type: S_5+4 (8)\n",
      "[00:02:48] UFFTYPER: Unrecognized atom type: S_5+4 (22)\n",
      "[00:02:48] UFFTYPER: Unrecognized atom type: S_5+4 (22)\n",
      "[00:02:48] Can't kekulize mol.  Unkekulized atoms: 1 4 5\n"
     ]
    },
    {
     "name": "stdout",
     "output_type": "stream",
     "text": [
      "Cc1[nH][n-]c(c1c1c(C)[n-][nH]c1C)C\n"
     ]
    },
    {
     "name": "stderr",
     "output_type": "stream",
     "text": [
      "[00:02:49] Can't kekulize mol.  Unkekulized atoms: 3 6 7\n",
      "[00:02:49] Explicit valence for atom # 13 N, 4, is greater than permitted\n",
      "[00:02:49] Explicit valence for atom # 10 N, 4, is greater than permitted\n"
     ]
    },
    {
     "name": "stdout",
     "output_type": "stream",
     "text": [
      "[O-]C(=O)c1[nH][n-]c(c1)C(=O)[O-]\n",
      "Brc1cc(C(=O)[O-])c(cc1C1=NC(=[N]=C([N]1)c1cc(Br)c(cc1Br)C(=O)[O-])c1cc(Br)c(cc1Br)C1=[N]=C([N]C(=N1)c1cc(Br)c(cc1Br)C(=O)[O-])c1cc(Br)c(cc1Br)C(=O)[O-])Br\n",
      "Brc1cc(c(cc1C1=NC(=[N]=C([N]1)c1cc(Br)c(cc1Br)C(=O)[O-])c1cc(Br)c(cc1Br)C(=O)[O-])Br)C1=[N]=C([N]C(=N1)c1cc(Br)c(cc1Br)C(=O)[O-])c1cc(Br)c(cc1Br)C(=O)[O-]\n"
     ]
    },
    {
     "name": "stderr",
     "output_type": "stream",
     "text": [
      "[00:02:51] UFFTYPER: Unrecognized atom type: S_5+4 (1)\n",
      "[00:02:51] UFFTYPER: Unrecognized atom type: S_5+4 (14)\n",
      "[00:02:51] UFFTYPER: Unrecognized atom type: S_5+4 (1)\n",
      "[00:02:51] UFFTYPER: Unrecognized atom type: S_5+4 (14)\n",
      "[00:02:52] Explicit valence for atom # 4 N, 4, is greater than permitted\n",
      "[00:02:52] UFFTYPER: Unrecognized atom type: S_5+4 (9)\n",
      "[00:02:52] UFFTYPER: Unrecognized atom type: S_5+4 (21)\n",
      "[00:02:52] UFFTYPER: Unrecognized atom type: S_5+4 (9)\n",
      "[00:02:52] UFFTYPER: Unrecognized atom type: S_5+4 (21)\n",
      "[00:02:52] UFFTYPER: Unrecognized atom type: S_5+4 (9)\n",
      "[00:02:52] UFFTYPER: Unrecognized atom type: S_5+4 (21)\n",
      "[00:02:52] UFFTYPER: Unrecognized atom type: S_5+4 (9)\n",
      "[00:02:52] UFFTYPER: Unrecognized atom type: S_5+4 (21)\n",
      "[00:02:52] UFFTYPER: Unrecognized atom type: S_5+4 (9)\n",
      "[00:02:52] UFFTYPER: Unrecognized atom type: S_5+4 (21)\n",
      "[00:02:52] UFFTYPER: Unrecognized atom type: S_5+4 (9)\n",
      "[00:02:52] UFFTYPER: Unrecognized atom type: S_5+4 (21)\n"
     ]
    },
    {
     "name": "stdout",
     "output_type": "stream",
     "text": [
      "[O-]C(=O)C[NH2]CC(=O)[O-]\n"
     ]
    },
    {
     "name": "stderr",
     "output_type": "stream",
     "text": [
      "[00:02:54] UFFTYPER: Unrecognized atom type: S_5+4 (9)\n",
      "[00:02:54] UFFTYPER: Unrecognized atom type: S_5+4 (19)\n",
      "[00:02:54] UFFTYPER: Unrecognized atom type: S_5+4 (9)\n",
      "[00:02:54] UFFTYPER: Unrecognized atom type: S_5+4 (19)\n",
      "[00:02:54] UFFTYPER: Unrecognized atom type: S_5+4 (9)\n",
      "[00:02:54] UFFTYPER: Unrecognized atom type: S_5+4 (19)\n",
      "[00:02:54] UFFTYPER: Unrecognized atom type: S_5+4 (9)\n",
      "[00:02:54] UFFTYPER: Unrecognized atom type: S_5+4 (19)\n",
      "[00:02:54] UFFTYPER: Unrecognized atom type: S_5+4 (9)\n",
      "[00:02:54] UFFTYPER: Unrecognized atom type: S_5+4 (19)\n",
      "[00:02:54] UFFTYPER: Unrecognized atom type: S_5+4 (9)\n",
      "[00:02:54] UFFTYPER: Unrecognized atom type: S_5+4 (19)\n",
      "[00:02:54] UFFTYPER: Unrecognized atom type: S_5+4 (18)\n",
      "[00:02:54] UFFTYPER: Unrecognized atom type: S_5+4 (22)\n",
      "[00:02:54] UFFTYPER: Unrecognized atom type: S_5+4 (18)\n",
      "[00:02:54] UFFTYPER: Unrecognized atom type: S_5+4 (22)\n",
      "[00:02:54] UFFTYPER: Unrecognized atom type: S_5+4 (13)\n",
      "[00:02:54] UFFTYPER: Unrecognized atom type: S_5+4 (13)\n",
      "[00:02:55] Explicit valence for atom # 4 N, 4, is greater than permitted\n"
     ]
    },
    {
     "name": "stdout",
     "output_type": "stream",
     "text": [
      "CCOC1=[N]=C(OCC)C(=N[C]1N(=O)=O)N(=O)=O\n"
     ]
    },
    {
     "name": "stderr",
     "output_type": "stream",
     "text": [
      "[00:02:56] Explicit valence for atom # 4 C, 5, is greater than permitted\n"
     ]
    },
    {
     "name": "stdout",
     "output_type": "stream",
     "text": [
      "FC1=CN=[C](=O)N=C1\n"
     ]
    },
    {
     "name": "stderr",
     "output_type": "stream",
     "text": [
      "[00:02:57] Can't kekulize mol.  Unkekulized atoms: 1 4 5\n",
      "[00:02:57] Explicit valence for atom # 6 B, 4, is greater than permitted\n"
     ]
    },
    {
     "name": "stdout",
     "output_type": "stream",
     "text": [
      "Cc1[nH][n-]c(c1c1c(C)[n-][nH]c1C)C\n",
      "Cc1nccn1[B](n1ccnc1C)(n1ccnc1C)n1ccnc1C\n"
     ]
    },
    {
     "name": "stderr",
     "output_type": "stream",
     "text": [
      "[00:02:57] UFFTYPER: Unrecognized atom type: S_5+4 (9)\n",
      "[00:02:57] UFFTYPER: Unrecognized atom type: S_5+4 (9)\n",
      "[00:02:58] UFFTYPER: Unrecognized atom type: S_5+4 (9)\n",
      "[00:02:58] UFFTYPER: Unrecognized atom type: S_5+4 (9)\n",
      "[00:03:00] Explicit valence for atom # 13 N, 4, is greater than permitted\n",
      "[00:03:00] UFFTYPER: Unrecognized atom type: S_5+4 (1)\n",
      "[00:03:00] UFFTYPER: Unrecognized atom type: S_5+4 (1)\n"
     ]
    },
    {
     "name": "stdout",
     "output_type": "stream",
     "text": [
      "[O-]C(=O)c1cc(cc(c1)C(=O)[O-])N=[N]=[N]\n"
     ]
    },
    {
     "name": "stderr",
     "output_type": "stream",
     "text": [
      "[00:03:01] Can't kekulize mol.  Unkekulized atoms: 9 10 14\n",
      "[00:03:01] Explicit valence for atom # 10 B, 4, is greater than permitted\n"
     ]
    },
    {
     "name": "stdout",
     "output_type": "stream",
     "text": [
      "[O-]C(=O)c1ccc(cc1)c1c(C)[n-][nH]c1C\n",
      "[O-]C(=O)c1c(C)c2n(c1C)[B](F)(F)n1c([C]2c2ccccc2)c(C)c(c1C)C(=O)[O-]\n"
     ]
    },
    {
     "name": "stderr",
     "output_type": "stream",
     "text": [
      "[00:03:02] Explicit valence for atom # 1 N, 4, is greater than permitted\n"
     ]
    },
    {
     "name": "stdout",
     "output_type": "stream",
     "text": [
      "C[NH]=C([CH][C]1C=NN=C1)C=CC1=CN=N[CH]1\n"
     ]
    },
    {
     "name": "stderr",
     "output_type": "stream",
     "text": [
      "[00:03:02] UFFTYPER: Unrecognized atom type: S_5+4 (8)\n",
      "[00:03:02] UFFTYPER: Unrecognized atom type: S_5+4 (30)\n",
      "[00:03:02] UFFTYPER: Unrecognized atom type: S_5+4 (36)\n",
      "[00:03:02] UFFTYPER: Unrecognized atom type: S_5+4 (40)\n",
      "[00:03:02] UFFTYPER: Unrecognized atom type: S_5+4 (8)\n",
      "[00:03:02] UFFTYPER: Unrecognized atom type: S_5+4 (30)\n",
      "[00:03:02] UFFTYPER: Unrecognized atom type: S_5+4 (36)\n",
      "[00:03:02] UFFTYPER: Unrecognized atom type: S_5+4 (40)\n",
      "[00:03:02] UFFTYPER: Unrecognized atom type: S_5+4 (9)\n",
      "[00:03:02] UFFTYPER: Unrecognized atom type: S_5+4 (13)\n",
      "[00:03:02] UFFTYPER: Unrecognized atom type: S_5+4 (25)\n",
      "[00:03:02] UFFTYPER: Unrecognized atom type: S_5+4 (29)\n",
      "[00:03:02] UFFTYPER: Unrecognized atom type: S_5+4 (36)\n",
      "[00:03:02] UFFTYPER: Unrecognized atom type: S_5+4 (40)\n",
      "[00:03:02] UFFTYPER: Unrecognized atom type: S_5+4 (9)\n",
      "[00:03:02] UFFTYPER: Unrecognized atom type: S_5+4 (13)\n",
      "[00:03:02] UFFTYPER: Unrecognized atom type: S_5+4 (25)\n",
      "[00:03:02] UFFTYPER: Unrecognized atom type: S_5+4 (29)\n",
      "[00:03:02] UFFTYPER: Unrecognized atom type: S_5+4 (36)\n",
      "[00:03:02] UFFTYPER: Unrecognized atom type: S_5+4 (40)\n",
      "[00:03:03] UFFTYPER: Unrecognized atom type: S_5+4 (9)\n",
      "[00:03:03] UFFTYPER: Unrecognized atom type: S_5+4 (9)\n",
      "[00:03:03] Explicit valence for atom # 13 N, 4, is greater than permitted\n"
     ]
    },
    {
     "name": "stdout",
     "output_type": "stream",
     "text": [
      "[O-]C(=O)c1cc(cc(c1)C(=O)[O-])N=[N]=[N]\n"
     ]
    },
    {
     "name": "stderr",
     "output_type": "stream",
     "text": [
      "[00:03:05] Can't kekulize mol.  Unkekulized atoms: 8 11 12\n",
      "[00:03:05] Explicit valence for atom # 4 N, 4, is greater than permitted\n"
     ]
    },
    {
     "name": "stdout",
     "output_type": "stream",
     "text": [
      "Cl[Cu]1N2[CH]C=C(C=C2)c2[n-]n1c(c2)c1ccncc1\n",
      "CC1=NC(=[N]=C([N]1)N)N\n"
     ]
    },
    {
     "name": "stderr",
     "output_type": "stream",
     "text": [
      "[00:03:06] Explicit valence for atom # 1 C, 5, is greater than permitted\n"
     ]
    },
    {
     "name": "stdout",
     "output_type": "stream",
     "text": [
      "S=[C]1=NC(=CC=N1)c1ccncc1\n"
     ]
    },
    {
     "name": "stderr",
     "output_type": "stream",
     "text": [
      "[00:03:06] Explicit valence for atom # 0 N, 4, is greater than permitted\n"
     ]
    },
    {
     "name": "stdout",
     "output_type": "stream",
     "text": [
      "[N]1=CN=NC=1\n"
     ]
    },
    {
     "name": "stderr",
     "output_type": "stream",
     "text": [
      "[00:03:07] Explicit valence for atom # 11 N, 4, is greater than permitted\n"
     ]
    },
    {
     "name": "stdout",
     "output_type": "stream",
     "text": [
      "n1ccc(cc1)C1=C2C=CC3=[N]2[Zn]24n5c1ccc5C(=C1[N]2=C(C=C1)C(=c1n4c(=C3c2ccncc2)cc1)c1ccncc1)c1ccncc1\n"
     ]
    },
    {
     "name": "stderr",
     "output_type": "stream",
     "text": [
      "[00:03:07] UFFTYPER: Unrecognized atom type: S_5+4 (9)\n",
      "[00:03:07] UFFTYPER: Unrecognized atom type: S_5+4 (13)\n",
      "[00:03:07] UFFTYPER: Unrecognized atom type: S_5+4 (20)\n",
      "[00:03:07] UFFTYPER: Unrecognized atom type: S_5+4 (24)\n",
      "[00:03:07] UFFTYPER: Unrecognized atom type: S_5+4 (9)\n",
      "[00:03:07] UFFTYPER: Unrecognized atom type: S_5+4 (13)\n",
      "[00:03:07] UFFTYPER: Unrecognized atom type: S_5+4 (20)\n",
      "[00:03:07] UFFTYPER: Unrecognized atom type: S_5+4 (24)\n",
      "[00:03:07] Can't kekulize mol.  Unkekulized atoms: 5 6 7\n"
     ]
    },
    {
     "name": "stdout",
     "output_type": "stream",
     "text": [
      "[O-]C(=O)Cn1ccc([n-]1)c1ccccn1\n",
      "[O-]C(=O)C#Cc1cc2C#Cc3c(C#Cc(c1)c2)cc1c(c3)C#Cc2cc(cc(C#C1)c2)C#CC(=O)[O-]\n"
     ]
    },
    {
     "name": "stderr",
     "output_type": "stream",
     "text": [
      "[00:03:20] Explicit valence for atom # 7 N, 4, is greater than permitted\n"
     ]
    },
    {
     "name": "stdout",
     "output_type": "stream",
     "text": [
      "[O-]C(=O)C1CCC[NH2]1\n"
     ]
    },
    {
     "name": "stderr",
     "output_type": "stream",
     "text": [
      "[00:03:20] UFFTYPER: Unrecognized charge state for atom: 2\n",
      "[00:03:20] UFFTYPER: Unrecognized charge state for atom: 2\n",
      "[00:03:22] Explicit valence for atom # 25 N, 4, is greater than permitted\n"
     ]
    },
    {
     "name": "stdout",
     "output_type": "stream",
     "text": [
      "N#C[C](C1(C(=O)[O-])C(C#N)(C#N)C(N)(N)C(C(C1(C#N)C#N)(N)N)(C(=[NH2])N)C(=O)[O-])C#N\n"
     ]
    },
    {
     "name": "stderr",
     "output_type": "stream",
     "text": [
      "[00:03:23] UFFTYPER: Unrecognized atom type: S_5+4 (1)\n",
      "[00:03:23] UFFTYPER: Unrecognized atom type: S_5+4 (1)\n",
      "[00:03:24] Can't kekulize mol.  Unkekulized atoms: 6 7 8\n"
     ]
    },
    {
     "name": "stdout",
     "output_type": "stream",
     "text": [
      "[O-]C(=O)CCn1ccc([n-]1)c1ccncc1\n"
     ]
    },
    {
     "name": "stderr",
     "output_type": "stream",
     "text": [
      "[00:03:24] UFFTYPER: Unrecognized atom type: S_5+4 (18)\n",
      "[00:03:24] UFFTYPER: Unrecognized atom type: S_5+4 (23)\n",
      "[00:03:24] UFFTYPER: Unrecognized atom type: S_5+4 (18)\n",
      "[00:03:24] UFFTYPER: Unrecognized atom type: S_5+4 (23)\n",
      "[00:03:24] UFFTYPER: Unrecognized atom type: S_5+4 (18)\n",
      "[00:03:24] UFFTYPER: Unrecognized atom type: S_5+4 (22)\n",
      "[00:03:25] UFFTYPER: Unrecognized atom type: S_5+4 (18)\n",
      "[00:03:25] UFFTYPER: Unrecognized atom type: S_5+4 (22)\n",
      "[00:03:25] UFFTYPER: Unrecognized atom type: S_5+4 (13)\n",
      "[00:03:25] UFFTYPER: Unrecognized atom type: S_5+4 (29)\n",
      "[00:03:25] UFFTYPER: Unrecognized atom type: S_5+4 (13)\n",
      "[00:03:25] UFFTYPER: Unrecognized atom type: S_5+4 (29)\n",
      "[00:03:25] Explicit valence for atom # 5 B, 4, is greater than permitted\n",
      "[00:03:25] Explicit valence for atom # 7 N, 4, is greater than permitted\n"
     ]
    },
    {
     "name": "stdout",
     "output_type": "stream",
     "text": [
      "n1ccn(n1)[BH](n1ccnn1)n1ccnn1\n",
      "c1ccc(cn1)C[NH]1CC[NH](CC1)Cc1cccnc1\n"
     ]
    },
    {
     "name": "stderr",
     "output_type": "stream",
     "text": [
      "[00:03:25] Explicit valence for atom # 13 N, 4, is greater than permitted\n"
     ]
    },
    {
     "name": "stdout",
     "output_type": "stream",
     "text": [
      "[O-]C(=O)c1ccc(cc1)NC1=NC(=[N]=C([N]1)Nc1ccc(cc1)C(=O)O)Nc1ccc(cc1)C(=O)[O-]\n"
     ]
    },
    {
     "name": "stderr",
     "output_type": "stream",
     "text": [
      "[00:03:26] UFFTYPER: Unrecognized atom type: S_5+4 (2)\n",
      "[00:03:26] UFFTYPER: Unrecognized atom type: S_5+4 (2)\n"
     ]
    },
    {
     "name": "stdout",
     "output_type": "stream",
     "text": [
      "Sc1cc2-c3cc(-c4c(cc(-c5c(-c1cc2S)cc1-c2cc(S)c(-c6cc(-c7c(cc(-c1c5)c(S)c7)S)cc(c6)c1cc(S)c(cc1S)C(=O)[O-])cc2S)c(S)c4)S)cc(c3)c1cc(S)c(cc1S)C(=O)[O-]\n"
     ]
    },
    {
     "name": "stderr",
     "output_type": "stream",
     "text": [
      "[00:05:25] Can't kekulize mol.  Unkekulized atoms: 1 4 5\n"
     ]
    },
    {
     "name": "stdout",
     "output_type": "stream",
     "text": [
      "Cc1[nH][n-]c(c1Cc1c(C)[n-][nH]c1C)C\n"
     ]
    },
    {
     "name": "stderr",
     "output_type": "stream",
     "text": [
      "[00:05:26] UFFTYPER: Unrecognized atom type: S_5+4 (10)\n",
      "[00:05:26] UFFTYPER: Unrecognized atom type: S_5+4 (10)\n",
      "[00:05:26] UFFTYPER: Unrecognized atom type: S_5+4 (9)\n",
      "[00:05:26] UFFTYPER: Unrecognized atom type: S_5+4 (17)\n",
      "[00:05:26] UFFTYPER: Unrecognized atom type: S_5+4 (9)\n",
      "[00:05:26] UFFTYPER: Unrecognized atom type: S_5+4 (17)\n",
      "[00:05:26] Explicit valence for atom # 1 C, 5, is greater than permitted\n",
      "[00:05:26] UFFTYPER: Unrecognized charge state for atom: 0\n",
      "[00:05:26] UFFTYPER: Unrecognized charge state for atom: 3\n",
      "[00:05:26] UFFTYPER: Unrecognized charge state for atom: 0\n",
      "[00:05:26] UFFTYPER: Unrecognized charge state for atom: 3\n",
      "[00:05:27] Can't kekulize mol.  Unkekulized atoms: 2 3 4\n"
     ]
    },
    {
     "name": "stdout",
     "output_type": "stream",
     "text": [
      "S=[C]1=NC=CC=N1\n",
      "[n-]1[nH]cc(c1)c1c[nH][n-]c1\n"
     ]
    },
    {
     "name": "stderr",
     "output_type": "stream",
     "text": [
      "[00:05:27] Explicit valence for atom # 8 N, 4, is greater than permitted\n",
      "[00:05:27] Can't kekulize mol.  Unkekulized atoms: 2 3 6\n",
      "[00:05:27] UFFTYPER: Unrecognized atom type: S_5+4 (7)\n",
      "[00:05:27] UFFTYPER: Unrecognized atom type: S_5+4 (24)\n",
      "[00:05:27] UFFTYPER: Unrecognized atom type: S_5+4 (7)\n",
      "[00:05:27] UFFTYPER: Unrecognized atom type: S_5+4 (24)\n",
      "[00:05:27] UFFTYPER: Unrecognized atom type: S_5+4 (15)\n",
      "[00:05:27] UFFTYPER: Unrecognized atom type: S_5+4 (20)\n",
      "[00:05:27] UFFTYPER: Unrecognized atom type: S_5+4 (15)\n",
      "[00:05:27] UFFTYPER: Unrecognized atom type: S_5+4 (20)\n"
     ]
    },
    {
     "name": "stdout",
     "output_type": "stream",
     "text": [
      "[O]c1ccccc1C=[NH]CC[NH]=Cc1ccccc1[O]\n",
      "[O]S(c1c[nH][n-]c1)([O])[O]\n"
     ]
    },
    {
     "name": "stderr",
     "output_type": "stream",
     "text": [
      "[00:05:28] Explicit valence for atom # 8 N, 4, is greater than permitted\n",
      "[00:05:28] Explicit valence for atom # 6 N, 4, is greater than permitted\n"
     ]
    },
    {
     "name": "stdout",
     "output_type": "stream",
     "text": [
      "[O-]C(=O)C#CC1=NC(=[N]=C([N]1)C#CC(=O)[O-])c1ccc(cc1)C1=[N]=C([N]C(=N1)C#CC(=O)[O-])C#CC(=O)[O-]\n",
      "[O-]C(=O)C#CC1=[N]=C(C#CC(=O)[O-])N=C([N]1)c1ccc(cc1)C1=NC(=[N]=C([N]1)C#CC(=O)[O-])C#CC(=O)[O-]\n"
     ]
    },
    {
     "name": "stderr",
     "output_type": "stream",
     "text": [
      "[00:05:28] UFFTYPER: Unrecognized atom type: S_5+4 (9)\n",
      "[00:05:28] UFFTYPER: Unrecognized atom type: S_5+4 (9)\n",
      "[00:05:28] UFFTYPER: Unrecognized atom type: S_5+4 (9)\n",
      "[00:05:28] UFFTYPER: Unrecognized atom type: S_5+4 (9)\n",
      "[00:05:28] UFFTYPER: Unrecognized atom type: S_5+4 (9)\n",
      "[00:05:28] UFFTYPER: Unrecognized atom type: S_5+4 (9)\n",
      "[00:05:28] Can't kekulize mol.  Unkekulized atoms: 3 4 7\n"
     ]
    },
    {
     "name": "stdout",
     "output_type": "stream",
     "text": [
      "[O-]C(=O)c1c[n-][nH]c1c1ccccc1\n"
     ]
    },
    {
     "name": "stderr",
     "output_type": "stream",
     "text": [
      "[00:05:29] UFFTYPER: Unrecognized atom type: S_5+4 (19)\n",
      "[00:05:29] UFFTYPER: Unrecognized atom type: S_5+4 (32)\n",
      "[00:05:29] UFFTYPER: Unrecognized atom type: S_5+4 (19)\n",
      "[00:05:29] UFFTYPER: Unrecognized atom type: S_5+4 (32)\n",
      "[00:05:29] UFFTYPER: Unrecognized atom type: S_5+4 (9)\n",
      "[00:05:29] UFFTYPER: Unrecognized atom type: S_5+4 (25)\n",
      "[00:05:29] UFFTYPER: Unrecognized atom type: S_5+4 (9)\n",
      "[00:05:29] UFFTYPER: Unrecognized atom type: S_5+4 (25)\n",
      "[00:05:29] UFFTYPER: Unrecognized atom type: S_5+4 (14)\n",
      "[00:05:29] UFFTYPER: Unrecognized atom type: S_5+4 (18)\n",
      "[00:05:29] UFFTYPER: Unrecognized atom type: S_5+4 (14)\n",
      "[00:05:29] UFFTYPER: Unrecognized atom type: S_5+4 (18)\n",
      "[00:05:30] UFFTYPER: Unrecognized atom type: S_5+4 (1)\n",
      "[00:05:30] UFFTYPER: Unrecognized atom type: S_5+4 (1)\n",
      "[00:05:31] Explicit valence for atom # 1 C, 5, is greater than permitted\n",
      "[00:05:31] Explicit valence for atom # 1 C, 5, is greater than permitted\n",
      "[00:05:31] Explicit valence for atom # 8 N, 4, is greater than permitted\n"
     ]
    },
    {
     "name": "stdout",
     "output_type": "stream",
     "text": [
      "O=[C]1=NC=CC=N1\n",
      "S=[C]1=NC=CC(=N1)c1ccncc1\n",
      "[O]c1ccccc1C=[NH]CC[NH]=Cc1ccccc1[O]\n"
     ]
    },
    {
     "name": "stderr",
     "output_type": "stream",
     "text": [
      "[00:05:32] Can't kekulize mol.  Unkekulized atoms: 6 7 8\n",
      "[00:05:32] UFFTYPER: Unrecognized atom type: S_5+4 (4)\n",
      "[00:05:32] UFFTYPER: Unrecognized atom type: S_5+4 (4)\n",
      "[00:05:32] UFFTYPER: Unrecognized atom type: S_5+4 (7)\n",
      "[00:05:32] UFFTYPER: Unrecognized atom type: S_5+4 (7)\n"
     ]
    },
    {
     "name": "stdout",
     "output_type": "stream",
     "text": [
      "[O-]C(=O)CCn1ccc([n-]1)c1ccncc1\n"
     ]
    },
    {
     "name": "stderr",
     "output_type": "stream",
     "text": [
      "[00:05:32] UFFTYPER: Unrecognized atom type: S_5+4 (6)\n",
      "[00:05:32] UFFTYPER: Unrecognized atom type: S_5+4 (11)\n",
      "[00:05:32] UFFTYPER: Unrecognized atom type: S_5+4 (6)\n",
      "[00:05:32] UFFTYPER: Unrecognized atom type: S_5+4 (11)\n",
      "[00:05:33] Explicit valence for atom # 9 N, 4, is greater than permitted\n",
      "[00:05:33] UFFTYPER: Unrecognized atom type: S_5+4 (9)\n",
      "[00:05:33] UFFTYPER: Unrecognized atom type: S_5+4 (9)\n"
     ]
    },
    {
     "name": "stdout",
     "output_type": "stream",
     "text": [
      "n1ccc(cc1)C1=NC(=[N]=C([N]1)c1ccncc1)c1ccncc1\n"
     ]
    },
    {
     "name": "stderr",
     "output_type": "stream",
     "text": [
      "[00:05:33] Explicit valence for atom # 10 N, 4, is greater than permitted\n"
     ]
    },
    {
     "name": "stdout",
     "output_type": "stream",
     "text": [
      "[O-]C(=O)c1ccc(cc1)C[NH2]CP(=O)([O])[O]\n"
     ]
    },
    {
     "name": "stderr",
     "output_type": "stream",
     "text": [
      "[00:05:34] UFFTYPER: Unrecognized atom type: S_5+4 (1)\n",
      "[00:05:34] UFFTYPER: Unrecognized atom type: S_5+4 (1)\n",
      "[00:05:34] Can't kekulize mol.  Unkekulized atoms: 2 3 6\n"
     ]
    },
    {
     "name": "stdout",
     "output_type": "stream",
     "text": [
      "[O]S(c1c[nH][n-]c1)([O])[O]\n"
     ]
    },
    {
     "name": "stderr",
     "output_type": "stream",
     "text": [
      "[00:05:37] Explicit valence for atom # 15 N, 4, is greater than permitted\n",
      "[00:05:37] UFFTYPER: Unrecognized atom type: S_5+4 (11)\n",
      "[00:05:37] UFFTYPER: Unrecognized atom type: S_5+4 (15)\n",
      "[00:05:37] UFFTYPER: Unrecognized atom type: S_5+4 (11)\n",
      "[00:05:37] UFFTYPER: Unrecognized atom type: S_5+4 (15)\n",
      "[00:05:37] UFFTYPER: Unrecognized atom type: S_5+4 (1)\n",
      "[00:05:37] UFFTYPER: Unrecognized atom type: S_5+4 (1)\n",
      "[00:05:37] Explicit valence for atom # 1 C, 5, is greater than permitted\n",
      "[00:05:37] Explicit valence for atom # 12 N, 4, is greater than permitted\n",
      "[00:05:37] Explicit valence for atom # 12 N, 4, is greater than permitted\n",
      "[00:05:37] Explicit valence for atom # 10 N, 4, is greater than permitted\n"
     ]
    },
    {
     "name": "stdout",
     "output_type": "stream",
     "text": [
      "O=N(=O)c1cc(ccc1C(=O)[O-])C1=NC(=[N]=C([N]1)c1ccc(c(c1)N(=O)=O)C(=O)[O-])c1ccc(c(c1)N(=O)=O)C(=O)[O-]\n",
      "S=[C]1=NC=CC=N1\n",
      "[O-]C(=O)c1ccc(cc1)C1=NC(=[N]=C([N]1)c1ccc(cc1)C(=O)[O-])c1ccc(cc1)C1=NC(=[N]=C([N]1)c1ccc(cc1)C(=O)[O-])c1ccc(cc1)C(=O)[O-]\n",
      "[O-]C(=O)c1ccc(cc1)C1=NC(=[N]=C([N]1)c1ccc(cc1)C(=O)[O-])c1ccc(cc1)C1=[N]=C([N]C(=N1)c1ccc(cc1)C(=O)[O-])c1ccc(cc1)C(=O)[O-]\n",
      "[O-]C(=O)c1ccc(cc1)C1=[N]=C(N=C([N]1)c1ccc(cc1)C1=NC(=[N]=C([N]1)c1ccc(cc1)C(=O)[O-])c1ccc(cc1)C(=O)[O-])c1ccc(cc1)C(=O)[O-]\n"
     ]
    },
    {
     "name": "stderr",
     "output_type": "stream",
     "text": [
      "[00:05:38] Explicit valence for atom # 4 N, 4, is greater than permitted\n"
     ]
    },
    {
     "name": "stdout",
     "output_type": "stream",
     "text": [
      "C1=N[C]2C(=[N]=CN=C2)[N]1\n"
     ]
    },
    {
     "name": "stderr",
     "output_type": "stream",
     "text": [
      "[00:05:39] Explicit valence for atom # 4 N, 4, is greater than permitted\n",
      "[00:05:39] Explicit valence for atom # 8 N, 4, is greater than permitted\n",
      "[00:05:39] Explicit valence for atom # 8 N, 4, is greater than permitted\n"
     ]
    },
    {
     "name": "stdout",
     "output_type": "stream",
     "text": [
      "NC1=NC(=[N]=C([N]1)N)N\n",
      "[O-]C(=O)C#CC1=NC(=[N]=C([N]1)C#CC(=O)[O-])C=CC1=NC(=[N]=C([N]1)C#CC(=O)[O-])C#CC(=O)[O-]\n",
      "[O-]C(=O)C#CC1=NC(=[N]=C([N]1)C#CC(=O)[O-])C=CC1=[N]=C([N]C(=N1)C#CC(=O)[O-])C#CC(=O)[O-]\n"
     ]
    },
    {
     "name": "stderr",
     "output_type": "stream",
     "text": [
      "[00:05:40] Can't kekulize mol.  Unkekulized atoms: 1 4 5\n"
     ]
    },
    {
     "name": "stdout",
     "output_type": "stream",
     "text": [
      "Cc1[nH][n-]c(c1c1c(C)[n-][nH]c1C)C\n"
     ]
    },
    {
     "name": "stderr",
     "output_type": "stream",
     "text": [
      "[00:05:40] UFFTYPER: Unrecognized atom type: S_5+4 (7)\n",
      "[00:05:40] UFFTYPER: Unrecognized atom type: S_5+4 (17)\n",
      "[00:05:40] UFFTYPER: Unrecognized atom type: S_5+4 (7)\n",
      "[00:05:40] UFFTYPER: Unrecognized atom type: S_5+4 (17)\n",
      "[00:05:41] Explicit valence for atom # 10 N, 4, is greater than permitted\n",
      "[00:05:41] Explicit valence for atom # 16 N, 4, is greater than permitted\n"
     ]
    },
    {
     "name": "stdout",
     "output_type": "stream",
     "text": [
      "[O-]C(=O)C(COP(=O)([O])[O])[NH3]\n",
      "[O-]C(=O)c1ccc(cc1S([O])(O)[O])C1=NC(=[N]=C([N]1)c1ccc(c(c1)S([O])(O)[O])C(=O)[O-])c1ccc(c(c1)S(O)([O])[O])C(=O)[O-]\n"
     ]
    },
    {
     "name": "stderr",
     "output_type": "stream",
     "text": [
      "[00:05:42] UFFTYPER: Unrecognized atom type: S_5+4 (9)\n",
      "[00:05:42] UFFTYPER: Unrecognized atom type: S_5+4 (9)\n",
      "[00:05:42] UFFTYPER: Unrecognized atom type: S_5+4 (9)\n",
      "[00:05:42] UFFTYPER: Unrecognized atom type: S_5+4 (9)\n"
     ]
    },
    {
     "name": "stdout",
     "output_type": "stream",
     "text": [
      "[O-]C(=O)c1cc(cc(c1)C(=O)[O-])C12N3N1C1C3N3C(C2(N)N)(N13)c1cc(cc(c1)C(=O)[O-])C(=O)[O-]\n"
     ]
    },
    {
     "name": "stderr",
     "output_type": "stream",
     "text": [
      "[00:05:48] UFFTYPER: Unrecognized atom type: S_5+4 (10)\n",
      "[00:05:48] UFFTYPER: Unrecognized atom type: S_5+4 (14)\n",
      "[00:05:48] UFFTYPER: Unrecognized atom type: S_5+4 (45)\n",
      "[00:05:48] UFFTYPER: Unrecognized atom type: S_5+4 (49)\n",
      "[00:05:48] UFFTYPER: Unrecognized atom type: S_5+4 (10)\n",
      "[00:05:48] UFFTYPER: Unrecognized atom type: S_5+4 (14)\n",
      "[00:05:48] UFFTYPER: Unrecognized atom type: S_5+4 (45)\n",
      "[00:05:48] UFFTYPER: Unrecognized atom type: S_5+4 (49)\n",
      "[00:05:49] Explicit valence for atom # 3 N, 4, is greater than permitted\n"
     ]
    },
    {
     "name": "stdout",
     "output_type": "stream",
     "text": [
      "C1=NC=[N]=C[N]1\n"
     ]
    },
    {
     "name": "stderr",
     "output_type": "stream",
     "text": [
      "[00:05:49] Explicit valence for atom # 8 N, 4, is greater than permitted\n",
      "[00:05:49] Explicit valence for atom # 9 N, 4, is greater than permitted\n"
     ]
    },
    {
     "name": "stdout",
     "output_type": "stream",
     "text": [
      "[O]c1ccccc1C=[NH]CC[NH]=Cc1ccccc1[O]\n",
      "n1ccc(cc1)C1=NC(=[N]=C([N]1)c1ccncc1)c1ccncc1\n"
     ]
    },
    {
     "name": "stderr",
     "output_type": "stream",
     "text": [
      "[00:05:51] Explicit valence for atom # 1 C, 5, is greater than permitted\n",
      "[00:05:51] Can't kekulize mol.  Unkekulized atoms: 1 2 3\n"
     ]
    },
    {
     "name": "stdout",
     "output_type": "stream",
     "text": [
      "S=[C]1=NC=CC=N1\n",
      "Cc1cc([n-]n1Cc1ccc(cc1)Cn1[n-]c(cc1C)C)C\n"
     ]
    },
    {
     "name": "stderr",
     "output_type": "stream",
     "text": [
      "[00:05:52] Explicit valence for atom # 7 N, 4, is greater than permitted\n"
     ]
    },
    {
     "name": "stdout",
     "output_type": "stream",
     "text": [
      "n1ccc(cc1)C1=[N]=C(N=C[N]1)c1ccncc1\n"
     ]
    },
    {
     "name": "stderr",
     "output_type": "stream",
     "text": [
      "[00:05:53] Can't kekulize mol.  Unkekulized atoms: 15 16 17\n"
     ]
    },
    {
     "name": "stdout",
     "output_type": "stream",
     "text": [
      "[O-]C(=O)c1cc(cc(c1)c1ccc(cc1)c1cc[n-][nH]1)C(=O)[O-]\n"
     ]
    },
    {
     "name": "stderr",
     "output_type": "stream",
     "text": [
      "[00:05:54] Can't kekulize mol.  Unkekulized atoms: 1 4 5\n"
     ]
    },
    {
     "name": "stdout",
     "output_type": "stream",
     "text": [
      "Cc1[nH][n-]c(c1c1c(C)[n-][nH]c1C)C\n"
     ]
    },
    {
     "name": "stderr",
     "output_type": "stream",
     "text": [
      "[00:05:55] Explicit valence for atom # 4 N, 4, is greater than permitted\n"
     ]
    },
    {
     "name": "stdout",
     "output_type": "stream",
     "text": [
      "NC1=NC(=[N]=C([N]1)N)N\n"
     ]
    },
    {
     "name": "stderr",
     "output_type": "stream",
     "text": [
      "[00:05:56] Explicit valence for atom # 4 C, 5, is greater than permitted\n"
     ]
    },
    {
     "name": "stdout",
     "output_type": "stream",
     "text": [
      "FC1=CN=[C](=O)N=C1\n"
     ]
    },
    {
     "name": "stderr",
     "output_type": "stream",
     "text": [
      "[00:05:56] Explicit valence for atom # 12 N, 4, is greater than permitted\n",
      "[00:05:56] Explicit valence for atom # 12 N, 4, is greater than permitted\n",
      "[00:05:56] Explicit valence for atom # 10 N, 4, is greater than permitted\n"
     ]
    },
    {
     "name": "stdout",
     "output_type": "stream",
     "text": [
      "[O-]C(=O)c1ccc(cc1)C1=NC(=[N]=C([N]1)c1ccc(cc1)C(=O)[O-])c1ccc(cc1)C1=NC(=[N]=C([N]1)c1ccc(cc1)C(=O)[O-])c1ccc(cc1)C(=O)[O-]\n",
      "[O-]C(=O)c1ccc(cc1)C1=NC(=[N]=C([N]1)c1ccc(cc1)C(=O)[O-])c1ccc(cc1)C1=[N]=C([N]C(=N1)c1ccc(cc1)C(=O)[O-])c1ccc(cc1)C(=O)[O-]\n",
      "[O-]C(=O)c1ccc(cc1)C1=[N]=C(N=C([N]1)c1ccc(cc1)C1=NC(=[N]=C([N]1)c1ccc(cc1)C(=O)[O-])c1ccc(cc1)C(=O)[O-])c1ccc(cc1)C(=O)[O-]\n"
     ]
    },
    {
     "name": "stderr",
     "output_type": "stream",
     "text": [
      "[00:05:58] Explicit valence for atom # 6 N, 4, is greater than permitted\n",
      "[00:05:58] Explicit valence for atom # 2 N, 4, is greater than permitted\n"
     ]
    },
    {
     "name": "stdout",
     "output_type": "stream",
     "text": [
      "[O-]C(=O)C#CC1=[N]=C(N=C([N]1)C#CC1=NC(=[N]=C([N]1)C#CC(=O)[O-])C#CC(=O)[O-])C#CC(=O)[O-]\n",
      "NC1=[N]=C(N=N1)N(=O)=O\n"
     ]
    },
    {
     "name": "stderr",
     "output_type": "stream",
     "text": [
      "[00:05:59] UFFTYPER: Unrecognized atom type: Ag6+1 (0)\n",
      "[00:05:59] UFFTYPER: Unrecognized atom type: Ag6+1 (13)\n",
      "[00:05:59] UFFTYPER: Unrecognized atom type: Ag6+1 (0)\n",
      "[00:05:59] UFFTYPER: Unrecognized atom type: Ag6+1 (13)\n",
      "[00:06:01] Explicit valence for atom # 10 N, 4, is greater than permitted\n",
      "[00:06:01] Explicit valence for atom # 12 N, 4, is greater than permitted\n"
     ]
    },
    {
     "name": "stdout",
     "output_type": "stream",
     "text": [
      "[O-]C(=O)c1cccc(n1)C[NH]1CCOCCOCC[NH](CCOCCOCC1)Cc1cccc(n1)C(=O)[O-]\n",
      "[O-]C(=O)c1ccc(cc1)C1=NC(=[N]=C([N]1)c1ccc(cc1)C(=O)[O-])c1ccc(cc1)C(=O)[O-]\n"
     ]
    },
    {
     "name": "stderr",
     "output_type": "stream",
     "text": [
      "[00:06:02] Explicit valence for atom # 8 N, 4, is greater than permitted\n",
      "[00:06:02] Explicit valence for atom # 8 N, 4, is greater than permitted\n",
      "[00:06:02] Explicit valence for atom # 6 N, 4, is greater than permitted\n"
     ]
    },
    {
     "name": "stdout",
     "output_type": "stream",
     "text": [
      "[O-]C(=O)C=CC1=NC(=[N]=C([N]1)C=CC(=O)[O-])C#CC1=NC(=[N]=C([N]1)C=CC(=O)[O-])C=CC(=O)[O-]\n",
      "[O-]C(=O)C=CC1=NC(=[N]=C([N]1)C=CC(=O)[O-])C#CC1=[N]=C([N]C(=N1)C=CC(=O)[O-])C=CC(=O)[O-]\n",
      "[O-]C(=O)C=CC1=[N]=C(N=C([N]1)C#CC1=NC(=[N]=C([N]1)C=CC(=O)[O-])C=CC(=O)[O-])C=CC(=O)[O-]\n"
     ]
    },
    {
     "name": "stderr",
     "output_type": "stream",
     "text": [
      "[00:06:02] UFFTYPER: Unrecognized atom type: S_5+4 (9)\n",
      "[00:06:02] UFFTYPER: Unrecognized atom type: S_5+4 (9)\n",
      "[00:06:03] UFFTYPER: Unrecognized atom type: S_5+4 (7)\n",
      "[00:06:03] UFFTYPER: Unrecognized atom type: S_5+4 (7)\n"
     ]
    },
    {
     "name": "stdout",
     "output_type": "stream",
     "text": [
      "[O-]C(=O)c1ccc(cc1)OCC(COc1ccc(cc1)C(=O)[O-])(COc1ccc(cc1)C(=O)[O-])COc1ccc(cc1)C(=O)[O-]\n"
     ]
    },
    {
     "name": "stderr",
     "output_type": "stream",
     "text": [
      "[00:06:03] UFFTYPER: Unrecognized atom type: S_5+4 (4)\n",
      "[00:06:03] UFFTYPER: Unrecognized atom type: S_5+4 (10)\n",
      "[00:06:03] UFFTYPER: Unrecognized atom type: S_5+4 (4)\n",
      "[00:06:03] UFFTYPER: Unrecognized atom type: S_5+4 (10)\n",
      "[00:06:06] UFFTYPER: Unrecognized atom type: S_5+4 (9)\n",
      "[00:06:06] UFFTYPER: Unrecognized atom type: S_5+4 (21)\n",
      "[00:06:06] UFFTYPER: Unrecognized atom type: S_5+4 (9)\n",
      "[00:06:06] UFFTYPER: Unrecognized atom type: S_5+4 (21)\n",
      "[00:06:07] Explicit valence for atom # 13 N, 4, is greater than permitted\n"
     ]
    },
    {
     "name": "stdout",
     "output_type": "stream",
     "text": [
      "[O-]C(=O)c1cccc(c1)NC1=NC(=[N]=C([N]1)Nc1cccc(c1)C(=O)[O-])Nc1cccc(c1)C(=O)[O-]\n"
     ]
    },
    {
     "name": "stderr",
     "output_type": "stream",
     "text": [
      "[00:06:07] UFFTYPER: Unrecognized charge state for atom: 3\n",
      "[00:06:07] UFFTYPER: Unrecognized charge state for atom: 3\n",
      "[00:06:08] UFFTYPER: Unrecognized atom type: S_5+4 (1)\n",
      "[00:06:08] UFFTYPER: Unrecognized atom type: S_5+4 (1)\n",
      "[00:06:09] Explicit valence for atom # 4 N, 4, is greater than permitted\n"
     ]
    },
    {
     "name": "stdout",
     "output_type": "stream",
     "text": [
      "NC1=NC(=[N]=C([N]1)N)N\n"
     ]
    },
    {
     "name": "stderr",
     "output_type": "stream",
     "text": [
      "[00:06:10] Can't kekulize mol.  Unkekulized atoms: 1 4 5\n"
     ]
    },
    {
     "name": "stdout",
     "output_type": "stream",
     "text": [
      "Cc1[nH][n-]c(c1Cc1c(C)[n-][nH]c1C)C\n"
     ]
    },
    {
     "name": "stderr",
     "output_type": "stream",
     "text": [
      "[00:06:11] Explicit valence for atom # 8 N, 4, is greater than permitted\n"
     ]
    },
    {
     "name": "stdout",
     "output_type": "stream",
     "text": [
      "[O]c1ccccc1C=[NH]CC[NH]=Cc1ccccc1[O]\n"
     ]
    },
    {
     "name": "stderr",
     "output_type": "stream",
     "text": [
      "[00:06:12] UFFTYPER: Unrecognized atom type: S_5+4 (13)\n",
      "[00:06:12] UFFTYPER: Unrecognized atom type: S_5+4 (17)\n",
      "[00:06:12] UFFTYPER: Unrecognized atom type: S_5+4 (13)\n",
      "[00:06:12] UFFTYPER: Unrecognized atom type: S_5+4 (17)\n"
     ]
    },
    {
     "name": "stdout",
     "output_type": "stream",
     "text": [
      "Brc1c2-c3cc4-c5c(Br)c(Br)c(-c6cc(-c7c(c(c(-c4cc3-c3c(Br)c(c(-c4cc(-c(c1Br)c(c2Br)Br)cc(c4)c1c(Br)c(Br)c(c(c1Br)Br)C(=O)[O-])c(c3Br)Br)Br)c(Br)c7Br)Br)Br)cc(c6)c1c(Br)c(Br)c(c(c1Br)Br)C(=O)[O-])c(c5Br)Br\n"
     ]
    },
    {
     "name": "stderr",
     "output_type": "stream",
     "text": [
      "[00:07:11] Explicit valence for atom # 8 N, 4, is greater than permitted\n"
     ]
    },
    {
     "name": "stdout",
     "output_type": "stream",
     "text": [
      "[O-]C(=O)C#CC1=NC2=[N]=C([N]1)C#Cc1cc3C#CC4=NC(=[N]=C([N]4)C#CC(=O)[O-])C#Cc4c5C#CC6=NC(=[N]=C([N]6)C#CC(=O)[O-])C#Cc6c(C#C2)cc2C#CC7=[N]=C([N]C(=N7)C#Cc(c(C#CC7=[N]=C([N]C(=N7)C#Cc1cc3C#CC1=NC(=[N]=C([N]1)C#CC(=O)[O-])C#Cc2c6)C#CC(=O)[O-])c5)c4)C#CC(=O)[O-]\n"
     ]
    },
    {
     "name": "stderr",
     "output_type": "stream",
     "text": [
      "[00:07:12] UFFTYPER: Unrecognized atom type: S_5+4 (9)\n",
      "[00:07:12] UFFTYPER: Unrecognized atom type: S_5+4 (21)\n",
      "[00:07:12] UFFTYPER: Unrecognized atom type: S_5+4 (9)\n",
      "[00:07:12] UFFTYPER: Unrecognized atom type: S_5+4 (21)\n",
      "[00:07:12] UFFTYPER: Unrecognized atom type: S_5+4 (9)\n",
      "[00:07:12] UFFTYPER: Unrecognized atom type: S_5+4 (21)\n",
      "[00:07:12] UFFTYPER: Unrecognized atom type: S_5+4 (9)\n",
      "[00:07:12] UFFTYPER: Unrecognized atom type: S_5+4 (21)\n"
     ]
    },
    {
     "name": "stdout",
     "output_type": "stream",
     "text": [
      "CCCOC1=NC=C([C]([C]1OCCC)[C](C(=C1C(=CN=C([C]1OCCC)OCCC)OCCC)OCCC)OCCC)OCCC\n",
      "[O]P(=O)(C[NH]1CC[NH](CC1)CP(=O)([O])[O])[O]\n"
     ]
    },
    {
     "name": "stderr",
     "output_type": "stream",
     "text": [
      "[00:07:13] Explicit valence for atom # 4 N, 4, is greater than permitted\n",
      "[00:07:14] UFFTYPER: Unrecognized atom type: S_5+4 (5)\n",
      "[00:07:14] UFFTYPER: Unrecognized atom type: S_5+4 (20)\n",
      "[00:07:14] UFFTYPER: Unrecognized atom type: S_5+4 (5)\n",
      "[00:07:14] UFFTYPER: Unrecognized atom type: S_5+4 (20)\n",
      "[00:07:14] UFFTYPER: Unrecognized atom type: S_5+4 (16)\n",
      "[00:07:14] UFFTYPER: Unrecognized atom type: S_5+4 (16)\n",
      "[00:07:14] Explicit valence for atom # 4 N, 4, is greater than permitted\n",
      "[00:07:14] UFFTYPER: Unrecognized atom type: S_5+4 (21)\n",
      "[00:07:14] UFFTYPER: Unrecognized atom type: S_5+4 (25)\n",
      "[00:07:14] UFFTYPER: Unrecognized atom type: S_5+4 (32)\n",
      "[00:07:14] UFFTYPER: Unrecognized atom type: S_5+4 (46)\n",
      "[00:07:14] UFFTYPER: Unrecognized atom type: S_5+4 (64)\n",
      "[00:07:14] UFFTYPER: Unrecognized atom type: S_5+4 (71)\n"
     ]
    },
    {
     "name": "stdout",
     "output_type": "stream",
     "text": [
      "NC1=NC=[N]=C2[C]1N=C[N]2\n"
     ]
    },
    {
     "name": "stderr",
     "output_type": "stream",
     "text": [
      "[00:07:14] UFFTYPER: Unrecognized atom type: S_5+4 (21)\n",
      "[00:07:14] UFFTYPER: Unrecognized atom type: S_5+4 (25)\n",
      "[00:07:14] UFFTYPER: Unrecognized atom type: S_5+4 (32)\n",
      "[00:07:14] UFFTYPER: Unrecognized atom type: S_5+4 (46)\n",
      "[00:07:14] UFFTYPER: Unrecognized atom type: S_5+4 (64)\n",
      "[00:07:14] UFFTYPER: Unrecognized atom type: S_5+4 (71)\n",
      "[00:07:14] UFFTYPER: Unrecognized atom type: S_5+4 (21)\n",
      "[00:07:14] UFFTYPER: Unrecognized atom type: S_5+4 (25)\n",
      "[00:07:14] UFFTYPER: Unrecognized atom type: S_5+4 (32)\n",
      "[00:07:14] UFFTYPER: Unrecognized atom type: S_5+4 (46)\n",
      "[00:07:14] UFFTYPER: Unrecognized atom type: S_5+4 (64)\n",
      "[00:07:14] UFFTYPER: Unrecognized atom type: S_5+4 (71)\n",
      "[00:07:14] UFFTYPER: Unrecognized atom type: S_5+4 (21)\n",
      "[00:07:14] UFFTYPER: Unrecognized atom type: S_5+4 (25)\n",
      "[00:07:14] UFFTYPER: Unrecognized atom type: S_5+4 (32)\n",
      "[00:07:14] UFFTYPER: Unrecognized atom type: S_5+4 (46)\n",
      "[00:07:14] UFFTYPER: Unrecognized atom type: S_5+4 (64)\n",
      "[00:07:14] UFFTYPER: Unrecognized atom type: S_5+4 (71)\n"
     ]
    },
    {
     "name": "stdout",
     "output_type": "stream",
     "text": [
      "Fc1cc(C(=O)[O-])c(cc1C#CC(C#Cc1c(cc(c(c1S([O])([O])O)S([O])([O])O)C(=O)[O-])S([O])(O)[O])(C#Cc1c(F)c(F)c(c(c1S([O])([O])O)F)C(=O)[O-])C#Cc1c(F)c(F)c(cc1S(O)([O])[O])C(=O)[O-])S([O])([O])O\n",
      "CC1=[N]=C(N=N1)C\n"
     ]
    },
    {
     "name": "stderr",
     "output_type": "stream",
     "text": [
      "[00:07:14] Explicit valence for atom # 2 N, 4, is greater than permitted\n"
     ]
    },
    {
     "name": "stdout",
     "output_type": "stream",
     "text": [
      "CCCCCCCCOc1cc(c(cc1c1cc(nc(c1)c1cccnc1)c1cccnc1)OCCCCCCCC)c1cc(nc(c1)c1cccnc1)c1cccnc1\n",
      "n1nnn(c1)[BH2]n1cnnn1\n"
     ]
    },
    {
     "name": "stderr",
     "output_type": "stream",
     "text": [
      "[00:07:15] Explicit valence for atom # 5 B, 4, is greater than permitted\n",
      "[00:07:16] Can't kekulize mol.  Unkekulized atoms: 1 4 5\n"
     ]
    },
    {
     "name": "stdout",
     "output_type": "stream",
     "text": [
      "Cc1[n-]n(c(c1c1ccncc1)C)Cn1[n-]c(c(c1C)c1ccncc1)C\n"
     ]
    },
    {
     "name": "stderr",
     "output_type": "stream",
     "text": [
      "[00:07:18] UFFTYPER: Unrecognized charge state for atom: 3\n",
      "[00:07:18] UFFTYPER: Unrecognized charge state for atom: 3\n"
     ]
    },
    {
     "name": "stdout",
     "output_type": "stream",
     "text": [
      "[O-]C(=O)c1ccc(cc1)OCC(COc1ccc(cc1)C(=O)[O-])(COc1ccc(cc1)C(=O)[O-])COc1ccc(cc1)C(=O)[O-]\n",
      "C(Cn1[n-]ccc1)CCn1[n-]ccc1\n"
     ]
    },
    {
     "name": "stderr",
     "output_type": "stream",
     "text": [
      "[00:07:20] Can't kekulize mol.  Unkekulized atoms: 4 5 6\n"
     ]
    },
    {
     "name": "stdout",
     "output_type": "stream",
     "text": [
      "Sc1cc2-c3cc(-c4c(cc(-c5c(-c1cc2S)cc1-c2cc(S)c(-c6cc(-c7c(cc(-c1c5)c(S)c7)S)cc(c6)c1cc(S)c(cc1S)C(=O)[O-])cc2S)c(S)c4)S)cc(c3)c1cc(S)c(cc1S)C(=O)[O-]\n"
     ]
    },
    {
     "name": "stderr",
     "output_type": "stream",
     "text": [
      "[00:09:04] UFFTYPER: Unrecognized atom type: S_5+4 (7)\n",
      "[00:09:04] UFFTYPER: Unrecognized atom type: S_5+4 (7)\n"
     ]
    },
    {
     "name": "stdout",
     "output_type": "stream",
     "text": [
      "CCCOC12C3(C#C[C]4C(=NN=C4OCCC)Br)C4(C2(C2(C1(C3(C42OCCC)OCCC)Br)C#C[C]1C(=NN=C1OCCC)Br)OCCC)Br\n"
     ]
    },
    {
     "name": "stderr",
     "output_type": "stream",
     "text": [
      "[00:09:07] UFFTYPER: Unrecognized atom type: S_5+4 (13)\n",
      "[00:09:07] UFFTYPER: Unrecognized atom type: S_5+4 (17)\n",
      "[00:09:07] UFFTYPER: Unrecognized atom type: S_5+4 (13)\n",
      "[00:09:07] UFFTYPER: Unrecognized atom type: S_5+4 (17)\n",
      "[00:09:07] Explicit valence for atom # 0 N, 4, is greater than permitted\n"
     ]
    },
    {
     "name": "stdout",
     "output_type": "stream",
     "text": [
      "[NH3]C(CC(=O)[O-])CC(=O)[O-]\n"
     ]
    },
    {
     "name": "stderr",
     "output_type": "stream",
     "text": [
      "[00:09:08] UFFTYPER: Unrecognized atom type: S_5+4 (9)\n",
      "[00:09:08] UFFTYPER: Unrecognized atom type: S_5+4 (25)\n",
      "[00:09:08] UFFTYPER: Unrecognized atom type: S_5+4 (32)\n",
      "[00:09:08] UFFTYPER: Unrecognized atom type: S_5+4 (36)\n",
      "[00:09:08] UFFTYPER: Unrecognized atom type: S_5+4 (9)\n",
      "[00:09:08] UFFTYPER: Unrecognized atom type: S_5+4 (25)\n",
      "[00:09:08] UFFTYPER: Unrecognized atom type: S_5+4 (32)\n",
      "[00:09:08] UFFTYPER: Unrecognized atom type: S_5+4 (36)\n",
      "[00:09:10] Explicit valence for atom # 0 N, 4, is greater than permitted\n",
      "[00:09:10] Explicit valence for atom # 6 N, 4, is greater than permitted\n"
     ]
    },
    {
     "name": "stdout",
     "output_type": "stream",
     "text": [
      "[NH2]=C(c1ccccn1)[N]N=Cc1ccccn1\n",
      "Nc1ncnc2=[N]=CN=c12\n",
      "[O-]C(=O)c1ccc(cc1)OCC(COc1ccc(cc1)C(=O)[O-])(COc1ccc(cc1)C(=O)[O-])COc1ccc(cc1)C(=O)[O-]\n",
      "[O-]C(=O)CCn1ccc([n-]1)c1ccncc1\n"
     ]
    },
    {
     "name": "stderr",
     "output_type": "stream",
     "text": [
      "[00:09:11] Can't kekulize mol.  Unkekulized atoms: 6 7 8\n",
      "[00:09:16] Explicit valence for atom # 1 N, 4, is greater than permitted\n",
      "[00:09:16] Explicit valence for atom # 1 N, 4, is greater than permitted\n",
      "[00:09:16] Can't kekulize mol.  Unkekulized atoms: 1 4 5\n",
      "[00:09:16] Explicit valence for atom # 1 C, 5, is greater than permitted\n",
      "[00:09:16] Explicit valence for atom # 1 N, 4, is greater than permitted\n"
     ]
    },
    {
     "name": "stdout",
     "output_type": "stream",
     "text": [
      "C[NH]=C(C(=[NH]C)C#CC(=O)[O-])C#CC(=O)[O-]\n",
      "C[NH]=C([C](C(=[NH]C)C(=O)[O-])I)[CH]C(=O)[O-]\n",
      "Cc1[nH][n-]c(c1c1c(C)[n-][nH]c1C)C\n",
      "S=[C]1=N[N]C=N1\n",
      "[N]=[N]=Nc1ccc(cc1)S([O])([O])[O]\n"
     ]
    },
    {
     "name": "stderr",
     "output_type": "stream",
     "text": [
      "[00:09:17] UFFTYPER: Unrecognized atom type: S_5+4 (9)\n",
      "[00:09:17] UFFTYPER: Unrecognized atom type: S_5+4 (21)\n",
      "[00:09:17] UFFTYPER: Unrecognized atom type: S_5+4 (9)\n",
      "[00:09:17] UFFTYPER: Unrecognized atom type: S_5+4 (21)\n",
      "[00:09:17] UFFTYPER: Unrecognized atom type: S_5+4 (9)\n",
      "[00:09:17] UFFTYPER: Unrecognized atom type: S_5+4 (21)\n",
      "[00:09:17] UFFTYPER: Unrecognized atom type: S_5+4 (9)\n",
      "[00:09:17] UFFTYPER: Unrecognized atom type: S_5+4 (21)\n",
      "[00:09:18] Explicit valence for atom # 1 N, 4, is greater than permitted\n"
     ]
    },
    {
     "name": "stdout",
     "output_type": "stream",
     "text": [
      "C[NH2]C1c2nc(cnc2C1C(=O)O)C(=O)O\n"
     ]
    },
    {
     "name": "stderr",
     "output_type": "stream",
     "text": [
      "[00:09:19] Explicit valence for atom # 7 N, 4, is greater than permitted\n",
      "[00:09:19] Can't kekulize mol.  Unkekulized atoms: 1 2 3\n",
      "[00:09:19] Can't kekulize mol.  Unkekulized atoms: 1 4 5\n"
     ]
    },
    {
     "name": "stdout",
     "output_type": "stream",
     "text": [
      "[O-]C(=O)C1CCC[NH](C1)CP(=O)([O])[O]\n",
      "Cc1cc([n-]n1CCCCn1[n-]c(cc1C)C)C\n",
      "Cc1[nH][n-]c(c1c1c(C)[n-][nH]c1C)C\n"
     ]
    },
    {
     "name": "stderr",
     "output_type": "stream",
     "text": [
      "[00:09:20] UFFTYPER: Unrecognized atom type: S_5+4 (13)\n",
      "[00:09:20] UFFTYPER: Unrecognized atom type: S_5+4 (24)\n",
      "[00:09:20] UFFTYPER: Unrecognized atom type: S_5+4 (13)\n",
      "[00:09:20] UFFTYPER: Unrecognized atom type: S_5+4 (24)\n",
      "[00:09:20] UFFTYPER: Unrecognized atom type: S_5+4 (18)\n",
      "[00:09:20] UFFTYPER: Unrecognized atom type: S_5+4 (22)\n",
      "[00:09:20] UFFTYPER: Unrecognized atom type: S_5+4 (26)\n",
      "[00:09:20] UFFTYPER: Unrecognized atom type: S_5+4 (30)\n",
      "[00:09:20] UFFTYPER: Unrecognized atom type: S_5+4 (18)\n",
      "[00:09:20] UFFTYPER: Unrecognized atom type: S_5+4 (22)\n",
      "[00:09:20] UFFTYPER: Unrecognized atom type: S_5+4 (26)\n",
      "[00:09:20] UFFTYPER: Unrecognized atom type: S_5+4 (30)\n",
      "[00:09:20] UFFTYPER: Unrecognized atom type: S_5+4 (10)\n",
      "[00:09:20] UFFTYPER: Unrecognized atom type: S_5+4 (26)\n",
      "[00:09:20] UFFTYPER: Unrecognized atom type: S_5+4 (10)\n",
      "[00:09:20] UFFTYPER: Unrecognized atom type: S_5+4 (26)\n",
      "[00:09:20] UFFTYPER: Unrecognized atom type: S_5+4 (9)\n",
      "[00:09:20] UFFTYPER: Unrecognized atom type: S_5+4 (13)\n",
      "[00:09:20] UFFTYPER: Unrecognized atom type: S_5+4 (29)\n",
      "[00:09:20] UFFTYPER: Unrecognized atom type: S_5+4 (33)\n",
      "[00:09:20] UFFTYPER: Unrecognized atom type: S_5+4 (9)\n",
      "[00:09:20] UFFTYPER: Unrecognized atom type: S_5+4 (13)\n",
      "[00:09:20] UFFTYPER: Unrecognized atom type: S_5+4 (29)\n",
      "[00:09:20] UFFTYPER: Unrecognized atom type: S_5+4 (33)\n",
      "[00:09:20] UFFTYPER: Unrecognized atom type: S_5+4 (9)\n",
      "[00:09:20] UFFTYPER: Unrecognized atom type: S_5+4 (13)\n",
      "[00:09:20] UFFTYPER: Unrecognized atom type: S_5+4 (29)\n",
      "[00:09:20] UFFTYPER: Unrecognized atom type: S_5+4 (33)\n",
      "[00:09:20] UFFTYPER: Unrecognized atom type: S_5+4 (9)\n",
      "[00:09:20] UFFTYPER: Unrecognized atom type: S_5+4 (13)\n",
      "[00:09:20] UFFTYPER: Unrecognized atom type: S_5+4 (29)\n",
      "[00:09:20] UFFTYPER: Unrecognized atom type: S_5+4 (33)\n",
      "[00:09:21] Can't kekulize mol.  Unkekulized atoms: 1 2 3\n"
     ]
    },
    {
     "name": "stdout",
     "output_type": "stream",
     "text": [
      "Cc1cc([n-]n1CCCCn1[n-]c(cc1C)C)C\n"
     ]
    },
    {
     "name": "stderr",
     "output_type": "stream",
     "text": [
      "[00:09:22] Explicit valence for atom # 3 N, 4, is greater than permitted\n",
      "[00:09:22] Explicit valence for atom # 1 C, 5, is greater than permitted\n"
     ]
    },
    {
     "name": "stdout",
     "output_type": "stream",
     "text": [
      "CSC1=[N]=C(N=N1)N\n",
      "S=[C]1=NN=C(O1)c1ccncc1\n"
     ]
    },
    {
     "name": "stderr",
     "output_type": "stream",
     "text": [
      "[00:09:22] Explicit valence for atom # 1 C, 5, is greater than permitted\n"
     ]
    },
    {
     "name": "stdout",
     "output_type": "stream",
     "text": [
      "O=[C]1=NC=CC=N1\n",
      "[O-]C(=O)C#Cc1cc2C#Cc3cc4C#Cc5cc(C#Cc6c7C#Cc8cc(C#Cc9c(C#Cc(c1)c2)cc1C#Cc2cc(C#Cc(c(C#Cc%10cc(C#Cc3cc4C#Cc3cc(C#Cc1c9)cc(c3)C#CC(=O)[O-])cc(c%10)C#CC(=O)[O-])c7)c6)cc(c2)C#CC(=O)[O-])cc(c8)C#CC(=O)[O-])cc(c5)C#CC(=O)[O-]\n",
      "[O-]C(=O)C=CC1=NC(=[N]=C([N]1)C=CC(=O)[O-])C#CC1=NC(=[N]=C([N]1)C=CC(=O)[O-])C=CC(=O)[O-]\n",
      "[O-]C(=O)C=CC1=NC(=[N]=C([N]1)C=CC(=O)[O-])C#CC1=[N]=C([N]C(=N1)C=CC(=O)[O-])C=CC(=O)[O-]\n",
      "[O-]C(=O)C=CC1=[N]=C(N=C([N]1)C#CC1=NC(=[N]=C([N]1)C=CC(=O)[O-])C=CC(=O)[O-])C=CC(=O)[O-]\n"
     ]
    },
    {
     "name": "stderr",
     "output_type": "stream",
     "text": [
      "[00:23:22] Explicit valence for atom # 8 N, 4, is greater than permitted\n",
      "[00:23:22] Explicit valence for atom # 8 N, 4, is greater than permitted\n",
      "[00:23:22] Explicit valence for atom # 6 N, 4, is greater than permitted\n",
      "[00:23:22] UFFTYPER: Unrecognized atom type: S_5+4 (11)\n",
      "[00:23:23] UFFTYPER: Unrecognized atom type: S_5+4 (11)\n",
      "[00:23:23] UFFTYPER: Unrecognized atom type: S_5+4 (11)\n",
      "[00:23:23] UFFTYPER: Unrecognized atom type: S_5+4 (11)\n",
      "[00:23:23] Explicit valence for atom # 4 N, 4, is greater than permitted\n",
      "[00:23:24] UFFTYPER: Unrecognized atom type: S_5+4 (9)\n",
      "[00:23:24] UFFTYPER: Unrecognized atom type: S_5+4 (21)\n"
     ]
    },
    {
     "name": "stdout",
     "output_type": "stream",
     "text": [
      "[O]P(=O)(C[NH]1CCC(CC1)C1CC[NH](CC1)CP(=O)([O])[O])[O]\n"
     ]
    },
    {
     "name": "stderr",
     "output_type": "stream",
     "text": [
      "[00:23:24] UFFTYPER: Unrecognized atom type: S_5+4 (9)\n",
      "[00:23:24] UFFTYPER: Unrecognized atom type: S_5+4 (21)\n",
      "[00:23:24] UFFTYPER: Unrecognized atom type: S_5+4 (9)\n",
      "[00:23:24] UFFTYPER: Unrecognized atom type: S_5+4 (21)\n",
      "[00:23:24] UFFTYPER: Unrecognized atom type: S_5+4 (9)\n",
      "[00:23:24] UFFTYPER: Unrecognized atom type: S_5+4 (21)\n",
      "[00:23:24] UFFTYPER: Unrecognized atom type: S_5+4 (9)\n",
      "[00:23:24] UFFTYPER: Unrecognized atom type: S_5+4 (21)\n",
      "[00:23:24] UFFTYPER: Unrecognized atom type: S_5+4 (9)\n",
      "[00:23:24] UFFTYPER: Unrecognized atom type: S_5+4 (21)\n",
      "[00:23:24] UFFTYPER: Unrecognized atom type: S_5+4 (1)\n",
      "[00:23:24] UFFTYPER: Unrecognized atom type: S_5+4 (16)\n",
      "[00:23:24] UFFTYPER: Unrecognized atom type: S_5+4 (1)\n",
      "[00:23:24] UFFTYPER: Unrecognized atom type: S_5+4 (16)\n",
      "[00:23:24] UFFTYPER: Unrecognized atom type: S_5+4 (1)\n",
      "[00:23:24] UFFTYPER: Unrecognized atom type: S_5+4 (16)\n",
      "[00:23:24] UFFTYPER: Unrecognized atom type: S_5+4 (1)\n",
      "[00:23:24] UFFTYPER: Unrecognized atom type: S_5+4 (16)\n",
      "[00:23:24] Explicit valence for atom # 1 C, 5, is greater than permitted\n"
     ]
    },
    {
     "name": "stdout",
     "output_type": "stream",
     "text": [
      "S=[C]1=NN=C(O1)c1ccncc1\n"
     ]
    },
    {
     "name": "stderr",
     "output_type": "stream",
     "text": [
      "[00:23:24] UFFTYPER: Unrecognized atom type: S_5+4 (9)\n",
      "[00:23:24] UFFTYPER: Unrecognized atom type: S_5+4 (9)\n",
      "[00:23:26] Explicit valence for atom # 7 N, 4, is greater than permitted\n"
     ]
    },
    {
     "name": "stdout",
     "output_type": "stream",
     "text": [
      "n1ccc(cc1)C1=[N]=C(N=N1)c1cnccn1\n"
     ]
    },
    {
     "name": "stderr",
     "output_type": "stream",
     "text": [
      "[00:23:26] UFFTYPER: Unrecognized atom type: S_5+4 (1)\n",
      "[00:23:26] UFFTYPER: Unrecognized atom type: S_5+4 (12)\n",
      "[00:23:26] UFFTYPER: Unrecognized atom type: S_5+4 (1)\n",
      "[00:23:26] UFFTYPER: Unrecognized atom type: S_5+4 (12)\n",
      "[00:23:28] UFFTYPER: Unrecognized atom type: S_5+4 (8)\n",
      "[00:23:28] UFFTYPER: Unrecognized atom type: S_5+4 (15)\n",
      "[00:23:28] UFFTYPER: Unrecognized atom type: S_5+4 (8)\n",
      "[00:23:28] UFFTYPER: Unrecognized atom type: S_5+4 (15)\n",
      "[00:23:28] UFFTYPER: Unrecognized atom type: S_5+4 (8)\n",
      "[00:23:28] UFFTYPER: Unrecognized atom type: S_5+4 (15)\n",
      "[00:23:28] UFFTYPER: Unrecognized atom type: S_5+4 (8)\n",
      "[00:23:28] UFFTYPER: Unrecognized atom type: S_5+4 (15)\n",
      "[00:23:28] UFFTYPER: Unrecognized atom type: S_5+4 (8)\n",
      "[00:23:28] UFFTYPER: Unrecognized atom type: S_5+4 (15)\n",
      "[00:23:28] UFFTYPER: Unrecognized atom type: S_5+4 (8)\n",
      "[00:23:28] UFFTYPER: Unrecognized atom type: S_5+4 (15)\n",
      "[00:23:30] Explicit valence for atom # 4 N, 4, is greater than permitted\n",
      "[00:23:30] Explicit valence for atom # 7 N, 4, is greater than permitted\n"
     ]
    },
    {
     "name": "stdout",
     "output_type": "stream",
     "text": [
      "[O]P(=O)(C[NH]1CCOCC1)[O]\n",
      "[O-]C(=O)C1CCC[NH2]1\n"
     ]
    }
   ],
   "source": [
    "no_lengths = pd.DataFrame(columns=[\"max_len\"])\n",
    "bed_count = 0\n",
    "for name in no.index:\n",
    "    smi = data[\"smilesLinkers\"].loc[name]\n",
    "    ss = smi.split(\",\")\n",
    "    curr_lengths = []\n",
    "\n",
    "    for s in ss:\n",
    "        try:\n",
    "            curr_len = get_max_length(s)\n",
    "            curr_lengths.append(curr_len)\n",
    "        except Exception:\n",
    "            bed_count += 1\n",
    "            \n",
    "            print(s)\n",
    "        \n",
    "    if curr_lengths:\n",
    "        no_lengths.loc[name] = [max(curr_lengths)]\n"
   ]
  },
  {
   "cell_type": "code",
   "execution_count": 20,
   "metadata": {},
   "outputs": [
    {
     "name": "stdout",
     "output_type": "stream",
     "text": [
      "Number of errors: 278\n"
     ]
    }
   ],
   "source": [
    "print(f\"Number of errors: {bed_count}\")"
   ]
  },
  {
   "cell_type": "code",
   "execution_count": 34,
   "metadata": {},
   "outputs": [],
   "source": [
    "# save max lengths for optimized geometry\n",
    "no_lengths.to_csv(\"linker_lengths/no_lengths_opt.csv\")\n",
    "tp_lengths.to_csv(\"linker_lengths/tp_lengths_opt.csv\")\n",
    "gm_lengths.to_csv(\"linker_lengths/gm_lengths_opt.csv\")"
   ]
  },
  {
   "cell_type": "code",
   "execution_count": 7,
   "metadata": {},
   "outputs": [],
   "source": [
    "no_lengths = pd.read_csv(\"linker_lengths/no_lengths_opt.csv\", index_col=0)\n",
    "tp_lengths = pd.read_csv(\"linker_lengths/tp_lengths_opt.csv\", index_col=0)\n",
    "gm_lengths = pd.read_csv(\"linker_lengths/gm_lengths_opt.csv\", index_col=0)"
   ]
  },
  {
   "cell_type": "code",
   "execution_count": 8,
   "metadata": {},
   "outputs": [
    {
     "data": {
      "text/plain": [
       "7240"
      ]
     },
     "execution_count": 8,
     "metadata": {},
     "output_type": "execute_result"
    }
   ],
   "source": [
    "len(no_lengths) + len(tp_lengths) + len(gm_lengths)"
   ]
  },
  {
   "cell_type": "code",
   "execution_count": 9,
   "metadata": {},
   "outputs": [],
   "source": [
    "import json\n",
    "\n",
    "mapping_ = json.load(open(\"../names_mapping.json\"))"
   ]
  },
  {
   "cell_type": "code",
   "execution_count": 10,
   "metadata": {},
   "outputs": [],
   "source": [
    "mofid_data = pd.read_csv(\"../preprocessing/mofid/mofid_data_.csv\", index_col=0)\n",
    "\n",
    "target = pd.read_csv(\"../database/main.csv\", sep=\";\", index_col=1)\n"
   ]
  },
  {
   "cell_type": "code",
   "execution_count": 11,
   "metadata": {},
   "outputs": [],
   "source": [
    "linkers = pd.DataFrame([[smi.strip('\"')[1:-1].replace(\"'\", \"\").split(\", \")] for smi in mofid_data['linker'].values], index=mofid_data.index, columns=[\"linker\"])"
   ]
  },
  {
   "cell_type": "code",
   "execution_count": 12,
   "metadata": {},
   "outputs": [
    {
     "name": "stdout",
     "output_type": "stream",
     "text": [
      "\n",
      "\n",
      "\n",
      "\n",
      "\n",
      "[O-]C(=O)C1=[C]C(=[C]C(=[C]1)C(=O)[O-])[N][C]1=[N]=[C](=[N]=[C](=[N]=1)[N]C1=[C]C(=[C]C(=[C]1)C(=O)[O-])C(=O)[O-])[N]C1=[C]C(=[C]C(=[C]1)C(=O)[O-])C(=O)[O-]\n",
      "[O]OOC1([C]OO1)C1=[C]C(=[C]C(=[C]1)C(=O)[O-])[N][C]1=[N]=[C](=[N]=[C](=[N]=1)[N]C1=[C]C(=[C]C(=[C]1)C(=O)[O-])C(=O)[O-])[N]C1=[C]C(=[C]C(=[C]1)C(=O)[O-])C(=O)[O-]\n",
      "[O]OOC1([C]OO1)C1=[C]C(=[C]C(=[C]1)[N][C]1=[N]=[C](=[N]=[C](=[N]=1)[N]C1=[C]C(=[C]C(=[C]1)C(=O)[O-])C(=O)[O-])[N]C1=[C]C(=[C]C(=[C]1)C(=O)[O-])C(=O)[O-])C(=O)[O-]\n"
     ]
    },
    {
     "name": "stderr",
     "output_type": "stream",
     "text": [
      "[16:13:59] Explicit valence for atom # 13 C, 5, is greater than permitted\n",
      "[16:13:59] Explicit valence for atom # 17 C, 5, is greater than permitted\n",
      "[16:13:59] Explicit valence for atom # 14 C, 5, is greater than permitted\n",
      "[16:14:01] Explicit valence for atom # 0 N, 4, is greater than permitted\n"
     ]
    },
    {
     "name": "stdout",
     "output_type": "stream",
     "text": [
      "[N]1=CN=NC=1\n",
      "\n",
      "\n",
      "\n",
      "n1ccc(cc1)C1C2c3ccc(C1C2c1ccncc1)cc3\n"
     ]
    }
   ],
   "source": [
    "main_lengths = pd.DataFrame(columns=[\"max_length\", \"target\"])\n",
    "bad_count = 0\n",
    "for name in target.index:\n",
    "    if name in mapping_ and mapping_[name][:-4] in linkers.index:\n",
    "        ss = linkers[\"linker\"].loc[mapping_[name][:-4]]\n",
    "        curr_lengths = []\n",
    "\n",
    "        for s in ss:\n",
    "            try:\n",
    "                curr_len = get_max_length(s)\n",
    "                curr_lengths.append(curr_len)\n",
    "            except Exception:\n",
    "                bad_count += 1\n",
    "                print(s)\n",
    "            \n",
    "        if curr_lengths:\n",
    "            ans = 0 if target.loc[name][\"Stimuli\"].find(\"T\") != -1 or target.loc[name][\"Stimuli\"].find(\"pressure\") != -1 or target.loc[name][\"Stimuli\"].find(\"Pressure\") != -1 else 1\n",
    "            main_lengths.loc[mapping_[name][:-4]] = [max(curr_lengths), ans]"
   ]
  },
  {
   "cell_type": "code",
   "execution_count": 13,
   "metadata": {},
   "outputs": [],
   "source": [
    "def get_statistics(distribution):\n",
    "    res = {}\n",
    "    res[\"Mean\"] = np.mean(distribution)\n",
    "    res[\"Std\"] = np.std(distribution)\n",
    "    print(f\"\\tMean (+- std): {res['Mean']:.2f} (+- {res['Std']:.2f}) Å\")\n",
    "    count, edge = np.histogram(distribution, bins=20)\n",
    "    i = np.argmax(count)\n",
    "    mode_bin = [edge[i], edge[i+1]]\n",
    "    res[\"Mode\"] = np.mean(mode_bin)\n",
    "    res[\"Dev\"] = (mode_bin[1] - mode_bin[0])/2\n",
    "    print(f\"\\tMode: {res['Mode']:.2f} (+- {res['Dev']:.2f}) Å\")\n",
    "\n",
    "    res[\"Median\"] = np.median(distribution)\n",
    "    print(f\"\\tMedian: {res['Median']:.2f} Å\")\n",
    "\n",
    "    res[\"Q1\"], res[\"Q2\"], res[\"Q3\"] = np.percentile(distribution, [25, 50, 75])\n",
    "\n",
    "    print(f\"\\tQuantiles:\\n\\t25% - {res['Q1']:.2f} Å\\n\\t50% - {res['Q2']:.2f} Å\\n\\t75% - {res['Q3']:.2f} Å\")\n",
    "    return res\n"
   ]
  },
  {
   "cell_type": "code",
   "execution_count": 14,
   "metadata": {},
   "outputs": [
    {
     "data": {
      "text/plain": [
       "<matplotlib.legend.Legend at 0x230e2ba5150>"
      ]
     },
     "execution_count": 14,
     "metadata": {},
     "output_type": "execute_result"
    },
    {
     "data": {
      "image/png": "[encoded data removed]",
      "text/plain": [
       "<Figure size 1500x1000 with 4 Axes>"
      ]
     },
     "metadata": {},
     "output_type": "display_data"
    }
   ],
   "source": [
    "import matplotlib.pyplot as plt\n",
    "\n",
    "\n",
    "fig, ((ax1, ax2), (ax3, ax4)) = plt.subplots(2, 2, figsize=(15, 10))\n",
    "\n",
    "x1, bins, patch = ax1.hist(no_lengths.values[:, 0], density=True, bins = 30, alpha=0.4, label=\"No prediction\", color='gray')\n",
    "ax1.hist(tp_lengths.values[:, 0],bins = bins, density=True, alpha=0.4, label=\"T/P\", color='orange')\n",
    "ax1.hist(gm_lengths.values[:, 0],bins = bins, density=True, alpha=0.4, label=\"Guest mol.\", color='green')\n",
    "ax1.set_title(\"With hydrogen and optimize the geometry \")\n",
    "ax1.set_xlabel(\"Length of largest linker, Å\")\n",
    "ax1.legend()\n",
    "\n",
    "ax2.hist(np.concatenate([no_lengths.values[:, 0], tp_lengths.values[:, 0], gm_lengths.values[:, 0]]),bins = bins, density=True, alpha=0.4, color='black')\n",
    "ax2.set_title(\"General destitution\")\n",
    "ax2.set_xlabel(\"Length of largest linker, Å\")\n",
    "ax2.set_ylim(ax1.get_ylim())\n",
    "ax2.set_xlim(ax1.get_xlim())\n",
    "\n",
    "\n",
    "ax3.hist(tp_lengths.values[:, 0], label=\"T/P\",bins = bins, density=True, alpha=0.4, color='orange')\n",
    "# ax3.set_title(\"T/P\")\n",
    "ax3.set_xlabel(\"Length of largest linker, Å\")\n",
    "ax3.set_ylim(ax1.get_ylim())\n",
    "ax3.set_xlim(ax1.get_xlim())\n",
    "ax3.legend()\n",
    "\n",
    "\n",
    "ax4.hist(gm_lengths.values[:, 0], label=\"Guest mol.\",bins = bins, density=True, alpha=0.4, color='green')\n",
    "# ax4.set_title(\"guest mol.\")\n",
    "ax4.set_xlabel(\"Length of largest linker, Å\")\n",
    "ax4.set_ylim(ax1.get_ylim())\n",
    "ax4.set_xlim(ax1.get_xlim())\n",
    "ax4.legend()\n"
   ]
  },
  {
   "cell_type": "code",
   "execution_count": 15,
   "metadata": {},
   "outputs": [
    {
     "name": "stdout",
     "output_type": "stream",
     "text": [
      "T/P QMOF\n",
      "\tMean (+- std): 11.73 (+- 3.78) Å\n",
      "\tMode: 12.04 (+- 0.64) Å\n",
      "\tMedian: 11.84 Å\n",
      "\tQuantiles:\n",
      "\t25% - 9.17 Å\n",
      "\t50% - 11.84 Å\n",
      "\t75% - 14.19 Å\n",
      "Guest mol. QMOF\n",
      "\tMean (+- std): 11.06 (+- 3.07) Å\n",
      "\tMode: 9.10 (+- 0.75) Å\n",
      "\tMedian: 10.29 Å\n",
      "\tQuantiles:\n",
      "\t25% - 9.18 Å\n",
      "\t50% - 10.29 Å\n",
      "\t75% - 12.97 Å\n",
      "No prediction QMOF\n",
      "\tMean (+- std): 10.15 (+- 3.91) Å\n",
      "\tMode: 7.87 (+- 0.61) Å\n",
      "\tMedian: 9.76 Å\n",
      "\tQuantiles:\n",
      "\t25% - 7.52 Å\n",
      "\t50% - 9.76 Å\n",
      "\t75% - 12.44 Å\n",
      "General distribution QMOF\n",
      "\tMean (+- std): 10.76 (+- 3.86) Å\n",
      "\tMode: 12.24 (+- 0.85) Å\n",
      "\tMedian: 10.45 Å\n",
      "\tQuantiles:\n",
      "\t25% - 7.90 Å\n",
      "\t50% - 10.45 Å\n",
      "\t75% - 13.65 Å\n"
     ]
    }
   ],
   "source": [
    "stats = pd.DataFrame(columns=[\"Mean\", \"Std\", \"Mode\", \"Dev\", \"Median\", \"Q1\", \"Q2\", \"Q3\"])\n",
    "\n",
    "print(\"T/P QMOF\")\n",
    "stats.loc[\"T/P QMOF\"] = get_statistics(tp_lengths.values[:, 0])\n",
    "\n",
    "print(\"Guest mol. QMOF\")\n",
    "stats.loc[\"Guest mol. QMOF\"] = get_statistics(gm_lengths.values[:, 0])\n",
    "\n",
    "print(\"No prediction QMOF\")\n",
    "stats.loc[\"No prediction QMOF\"] = get_statistics(no_lengths.values[:, 0])\n",
    "\n",
    "print(\"General distribution QMOF\")\n",
    "stats.loc[\"General distribution QMOF\"] = get_statistics(np.concatenate([no_lengths.values[:, 0], tp_lengths.values[:, 0], gm_lengths.values[:, 0]]))"
   ]
  },
  {
   "cell_type": "code",
   "execution_count": 16,
   "metadata": {},
   "outputs": [
    {
     "data": {
      "text/plain": [
       "(-0.06350360648502562, 26.790872032700253)"
      ]
     },
     "execution_count": 16,
     "metadata": {},
     "output_type": "execute_result"
    },
    {
     "data": {
      "image/png": "[encoded data removed]",
      "text/plain": [
       "<Figure size 1500x1000 with 4 Axes>"
      ]
     },
     "metadata": {},
     "output_type": "display_data"
    }
   ],
   "source": [
    "fig, ((ax1, ax2), (ax3, ax4)) = plt.subplots(2, 2, figsize=(15, 10))\n",
    "\n",
    "# x1, bins, patch = ax1.hist(main_lengths.max_length.values, density=True, bins = 30, alpha=0.4, label=\"no prediction\", color='gray')\n",
    "ax1.hist(main_lengths.max_length.loc[main_lengths.target == 1].values, bins = bins, density=True, alpha=0.4, label=\"T/P\", color='red', edgecolor=\"black\", stacked=True)\n",
    "ax1.hist(main_lengths.max_length.loc[main_lengths.target == 0].values,bins = bins, density=True, alpha=0.4, label=\"Guest mol.\", color='blue', edgecolor=\"black\", stacked=True)\n",
    "ax1.set_title(\"With hydrogen and optimize the geometry\")\n",
    "ax1.set_xlabel(\"max length of largest linker, Å\")\n",
    "ax1.legend()\n",
    "\n",
    "ax2.hist(main_lengths.max_length.values,bins = bins, density=True, alpha=0.5, color='black', edgecolor=\"black\", stacked=True)\n",
    "ax2.set_title(\"General destitution main\")\n",
    "ax2.set_xlabel(\"max length of largest linker, Å\")\n",
    "ax2.set_ylim(ax1.get_ylim())\n",
    "ax2.set_xlim(ax1.get_xlim())\n",
    "\n",
    "\n",
    "ax3.hist(main_lengths.max_length.loc[main_lengths.target == 1],bins = bins, density=True, alpha=0.5, color='orange', edgecolor=\"black\")\n",
    "ax3.set_title(\"T/P\")\n",
    "ax3.set_xlabel(\"max length of largest linker, Å\")\n",
    "ax3.set_ylim(ax1.get_ylim())\n",
    "ax3.set_xlim(ax1.get_xlim())\n",
    "\n",
    "\n",
    "ax4.hist(main_lengths.max_length.loc[main_lengths.target == 0],bins = bins, density=True, alpha=0.5, color='green', edgecolor=\"black\")\n",
    "ax4.set_title(\"guest mol.\")\n",
    "ax4.set_xlabel(\"max length of largest linker, Å\")\n",
    "ax4.set_ylim(ax1.get_ylim())\n",
    "ax4.set_xlim(ax1.get_xlim())"
   ]
  },
  {
   "cell_type": "code",
   "execution_count": 22,
   "metadata": {},
   "outputs": [
    {
     "data": {
      "text/plain": [
       "<matplotlib.legend.Legend at 0x230ea0b8160>"
      ]
     },
     "execution_count": 22,
     "metadata": {},
     "output_type": "execute_result"
    },
    {
     "data": {
      "image/png": "[encoded data removed]",
      "text/plain": [
       "<Figure size 1800x300 with 3 Axes>"
      ]
     },
     "metadata": {},
     "output_type": "display_data"
    }
   ],
   "source": [
    "fig, (ax1, ax2, ax3) = plt.subplots(1, 3, figsize=(18, 3))\n",
    "\n",
    "\n",
    "ax1.hist(np.concatenate([no_lengths.values[:, 0], tp_lengths.values[:, 0], gm_lengths.values[:, 0]]),bins = bins, density=True, alpha=0.4, color='violet', label=\"QMOF\")\n",
    "\n",
    "ax1.hist(main_lengths.max_length.values,bins = bins, density=True, alpha=0.4, color='navy', label=\"Main\")\n",
    "\n",
    "ax1.set_title(\"General destitution\")\n",
    "ax1.set_xlabel(\"Length of largest linker, Å\")\n",
    "ax1.set_ylim(0, 0.5)\n",
    "# ax1.set_xlim()\n",
    "\n",
    "ax1.legend()\n",
    "\n",
    "\n",
    "ax2.hist(tp_lengths.values[:, 0],bins = bins, density=True, alpha=0.4, color='orange', label=\"QMOF\")\n",
    "ax2.hist(main_lengths.max_length.loc[main_lengths.target == 1],bins = bins, density=True, alpha=0.2, color='red', label=\"Main\")\n",
    "\n",
    "ax2.set_title(\"T/P\")\n",
    "ax2.set_xlabel(\"Length of largest linker, Å\")\n",
    "ax2.set_ylim(ax1.get_ylim())\n",
    "ax2.set_xlim(ax1.get_xlim())\n",
    "ax2.legend()\n",
    "\n",
    "ax3.hist(gm_lengths.values[:, 0],bins = bins, density=True, alpha=0.4, color='green', label=\"QMOF\")\n",
    "ax3.hist(main_lengths.max_length.loc[main_lengths.target == 0],bins = bins, density=True, alpha=0.4, color='blue', label=\"Main\")\n",
    "ax3.set_title(\"Guest mol.\")\n",
    "ax3.set_xlabel(\"Length of largest linker, Å\")\n",
    "ax3.set_ylim(ax1.get_ylim())\n",
    "ax3.set_xlim(ax1.get_xlim())\n",
    "ax3.legend()\n"
   ]
  },
  {
   "cell_type": "code",
   "execution_count": 23,
   "metadata": {},
   "outputs": [
    {
     "name": "stdout",
     "output_type": "stream",
     "text": [
      "T/P Main\n",
      "\tMean (+- std): 10.22 (+- 4.09) Å\n",
      "\tMode: 10.26 (+- 0.53) Å\n",
      "\tMedian: 9.90 Å\n",
      "\tQuantiles:\n",
      "\t25% - 7.90 Å\n",
      "\t50% - 9.90 Å\n",
      "\t75% - 11.84 Å\n",
      "Guest mol. Main\n",
      "\tMean (+- std): 11.99 (+- 4.95) Å\n",
      "\tMode: 10.48 (+- 0.48) Å\n",
      "\tMedian: 10.61 Å\n",
      "\tQuantiles:\n",
      "\t25% - 9.88 Å\n",
      "\t50% - 10.61 Å\n",
      "\t75% - 13.56 Å\n",
      "General distribution Main\n",
      "\tMean (+- std): 11.02 (+- 4.59) Å\n",
      "\tMode: 10.26 (+- 0.53) Å\n",
      "\tMedian: 10.42 Å\n",
      "\tQuantiles:\n",
      "\t25% - 8.13 Å\n",
      "\t50% - 10.42 Å\n",
      "\t75% - 12.05 Å\n"
     ]
    }
   ],
   "source": [
    "print(\"T/P Main\")\n",
    "stats.loc[\"T/P Main\"] = get_statistics(main_lengths.max_length.loc[main_lengths.target == 1])\n",
    "\n",
    "print(\"Guest mol. Main\")\n",
    "stats.loc[\"Guest mol. Main\"] = get_statistics(main_lengths.max_length.loc[main_lengths.target == 0])\n",
    "\n",
    "print(\"General distribution Main\")\n",
    "stats.loc[\"General distribution Main\"] = get_statistics(main_lengths.max_length)"
   ]
  },
  {
   "cell_type": "code",
   "execution_count": 24,
   "metadata": {},
   "outputs": [
    {
     "data": {
      "text/html": [
       "<div>\n",
       "<style scoped>\n",
       "    .dataframe tbody tr th:only-of-type {\n",
       "        vertical-align: middle;\n",
       "    }\n",
       "\n",
       "    .dataframe tbody tr th {\n",
       "        vertical-align: top;\n",
       "    }\n",
       "\n",
       "    .dataframe thead th {\n",
       "        text-align: right;\n",
       "    }\n",
       "</style>\n",
       "<table border=\"1\" class=\"dataframe\">\n",
       "  <thead>\n",
       "    <tr style=\"text-align: right;\">\n",
       "      <th></th>\n",
       "      <th>Mean</th>\n",
       "      <th>Std</th>\n",
       "      <th>Mode</th>\n",
       "      <th>Dev</th>\n",
       "      <th>Median</th>\n",
       "      <th>Q1</th>\n",
       "      <th>Q2</th>\n",
       "      <th>Q3</th>\n",
       "    </tr>\n",
       "  </thead>\n",
       "  <tbody>\n",
       "    <tr>\n",
       "      <th>T/P QMOF</th>\n",
       "      <td>11.726054</td>\n",
       "      <td>3.780582</td>\n",
       "      <td>12.036684</td>\n",
       "      <td>0.639973</td>\n",
       "      <td>11.838413</td>\n",
       "      <td>9.174579</td>\n",
       "      <td>11.838413</td>\n",
       "      <td>14.194942</td>\n",
       "    </tr>\n",
       "    <tr>\n",
       "      <th>Guest mol. QMOF</th>\n",
       "      <td>11.063716</td>\n",
       "      <td>3.067774</td>\n",
       "      <td>9.099837</td>\n",
       "      <td>0.747363</td>\n",
       "      <td>10.285349</td>\n",
       "      <td>9.180135</td>\n",
       "      <td>10.285349</td>\n",
       "      <td>12.974688</td>\n",
       "    </tr>\n",
       "    <tr>\n",
       "      <th>No prediction QMOF</th>\n",
       "      <td>10.154118</td>\n",
       "      <td>3.905361</td>\n",
       "      <td>7.870744</td>\n",
       "      <td>0.610327</td>\n",
       "      <td>9.760739</td>\n",
       "      <td>7.522134</td>\n",
       "      <td>9.760739</td>\n",
       "      <td>12.440278</td>\n",
       "    </tr>\n",
       "    <tr>\n",
       "      <th>General distribution QMOF</th>\n",
       "      <td>10.760813</td>\n",
       "      <td>3.856105</td>\n",
       "      <td>12.239777</td>\n",
       "      <td>0.852510</td>\n",
       "      <td>10.447454</td>\n",
       "      <td>7.901227</td>\n",
       "      <td>10.447454</td>\n",
       "      <td>13.652539</td>\n",
       "    </tr>\n",
       "    <tr>\n",
       "      <th>T/P Main</th>\n",
       "      <td>10.216373</td>\n",
       "      <td>4.090409</td>\n",
       "      <td>10.261215</td>\n",
       "      <td>0.531868</td>\n",
       "      <td>9.895432</td>\n",
       "      <td>7.901232</td>\n",
       "      <td>9.895432</td>\n",
       "      <td>11.838268</td>\n",
       "    </tr>\n",
       "    <tr>\n",
       "      <th>Guest mol. Main</th>\n",
       "      <td>11.992954</td>\n",
       "      <td>4.949351</td>\n",
       "      <td>10.482677</td>\n",
       "      <td>0.484348</td>\n",
       "      <td>10.611480</td>\n",
       "      <td>9.877649</td>\n",
       "      <td>10.611480</td>\n",
       "      <td>13.562840</td>\n",
       "    </tr>\n",
       "    <tr>\n",
       "      <th>General distribution Main</th>\n",
       "      <td>11.023910</td>\n",
       "      <td>4.587304</td>\n",
       "      <td>10.261215</td>\n",
       "      <td>0.531868</td>\n",
       "      <td>10.422844</td>\n",
       "      <td>8.132855</td>\n",
       "      <td>10.422844</td>\n",
       "      <td>12.052520</td>\n",
       "    </tr>\n",
       "  </tbody>\n",
       "</table>\n",
       "</div>"
      ],
      "text/plain": [
       "                                Mean       Std       Mode       Dev  \\\n",
       "T/P QMOF                   11.726054  3.780582  12.036684  0.639973   \n",
       "Guest mol. QMOF            11.063716  3.067774   9.099837  0.747363   \n",
       "No prediction QMOF         10.154118  3.905361   7.870744  0.610327   \n",
       "General distribution QMOF  10.760813  3.856105  12.239777  0.852510   \n",
       "T/P Main                   10.216373  4.090409  10.261215  0.531868   \n",
       "Guest mol. Main            11.992954  4.949351  10.482677  0.484348   \n",
       "General distribution Main  11.023910  4.587304  10.261215  0.531868   \n",
       "\n",
       "                              Median        Q1         Q2         Q3  \n",
       "T/P QMOF                   11.838413  9.174579  11.838413  14.194942  \n",
       "Guest mol. QMOF            10.285349  9.180135  10.285349  12.974688  \n",
       "No prediction QMOF          9.760739  7.522134   9.760739  12.440278  \n",
       "General distribution QMOF  10.447454  7.901227  10.447454  13.652539  \n",
       "T/P Main                    9.895432  7.901232   9.895432  11.838268  \n",
       "Guest mol. Main            10.611480  9.877649  10.611480  13.562840  \n",
       "General distribution Main  10.422844  8.132855  10.422844  12.052520  "
      ]
     },
     "execution_count": 24,
     "metadata": {},
     "output_type": "execute_result"
    }
   ],
   "source": [
    "stats"
   ]
  },
  {
   "cell_type": "code",
   "execution_count": null,
   "metadata": {},
   "outputs": [],
   "source": []
  }
 ],
 "metadata": {
  "kernelspec": {
   "display_name": "Python 3",
   "language": "python",
   "name": "python3"
  },
  "language_info": {
   "codemirror_mode": {
    "name": "ipython",
    "version": 3
   },
   "file_extension": ".py",
   "mimetype": "text/x-python",
   "name": "python",
   "nbconvert_exporter": "python",
   "pygments_lexer": "ipython3",
   "version": "3.10.11"
  }
 },
 "nbformat": 4,
 "nbformat_minor": 2
}
