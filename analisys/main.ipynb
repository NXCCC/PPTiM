{
 "cells": [
  {
   "cell_type": "code",
   "execution_count": 1,
   "metadata": {},
   "outputs": [],
   "source": [
    "from rdkit import Chem\n",
    "from rdkit.Chem import AllChem\n",
    "import numpy as np\n",
    "import pandas as pd"
   ]
  },
  {
   "cell_type": "code",
   "execution_count": 2,
   "metadata": {},
   "outputs": [],
   "source": [
    "def get_max_length(smiles: str) -> float:\n",
    "    mol = Chem.MolFromSmiles(smiles)\n",
    "    # Add hydrogen atoms to the molecule \n",
    "    mol = Chem.AddHs(mol)\n",
    "    # Generate 3D coordinates\n",
    "    AllChem.EmbedMolecule(mol, AllChem.ETKDG())\n",
    "\n",
    "    # Optimize the geometry\n",
    "    AllChem.UFFOptimizeMolecule(mol)\n",
    "\n",
    "    # Calculate the maximum distance between any two atoms\n",
    "    coords = mol.GetConformer().GetPositions()\n",
    "\n",
    "    return np.max([np.linalg.norm(coords[i]- coords[j]) for i in range(len(coords)) for j in range(i+1, len(coords))])\n"
   ]
  },
  {
   "cell_type": "code",
   "execution_count": 3,
   "metadata": {},
   "outputs": [],
   "source": [
    "# load predictions for QMOF\n",
    "tp = pd.read_csv(\"T_P_qmof.csv\", index_col=0)\n",
    "gm = pd.read_csv(\"ges_mol_qmof.csv\", index_col=0)\n",
    "no = pd.read_csv(\"no_pred_qmof.csv\", index_col=0)"
   ]
  },
  {
   "cell_type": "code",
   "execution_count": 4,
   "metadata": {},
   "outputs": [
    {
     "data": {
      "text/plain": [
       "(1646, 539, 5278)"
      ]
     },
     "execution_count": 4,
     "metadata": {},
     "output_type": "execute_result"
    }
   ],
   "source": [
    "len(tp),len(gm),len(no)"
   ]
  },
  {
   "cell_type": "code",
   "execution_count": 5,
   "metadata": {},
   "outputs": [
    {
     "data": {
      "text/plain": [
       "7463"
      ]
     },
     "execution_count": 5,
     "metadata": {},
     "output_type": "execute_result"
    }
   ],
   "source": [
    "len(tp)+len(gm)+len(no)"
   ]
  },
  {
   "cell_type": "code",
   "execution_count": 6,
   "metadata": {},
   "outputs": [],
   "source": [
    "# load linker data for QMOF\n",
    "data = pd.read_csv(\"../preprocessing/qmof/data/qmof_property_cell.csv\", index_col=1)"
   ]
  },
  {
   "cell_type": "code",
   "execution_count": null,
   "metadata": {},
   "outputs": [],
   "source": [
    "tp_lengths = pd.DataFrame(columns=[\"max_len\"])\n",
    "bed_count = 0\n",
    "for name in tp.index:\n",
    "    smi = data[\"smilesLinkers\"].loc[name]\n",
    "    ss = smi.split(\",\") # split 'linker1,linker2' to ['linker1', 'linker2']\n",
    "    curr_lengths = []\n",
    "\n",
    "    for s in ss:\n",
    "        try:\n",
    "            curr_len = get_max_length(s)\n",
    "            curr_lengths.append(curr_len)\n",
    "        except Exception:\n",
    "            bed_count += 1\n",
    "            \n",
    "            print(s)\n",
    "        \n",
    "    if curr_lengths:\n",
    "        tp_lengths.loc[name] = [max(curr_lengths)]"
   ]
  },
  {
   "cell_type": "code",
   "execution_count": 8,
   "metadata": {},
   "outputs": [
    {
     "name": "stdout",
     "output_type": "stream",
     "text": [
      "Number of errors: 5\n"
     ]
    }
   ],
   "source": [
    "print(f\"Number of errors: {bed_count}\")"
   ]
  },
  {
   "cell_type": "code",
   "execution_count": 9,
   "metadata": {},
   "outputs": [
    {
     "data": {
      "text/plain": [
       "1644"
      ]
     },
     "execution_count": 9,
     "metadata": {},
     "output_type": "execute_result"
    }
   ],
   "source": [
    "len(tp_lengths)"
   ]
  },
  {
   "cell_type": "code",
   "execution_count": null,
   "metadata": {},
   "outputs": [],
   "source": [
    "gm_lengths = pd.DataFrame(columns=[\"max_len\"])\n",
    "bed_count = 0\n",
    "for name in gm.index:\n",
    "    smi = data[\"smilesLinkers\"].loc[name]\n",
    "    ss = smi.split(\",\")\n",
    "    curr_lengths = []\n",
    "\n",
    "    for s in ss:\n",
    "        try:\n",
    "            curr_len = get_max_length(s)\n",
    "            curr_lengths.append(curr_len)\n",
    "        except Exception:\n",
    "            bed_count += 1\n",
    "            \n",
    "            print(s)\n",
    "        \n",
    "    if curr_lengths:\n",
    "        gm_lengths.loc[name] = [max(curr_lengths)]\n"
   ]
  },
  {
   "cell_type": "code",
   "execution_count": 11,
   "metadata": {},
   "outputs": [
    {
     "name": "stdout",
     "output_type": "stream",
     "text": [
      "Number of errors: 4\n"
     ]
    }
   ],
   "source": [
    "print(f\"Number of errors: {bed_count}\")"
   ]
  },
  {
   "cell_type": "code",
   "execution_count": 12,
   "metadata": {},
   "outputs": [
    {
     "data": {
      "text/plain": [
       "539"
      ]
     },
     "execution_count": 12,
     "metadata": {},
     "output_type": "execute_result"
    }
   ],
   "source": [
    "len(gm_lengths)"
   ]
  },
  {
   "cell_type": "code",
   "execution_count": null,
   "metadata": {},
   "outputs": [],
   "source": [
    "no_lengths = pd.DataFrame(columns=[\"max_len\"])\n",
    "bed_count = 0\n",
    "for name in no.index:\n",
    "    smi = data[\"smilesLinkers\"].loc[name]\n",
    "    ss = smi.split(\",\")\n",
    "    curr_lengths = []\n",
    "\n",
    "    for s in ss:\n",
    "        try:\n",
    "            curr_len = get_max_length(s)\n",
    "            curr_lengths.append(curr_len)\n",
    "        except Exception:\n",
    "            bed_count += 1\n",
    "            \n",
    "            print(s)\n",
    "        \n",
    "    if curr_lengths:\n",
    "        no_lengths.loc[name] = [max(curr_lengths)]\n"
   ]
  },
  {
   "cell_type": "code",
   "execution_count": 14,
   "metadata": {},
   "outputs": [
    {
     "name": "stdout",
     "output_type": "stream",
     "text": [
      "Number of errors: 434\n"
     ]
    }
   ],
   "source": [
    "print(f\"Number of errors: {bed_count}\")"
   ]
  },
  {
   "cell_type": "code",
   "execution_count": 15,
   "metadata": {},
   "outputs": [
    {
     "data": {
      "text/plain": [
       "5061"
      ]
     },
     "execution_count": 15,
     "metadata": {},
     "output_type": "execute_result"
    }
   ],
   "source": [
    "len(no_lengths)"
   ]
  },
  {
   "cell_type": "code",
   "execution_count": 16,
   "metadata": {},
   "outputs": [],
   "source": [
    "# save max lengths for optimized geometry\n",
    "no_lengths.to_csv(\"linker_lengths/no_lengths_opt.csv\")\n",
    "tp_lengths.to_csv(\"linker_lengths/tp_lengths_opt.csv\")\n",
    "gm_lengths.to_csv(\"linker_lengths/gm_lengths_opt.csv\")"
   ]
  },
  {
   "cell_type": "code",
   "execution_count": 17,
   "metadata": {},
   "outputs": [],
   "source": [
    "no_lengths = pd.read_csv(\"linker_lengths/no_lengths_opt.csv\", index_col=0)\n",
    "tp_lengths = pd.read_csv(\"linker_lengths/tp_lengths_opt.csv\", index_col=0)\n",
    "gm_lengths = pd.read_csv(\"linker_lengths/gm_lengths_opt.csv\", index_col=0)"
   ]
  },
  {
   "cell_type": "code",
   "execution_count": null,
   "metadata": {},
   "outputs": [],
   "source": []
  },
  {
   "cell_type": "code",
   "execution_count": 18,
   "metadata": {},
   "outputs": [
    {
     "data": {
      "text/plain": [
       "(5061, 1644, 539)"
      ]
     },
     "execution_count": 18,
     "metadata": {},
     "output_type": "execute_result"
    }
   ],
   "source": [
    "len(no_lengths),len(tp_lengths),len(gm_lengths)"
   ]
  },
  {
   "cell_type": "code",
   "execution_count": 19,
   "metadata": {},
   "outputs": [
    {
     "data": {
      "text/plain": [
       "7244"
      ]
     },
     "execution_count": 19,
     "metadata": {},
     "output_type": "execute_result"
    }
   ],
   "source": [
    "len(no_lengths) + len(tp_lengths) + len(gm_lengths)"
   ]
  },
  {
   "cell_type": "code",
   "execution_count": 20,
   "metadata": {},
   "outputs": [],
   "source": [
    "import json\n",
    "\n",
    "mapping_ = json.load(open(\"../names_mapping.json\"))"
   ]
  },
  {
   "cell_type": "code",
   "execution_count": 21,
   "metadata": {},
   "outputs": [],
   "source": [
    "mofid_data = pd.read_csv(\"../preprocessing/mofid/mofid_data_.csv\", index_col=0)\n",
    "\n",
    "target = pd.read_csv(\"../database/main.csv\", sep=\";\", index_col=1)\n"
   ]
  },
  {
   "cell_type": "code",
   "execution_count": 22,
   "metadata": {},
   "outputs": [],
   "source": [
    "linkers = pd.DataFrame([[smi.strip('\"')[1:-1].replace(\"'\", \"\").split(\", \")] for smi in mofid_data['linker'].values], index=mofid_data.index, columns=[\"linker\"])"
   ]
  },
  {
   "cell_type": "code",
   "execution_count": null,
   "metadata": {},
   "outputs": [],
   "source": [
    "main_lengths = pd.DataFrame(columns=[\"max_length\", \"target\"])\n",
    "bad_count = 0\n",
    "for name in target.index:\n",
    "    if name in mapping_ and mapping_[name][:-4] in linkers.index:\n",
    "        ss = linkers[\"linker\"].loc[mapping_[name][:-4]]\n",
    "        curr_lengths = []\n",
    "\n",
    "        for s in ss:\n",
    "            try:\n",
    "                curr_len = get_max_length(s)\n",
    "                curr_lengths.append(curr_len)\n",
    "            except Exception:\n",
    "                bad_count += 1\n",
    "                print(s)\n",
    "            \n",
    "        if curr_lengths:\n",
    "            ans = 0 if target.loc[name][\"Stimuli\"].find(\"T\") != -1 or target.loc[name][\"Stimuli\"].find(\"pressure\") != -1 or target.loc[name][\"Stimuli\"].find(\"Pressure\") != -1 else 1\n",
    "            main_lengths.loc[mapping_[name][:-4]] = [max(curr_lengths), ans]"
   ]
  },
  {
   "cell_type": "code",
   "execution_count": 24,
   "metadata": {},
   "outputs": [],
   "source": [
    "def get_statistics(distribution):\n",
    "    res = {}\n",
    "    res[\"Mean\"] = np.mean(distribution)\n",
    "    res[\"Std\"] = np.std(distribution)\n",
    "    print(f\"\\tMean (+- std): {res['Mean']:.2f} (+- {res['Std']:.2f}) Å\")\n",
    "    count, edge = np.histogram(distribution, bins=20)\n",
    "    i = np.argmax(count)\n",
    "    mode_bin = [edge[i], edge[i+1]]\n",
    "    res[\"Mode\"] = np.mean(mode_bin)\n",
    "    res[\"Dev\"] = (mode_bin[1] - mode_bin[0])/2\n",
    "    print(f\"\\tMode: {res['Mode']:.2f} (+- {res['Dev']:.2f}) Å\")\n",
    "\n",
    "    res[\"Median\"] = np.median(distribution)\n",
    "    print(f\"\\tMedian: {res['Median']:.2f} Å\")\n",
    "\n",
    "    res[\"Q1\"], res[\"Q2\"], res[\"Q3\"] = np.percentile(distribution, [25, 50, 75])\n",
    "\n",
    "    print(f\"\\tQuantiles:\\n\\t25% - {res['Q1']:.2f} Å\\n\\t50% - {res['Q2']:.2f} Å\\n\\t75% - {res['Q3']:.2f} Å\")\n",
    "    return res\n"
   ]
  },
  {
   "cell_type": "code",
   "execution_count": 25,
   "metadata": {},
   "outputs": [
    {
     "data": {
      "text/plain": [
       "<matplotlib.legend.Legend at 0x2479e4101f0>"
      ]
     },
     "execution_count": 25,
     "metadata": {},
     "output_type": "execute_result"
    },
    {
     "data": {
      "image/png": "[encoded data removed]",
      "text/plain": [
       "<Figure size 1500x1000 with 4 Axes>"
      ]
     },
     "metadata": {},
     "output_type": "display_data"
    }
   ],
   "source": [
    "import matplotlib.pyplot as plt\n",
    "\n",
    "\n",
    "fig, ((ax1, ax2), (ax3, ax4)) = plt.subplots(2, 2, figsize=(15, 10))\n",
    "\n",
    "x1, bins, patch = ax1.hist(no_lengths.values[:, 0], density=True, bins = 30, alpha=0.4, label=\"No prediction\", color='gray')\n",
    "ax1.hist(tp_lengths.values[:, 0],bins = bins, density=True, alpha=0.4, label=\"T/P\", color='orange')\n",
    "ax1.hist(gm_lengths.values[:, 0],bins = bins, density=True, alpha=0.4, label=\"Guest mol.\", color='green')\n",
    "ax1.set_title(\"With hydrogen and optimize the geometry \")\n",
    "ax1.set_xlabel(\"Length of largest linker, Å\")\n",
    "ax1.legend()\n",
    "\n",
    "ax2.hist(np.concatenate([no_lengths.values[:, 0], tp_lengths.values[:, 0], gm_lengths.values[:, 0]]),bins = bins, density=True, alpha=0.4, color='black')\n",
    "ax2.set_title(\"General destitution\")\n",
    "ax2.set_xlabel(\"Length of largest linker, Å\")\n",
    "ax2.set_ylim(ax1.get_ylim())\n",
    "ax2.set_xlim(ax1.get_xlim())\n",
    "\n",
    "\n",
    "ax3.hist(tp_lengths.values[:, 0], label=\"T/P\",bins = bins, density=True, alpha=0.4, color='orange')\n",
    "# ax3.set_title(\"T/P\")\n",
    "ax3.set_xlabel(\"Length of largest linker, Å\")\n",
    "ax3.set_ylim(ax1.get_ylim())\n",
    "ax3.set_xlim(ax1.get_xlim())\n",
    "ax3.legend()\n",
    "\n",
    "\n",
    "ax4.hist(gm_lengths.values[:, 0], label=\"Guest mol.\",bins = bins, density=True, alpha=0.4, color='green')\n",
    "# ax4.set_title(\"guest mol.\")\n",
    "ax4.set_xlabel(\"Length of largest linker, Å\")\n",
    "ax4.set_ylim(ax1.get_ylim())\n",
    "ax4.set_xlim(ax1.get_xlim())\n",
    "ax4.legend()\n"
   ]
  },
  {
   "cell_type": "code",
   "execution_count": 26,
   "metadata": {},
   "outputs": [
    {
     "name": "stdout",
     "output_type": "stream",
     "text": [
      "T/P QMOF\n",
      "\tMean (+- std): 11.80 (+- 3.83) Å\n",
      "\tMode: 14.22 (+- 0.58) Å\n",
      "\tMedian: 11.96 Å\n",
      "\tQuantiles:\n",
      "\t25% - 9.09 Å\n",
      "\t50% - 11.96 Å\n",
      "\t75% - 14.21 Å\n",
      "Guest mol. QMOF\n",
      "\tMean (+- std): 11.38 (+- 3.16) Å\n",
      "\tMode: 8.91 (+- 0.71) Å\n",
      "\tMedian: 10.31 Å\n",
      "\tQuantiles:\n",
      "\t25% - 9.20 Å\n",
      "\t50% - 10.31 Å\n",
      "\t75% - 13.84 Å\n",
      "No prediction QMOF\n",
      "\tMean (+- std): 10.36 (+- 3.87) Å\n",
      "\tMode: 7.52 (+- 0.71) Å\n",
      "\tMedian: 9.98 Å\n",
      "\tQuantiles:\n",
      "\t25% - 7.58 Å\n",
      "\t50% - 9.98 Å\n",
      "\t75% - 12.53 Å\n",
      "General distribution QMOF\n",
      "\tMean (+- std): 10.76 (+- 3.86) Å\n",
      "\tMode: 11.79 (+- 0.82) Å\n",
      "\tMedian: 10.45 Å\n",
      "\tQuantiles:\n",
      "\t25% - 7.90 Å\n",
      "\t50% - 10.45 Å\n",
      "\t75% - 13.64 Å\n"
     ]
    }
   ],
   "source": [
    "stats = pd.DataFrame(columns=[\"Mean\", \"Std\", \"Mode\", \"Dev\", \"Median\", \"Q1\", \"Q2\", \"Q3\"])\n",
    "\n",
    "print(\"T/P QMOF\")\n",
    "stats.loc[\"T/P QMOF\"] = get_statistics(tp_lengths.values[:, 0])\n",
    "\n",
    "print(\"Guest mol. QMOF\")\n",
    "stats.loc[\"Guest mol. QMOF\"] = get_statistics(gm_lengths.values[:, 0])\n",
    "\n",
    "print(\"No prediction QMOF\")\n",
    "stats.loc[\"No prediction QMOF\"] = get_statistics(no_lengths.values[:, 0])\n",
    "\n",
    "print(\"General distribution QMOF\")\n",
    "stats.loc[\"General distribution QMOF\"] = get_statistics(np.concatenate([no_lengths.values[:, 0], tp_lengths.values[:, 0], gm_lengths.values[:, 0]]))"
   ]
  },
  {
   "cell_type": "code",
   "execution_count": 27,
   "metadata": {},
   "outputs": [
    {
     "data": {
      "text/plain": [
       "(-0.25716440536024576, 30.857748809079872)"
      ]
     },
     "execution_count": 27,
     "metadata": {},
     "output_type": "execute_result"
    },
    {
     "data": {
      "image/png": "[encoded data removed]",
      "text/plain": [
       "<Figure size 1500x1000 with 4 Axes>"
      ]
     },
     "metadata": {},
     "output_type": "display_data"
    }
   ],
   "source": [
    "fig, ((ax1, ax2), (ax3, ax4)) = plt.subplots(2, 2, figsize=(15, 10))\n",
    "\n",
    "# x1, bins, patch = ax1.hist(main_lengths.max_length.values, density=True, bins = 30, alpha=0.4, label=\"no prediction\", color='gray')\n",
    "ax1.hist(main_lengths.max_length.loc[main_lengths.target == 1].values, bins = bins, density=True, alpha=0.4, label=\"T/P\", color='red', edgecolor=\"black\", stacked=True)\n",
    "ax1.hist(main_lengths.max_length.loc[main_lengths.target == 0].values,bins = bins, density=True, alpha=0.4, label=\"Guest mol.\", color='blue', edgecolor=\"black\", stacked=True)\n",
    "ax1.set_title(\"With hydrogen and optimize the geometry\")\n",
    "ax1.set_xlabel(\"max length of largest linker, Å\")\n",
    "ax1.legend()\n",
    "\n",
    "ax2.hist(main_lengths.max_length.values,bins = bins, density=True, alpha=0.5, color='black', edgecolor=\"black\", stacked=True)\n",
    "ax2.set_title(\"General destitution main\")\n",
    "ax2.set_xlabel(\"max length of largest linker, Å\")\n",
    "ax2.set_ylim(ax1.get_ylim())\n",
    "ax2.set_xlim(ax1.get_xlim())\n",
    "\n",
    "\n",
    "ax3.hist(main_lengths.max_length.loc[main_lengths.target == 1],bins = bins, density=True, alpha=0.5, color='orange', edgecolor=\"black\")\n",
    "ax3.set_title(\"T/P\")\n",
    "ax3.set_xlabel(\"max length of largest linker, Å\")\n",
    "ax3.set_ylim(ax1.get_ylim())\n",
    "ax3.set_xlim(ax1.get_xlim())\n",
    "\n",
    "\n",
    "ax4.hist(main_lengths.max_length.loc[main_lengths.target == 0],bins = bins, density=True, alpha=0.5, color='green', edgecolor=\"black\")\n",
    "ax4.set_title(\"guest mol.\")\n",
    "ax4.set_xlabel(\"max length of largest linker, Å\")\n",
    "ax4.set_ylim(ax1.get_ylim())\n",
    "ax4.set_xlim(ax1.get_xlim())"
   ]
  },
  {
   "cell_type": "code",
   "execution_count": 28,
   "metadata": {},
   "outputs": [
    {
     "data": {
      "text/plain": [
       "<matplotlib.legend.Legend at 0x247a2165bd0>"
      ]
     },
     "execution_count": 28,
     "metadata": {},
     "output_type": "execute_result"
    },
    {
     "data": {
      "image/png": "[encoded data removed]",
      "text/plain": [
       "<Figure size 1800x300 with 3 Axes>"
      ]
     },
     "metadata": {},
     "output_type": "display_data"
    }
   ],
   "source": [
    "fig, (ax1, ax2, ax3) = plt.subplots(1, 3, figsize=(18, 3))\n",
    "\n",
    "\n",
    "ax1.hist(np.concatenate([no_lengths.values[:, 0], tp_lengths.values[:, 0], gm_lengths.values[:, 0]]),bins = bins, density=True, alpha=0.4, color='violet', label=\"QMOF\")\n",
    "\n",
    "ax1.hist(main_lengths.max_length.values,bins = bins, density=True, alpha=0.4, color='navy', label=\"Main\")\n",
    "\n",
    "ax1.set_title(\"General destitution\")\n",
    "ax1.set_xlabel(\"Length of largest linker, Å\")\n",
    "ax1.set_ylim(0, 0.5)\n",
    "# ax1.set_xlim()\n",
    "\n",
    "ax1.legend()\n",
    "\n",
    "\n",
    "ax2.hist(tp_lengths.values[:, 0],bins = bins, density=True, alpha=0.4, color='orange', label=\"QMOF\")\n",
    "ax2.hist(main_lengths.max_length.loc[main_lengths.target == 1],bins = bins, density=True, alpha=0.2, color='red', label=\"Main\")\n",
    "\n",
    "ax2.set_title(\"T/P\")\n",
    "ax2.set_xlabel(\"Length of largest linker, Å\")\n",
    "ax2.set_ylim(ax1.get_ylim())\n",
    "ax2.set_xlim(ax1.get_xlim())\n",
    "ax2.legend()\n",
    "\n",
    "ax3.hist(gm_lengths.values[:, 0],bins = bins, density=True, alpha=0.4, color='green', label=\"QMOF\")\n",
    "ax3.hist(main_lengths.max_length.loc[main_lengths.target == 0],bins = bins, density=True, alpha=0.4, color='blue', label=\"Main\")\n",
    "ax3.set_title(\"Guest mol.\")\n",
    "ax3.set_xlabel(\"Length of largest linker, Å\")\n",
    "ax3.set_ylim(ax1.get_ylim())\n",
    "ax3.set_xlim(ax1.get_xlim())\n",
    "ax3.legend()\n"
   ]
  },
  {
   "cell_type": "code",
   "execution_count": 29,
   "metadata": {},
   "outputs": [
    {
     "name": "stdout",
     "output_type": "stream",
     "text": [
      "T/P Main\n",
      "\tMean (+- std): 10.21 (+- 4.11) Å\n",
      "\tMode: 10.26 (+- 0.53) Å\n",
      "\tMedian: 9.98 Å\n",
      "\tQuantiles:\n",
      "\t25% - 7.84 Å\n",
      "\t50% - 9.98 Å\n",
      "\t75% - 11.70 Å\n",
      "Guest mol. Main\n",
      "\tMean (+- std): 12.03 (+- 4.93) Å\n",
      "\tMode: 10.51 (+- 0.49) Å\n",
      "\tMedian: 10.67 Å\n",
      "\tQuantiles:\n",
      "\t25% - 9.95 Å\n",
      "\t50% - 10.67 Å\n",
      "\t75% - 13.56 Å\n",
      "General distribution Main\n",
      "\tMean (+- std): 11.04 (+- 4.59) Å\n",
      "\tMode: 10.26 (+- 0.53) Å\n",
      "\tMedian: 10.43 Å\n",
      "\tQuantiles:\n",
      "\t25% - 8.13 Å\n",
      "\t50% - 10.43 Å\n",
      "\t75% - 11.94 Å\n"
     ]
    }
   ],
   "source": [
    "print(\"T/P Main\")\n",
    "stats.loc[\"T/P Main\"] = get_statistics(main_lengths.max_length.loc[main_lengths.target == 1])\n",
    "\n",
    "print(\"Guest mol. Main\")\n",
    "stats.loc[\"Guest mol. Main\"] = get_statistics(main_lengths.max_length.loc[main_lengths.target == 0])\n",
    "\n",
    "print(\"General distribution Main\")\n",
    "stats.loc[\"General distribution Main\"] = get_statistics(main_lengths.max_length)"
   ]
  },
  {
   "cell_type": "code",
   "execution_count": 30,
   "metadata": {},
   "outputs": [
    {
     "data": {
      "text/html": [
       "<div>\n",
       "<style scoped>\n",
       "    .dataframe tbody tr th:only-of-type {\n",
       "        vertical-align: middle;\n",
       "    }\n",
       "\n",
       "    .dataframe tbody tr th {\n",
       "        vertical-align: top;\n",
       "    }\n",
       "\n",
       "    .dataframe thead th {\n",
       "        text-align: right;\n",
       "    }\n",
       "</style>\n",
       "<table border=\"1\" class=\"dataframe\">\n",
       "  <thead>\n",
       "    <tr style=\"text-align: right;\">\n",
       "      <th></th>\n",
       "      <th>Mean</th>\n",
       "      <th>Std</th>\n",
       "      <th>Mode</th>\n",
       "      <th>Dev</th>\n",
       "      <th>Median</th>\n",
       "      <th>Q1</th>\n",
       "      <th>Q2</th>\n",
       "      <th>Q3</th>\n",
       "    </tr>\n",
       "  </thead>\n",
       "  <tbody>\n",
       "    <tr>\n",
       "      <th>T/P QMOF</th>\n",
       "      <td>11.803794</td>\n",
       "      <td>3.826334</td>\n",
       "      <td>14.217046</td>\n",
       "      <td>0.577395</td>\n",
       "      <td>11.961722</td>\n",
       "      <td>9.090310</td>\n",
       "      <td>11.961722</td>\n",
       "      <td>14.206862</td>\n",
       "    </tr>\n",
       "    <tr>\n",
       "      <th>Guest mol. QMOF</th>\n",
       "      <td>11.378259</td>\n",
       "      <td>3.164411</td>\n",
       "      <td>8.913525</td>\n",
       "      <td>0.713067</td>\n",
       "      <td>10.305302</td>\n",
       "      <td>9.196140</td>\n",
       "      <td>10.305302</td>\n",
       "      <td>13.839901</td>\n",
       "    </tr>\n",
       "    <tr>\n",
       "      <th>No prediction QMOF</th>\n",
       "      <td>10.358283</td>\n",
       "      <td>3.870961</td>\n",
       "      <td>7.521564</td>\n",
       "      <td>0.707157</td>\n",
       "      <td>9.976370</td>\n",
       "      <td>7.579703</td>\n",
       "      <td>9.976370</td>\n",
       "      <td>12.534367</td>\n",
       "    </tr>\n",
       "    <tr>\n",
       "      <th>General distribution QMOF</th>\n",
       "      <td>10.762229</td>\n",
       "      <td>3.863284</td>\n",
       "      <td>11.789106</td>\n",
       "      <td>0.817843</td>\n",
       "      <td>10.447452</td>\n",
       "      <td>7.901227</td>\n",
       "      <td>10.447452</td>\n",
       "      <td>13.640369</td>\n",
       "    </tr>\n",
       "    <tr>\n",
       "      <th>T/P Main</th>\n",
       "      <td>10.206517</td>\n",
       "      <td>4.114919</td>\n",
       "      <td>10.257105</td>\n",
       "      <td>0.531626</td>\n",
       "      <td>9.978615</td>\n",
       "      <td>7.836344</td>\n",
       "      <td>9.978615</td>\n",
       "      <td>11.697124</td>\n",
       "    </tr>\n",
       "    <tr>\n",
       "      <th>Guest mol. Main</th>\n",
       "      <td>12.033858</td>\n",
       "      <td>4.930169</td>\n",
       "      <td>10.508056</td>\n",
       "      <td>0.485841</td>\n",
       "      <td>10.674178</td>\n",
       "      <td>9.951690</td>\n",
       "      <td>10.674178</td>\n",
       "      <td>13.562813</td>\n",
       "    </tr>\n",
       "    <tr>\n",
       "      <th>General distribution Main</th>\n",
       "      <td>11.037127</td>\n",
       "      <td>4.594809</td>\n",
       "      <td>10.257105</td>\n",
       "      <td>0.531626</td>\n",
       "      <td>10.434720</td>\n",
       "      <td>8.132855</td>\n",
       "      <td>10.434720</td>\n",
       "      <td>11.944380</td>\n",
       "    </tr>\n",
       "  </tbody>\n",
       "</table>\n",
       "</div>"
      ],
      "text/plain": [
       "                                Mean       Std       Mode       Dev  \\\n",
       "T/P QMOF                   11.803794  3.826334  14.217046  0.577395   \n",
       "Guest mol. QMOF            11.378259  3.164411   8.913525  0.713067   \n",
       "No prediction QMOF         10.358283  3.870961   7.521564  0.707157   \n",
       "General distribution QMOF  10.762229  3.863284  11.789106  0.817843   \n",
       "T/P Main                   10.206517  4.114919  10.257105  0.531626   \n",
       "Guest mol. Main            12.033858  4.930169  10.508056  0.485841   \n",
       "General distribution Main  11.037127  4.594809  10.257105  0.531626   \n",
       "\n",
       "                              Median        Q1         Q2         Q3  \n",
       "T/P QMOF                   11.961722  9.090310  11.961722  14.206862  \n",
       "Guest mol. QMOF            10.305302  9.196140  10.305302  13.839901  \n",
       "No prediction QMOF          9.976370  7.579703   9.976370  12.534367  \n",
       "General distribution QMOF  10.447452  7.901227  10.447452  13.640369  \n",
       "T/P Main                    9.978615  7.836344   9.978615  11.697124  \n",
       "Guest mol. Main            10.674178  9.951690  10.674178  13.562813  \n",
       "General distribution Main  10.434720  8.132855  10.434720  11.944380  "
      ]
     },
     "execution_count": 30,
     "metadata": {},
     "output_type": "execute_result"
    }
   ],
   "source": [
    "stats"
   ]
  },
  {
   "cell_type": "code",
   "execution_count": null,
   "metadata": {},
   "outputs": [],
   "source": []
  }
 ],
 "metadata": {
  "kernelspec": {
   "display_name": "Python 3",
   "language": "python",
   "name": "python3"
  },
  "language_info": {
   "codemirror_mode": {
    "name": "ipython",
    "version": 3
   },
   "file_extension": ".py",
   "mimetype": "text/x-python",
   "name": "python",
   "nbconvert_exporter": "python",
   "pygments_lexer": "ipython3",
   "version": "3.10.11"
  }
 },
 "nbformat": 4,
 "nbformat_minor": 2
}
